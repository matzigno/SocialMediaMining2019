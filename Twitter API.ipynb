{
 "cells": [
  {
   "cell_type": "markdown",
   "metadata": {},
   "source": [
    "**Twitter** è essenziale un servizio di microblogging real-time che permette agli utenti di pubblicare brevi aggiornamenti di stato, **tweet**. Nel limite di 280 caratterri, un tweet può contenere vari elementi (entità), come luoghi, utenti, hashtag, etc..\n",
    "\n",
    "Dal punto di vista delle reti sociali, Twitter permette la creazione di link direzionati attraverso il modello del **following**, Ciò permette ad un utente A  di seguire un B, senza la necessità che B confermi la richiesta di essere seguito. Per questo motivo Twitter viene categorizzato come **interest graph**.\n",
    "\n",
    "### Tweets\n",
    "Un tweet è un oggetto complesso dal momento che non solo contiene il **testo** dello stato ma **metadati** quali entità e luoghi. Esempi di entità sono _user mentions_, _hashtag_, _URLs_, media associati al tweet e luoghi (dove è stato creato o riferimenti a luoghi nel testo).\n",
    "\n",
    "Ogni tweet è identificato da un **identificatore univoco** intero.\n",
    "\n",
    "I tweet possono essere collezionati in liste ordinate cronologicamente (?), i.e. **timeline**. Le timeline più utilizzate sono la *home timeline* che raccoglie i tweet degli account che l'utente loggato segue, e la *user_timeline*, la collezione di tweet prodotti da un determinato utente.\n",
    "\n",
    "La velocità di aggiornamento delle collezioni precedenti è relativamente bassa rispetto al tasso di produzione di tweet. Gli **stream** rappresentano collezioni con un elevato tasso di produzione in quanto restituiscono un campione dell'attività di Twitter in real-time.\n",
    "\n",
    "## Creazione di un'applicazione Twitter\n",
    "Per poter analizzare i dati di Twitter attraverso le API rilasciate è consigliato creare un'applicazione. \n",
    "\n",
    "Prima di procedere alla creazione di un'applicazione è necessario creare un account Twitter al link https://twitter.com/signup.\n",
    "\n",
    "Una volta registrati e loggati possiamo creare la nostra applicazione:\n",
    "1. Aprire la pagina https://developer.twitter.com/en/apps\n",
    "<img src='figures/PrimaApp.png'>\n",
    "2. Compilare i campi obbligatori, specificando il nome dell'applicazione, la descrizione e l'URL\n",
    "<img src='figures/FormApp.png'>\n",
    "3. Cliccare sul tab 'Keys and Access Tokens' e salvare nel file 'credentials.txt' i valori associati alle chiavi **Consumer Key (API Key)** e **Consumer Secret (API Secret)**\n",
    "<img src='figures/KeysApp.png'>\n",
    "\n",
    "Le chiavi salvate ci permettono di poter utilizzare le API di Twitter nella nostra applicazione. Le API di Twitter rappresentano uno dei 'prodotti' che Twitter mette a disposizione degli sviluppatori per poter utilizzare i servizi e i dati che la piattaforma offre. Alla pagina https://dev.twitter.com/ potete trovare i diversi servizi che Twitter offre. In queste lezioni utilizzeremo le APIs disponibili e documentate qui (https://dev.twitter.com/overview/api).\n",
    "\n",
    "Le API sono principalmente basate sul paradigma RESTful e sul protocollo OAuth 1.0 (autenticazione e autorizzazione).\n",
    "\n",
    "### Things Every Developer Should Know\n",
    "\n",
    "Prima di approfondire le API è utile riportare le 'Things Every Developer Should Know':\n",
    "1. Utilizzare il campo *id_str* anzichè *id*. L'intero *id* potrebbe superare il massimo valore rappresentabile dal linguaggio di programmazione utilizzato\n",
    "2. L'uso delle API è soggetto a **limitazioni** circa il tasso di richieste\n",
    "3. Le API pubbliche di Twitter consistono di una REST API e una _Streaming API_\n",
    "4. Twitter API (ad eccezione delle Streaming) tendono ad essere conformi con il paradigma REST. Per questo motivo una richiesta HTTP con metodo GET viene usata per ottenere dati dalle API, mentre il metodo POST crea, cambia o distrugge lo stato del dato.\n",
    "5. Le risposte seguendo il formato JSON\n",
    "6. Alcuni metodi richiedono parametri obbligatori. I valori dei parametri devono essere convertiti in UTF-8 e URL codificati.\n",
    "7. **Ci sono librerie per tutti i maggiori linguaggi di programmazione**\n",
    "\n",
    "## OAuth\n",
    "Finora abbiamo creato un'applicazione che può solo accedere ai dati dell'account che l'ha creata. \n",
    "\n",
    "**Perchè non passare le credenziali di accesso a Twitter?**\n",
    "\n",
    "Supponiamo che altri utenti Twitter vogliano utilizzare la nostra web application. Fornire le credenziali di Twitter all'applicazione non è la scelta migliore in quanto dati riservati vengono comunicati a terze parti (la nostra web application). Per ovviare a questo problema Twitter utilizza il protocollo OAuth1.0A per permettere agli utenti di autorizzare applicazioni terze all'accesso i dati associati ai loro account Twitter senza condivider informazioni sensibili.\n",
    "\n",
    "OAuth è l'acronimo di **open authorization**. Nonostante sia un protocollo utilizzato da molte online social platform, OAuth può essere applicato in qualsiasi situazione in cui l'utente vuole autorizzare un'applicazione ad agire per suo conto. L'utente può controllare i _permessi_ assegnati ad un'applicazione e revocarli in qualsiasi momento.\n",
    "\n",
    "In questa lezione utilizzeremo due flussi (_flow_ or _OAuth Dance_) previsti dal protocollo, che corrispondono ai due principali flussi di autorizzazione implementati da Twitter. Nella descrizione dei flussi avremo tre attori principali:\n",
    "* __client__: applicazione che richiede l'accesso ai dati\n",
    "* __server__o **service_provider**: servizio che ospita i dati dell'utente\n",
    "* __resource_owner__: utente che rilascia l'autorizzazione al client affinchè possa accedere ai dati ospitati dal service provider.\n",
    "\n",
    "I flussi di autenticazione/autorizzazione implementati da Twitter sono:\n",
    "\n",
    "1.**User Authentication**\n",
    "\n",
    "2.**Application-only authentication**\n",
    "\n",
    "In entrambi i casi il fine ultimo è ottenere un **access token** (stringa) che contiene i permessi rilasciati dall'utente. In Twitter l'access token ha durata illimitata; tuttavia può essere annullato se l'utente nega i permessi o l'applicazione viene sospesa dal Twitter admin. Per questo motivo ogni applicazione deve tener conto della possibilità di un token non valido.\n",
    "\n",
    "### Application-only authentication\n",
    "Twitter offre alle applicaziono la possibilità di inviare richiesta autenticate per conto dell'applicazione. Dal nostro punto di vista, questo flow rappresenta un vantaggio in quanto non necessitiamo del permesso degli utenti per poter acquisire un token valido. Ovviamente dal momento che il resource owner è escluso dal flusso non possiamo postare un tweet o intraprendere altre azioni che coinvolgono i permessi di scrittura degli utenti. \n",
    "\n",
    "Attraverso questo flusso di autenticazione la nostra applicazione può:\n",
    "* ottenere la timeline di un utente\n",
    "* accedere ai followers e amici di un account\n",
    "* accedere alla lista delle risorse\n",
    "* effettuare ricerche\n",
    "* ottenere le informazioni di un utente\n",
    "\n",
    "Il flusso di autenticazione richiede i seguenti passi:\n",
    "1. L'applicazione codifica consumer key e consumer secret in un insieme di credenziali\n",
    "2. L'applicazione esegue una richiesta HTTP POST alla risorsa **oauth/token** inviando l'insieme di credenziali. La risposta contiene un **bearer token**\n",
    "3. Il bearer token viene utilizzato per inviare richieste autenticate alle API REST\n",
    "\n",
    "Come mostrato in Figura il flusso 'application-only authentication' è molto semplice:\n",
    "<img src='figures/apponly-oauth.png'>\n",
    "\n",
    "Consumer key, consumer secret e bearer token sono informazioni sensibili. Per questo motivo non dovrebbero essere distribuite a terzi.\n",
    "\n",
    "Si raccomanda di utilizzare HTTPS.\n",
    "\n",
    "Dal momento che il flusso è semplice, vediamo in dettaglio i 3 passi della procedura di autenticazione\n",
    "#### Step 1: Codifica consumer key e secret key\n",
    "La procedura è la seguente:\n",
    "1. Codifica consumer key e consumer secret secondo RFC 1738 (in Python si può utilizzare il metodo **quote** del modulo **urllib**)\n",
    "2. Concatena le stringhe codificate separandole con il carattere ':'\n",
    "3. Codifica in Base64 (https://en.wikipedia.org/wiki/Base64) la stringa resultante"
   ]
  },
  {
   "cell_type": "code",
   "execution_count": null,
   "metadata": {
    "collapsed": true
   },
   "outputs": [],
   "source": [
    "consumer_key = 'Qlzz9gbRRvWNCqxaMe1a5FJ1I'\n",
    "consumer_secret = 'WyRwz63vvbI1DLyD6S8FPPsAaMBjtHR1lHi7aOs2gzGMVSWBsS'"
   ]
  },
  {
   "cell_type": "code",
   "execution_count": null,
   "metadata": {
    "collapsed": true
   },
   "outputs": [],
   "source": [
    "import urllib.parse\n",
    "import base64"
   ]
  },
  {
   "cell_type": "code",
   "execution_count": null,
   "metadata": {
    "collapsed": true
   },
   "outputs": [],
   "source": [
    "consumer_concatenata = '{}:{}'.format(urllib.parse.quote(consumer_key),urllib.parse.quote(consumer_secret))\n",
    "print(consumer_concatenata)"
   ]
  },
  {
   "cell_type": "code",
   "execution_count": null,
   "metadata": {
    "collapsed": true
   },
   "outputs": [],
   "source": [
    "consumer_base64 = base64.b64encode(consumer_concatenata.encode('utf-8'))\n",
    "print(consumer_base64)\n",
    "print('Authorization: Basic {}'.format(consumer_base64.decode('utf-8')))"
   ]
  },
  {
   "cell_type": "markdown",
   "metadata": {},
   "source": [
    "#### Step 2: Ottenere un bearer token\n",
    "La stringa creata deve essere inviata all'endpoint **oauth2/token** attraverso il metodo POST. La richiesta deve includere il campo **Authorization** nell'header, con valore **Basic** stringa creata. Il campo Content-Type deve assumere valore application/x-www-form-urlencoded;charset=UTF-8.  Mentre il corpo della richiesta è grant_type=client_credentials"
   ]
  },
  {
   "cell_type": "code",
   "execution_count": null,
   "metadata": {
    "collapsed": true
   },
   "outputs": [],
   "source": [
    "headers = {'Authorization': 'Basic {}'.format(consumer_base64.decode('utf-8')),\n",
    "          'Content-Type': 'application/x-www-form-urlencoded;charset=UTF-8'}"
   ]
  },
  {
   "cell_type": "code",
   "execution_count": null,
   "metadata": {
    "collapsed": true
   },
   "outputs": [],
   "source": [
    "import requests"
   ]
  },
  {
   "cell_type": "code",
   "execution_count": null,
   "metadata": {
    "collapsed": true
   },
   "outputs": [],
   "source": [
    "response = requests.post('https://api.twitter.com/oauth2/token',headers=headers,data={'grant_type':'client_credentials'})"
   ]
  },
  {
   "cell_type": "markdown",
   "metadata": {},
   "source": [
    "Analizziamo la richiesta"
   ]
  },
  {
   "cell_type": "code",
   "execution_count": null,
   "metadata": {
    "collapsed": true
   },
   "outputs": [],
   "source": [
    "print('{} {} {}'.format(response.request.method,response.request.path_url,'HTTP/1.1'))\n",
    "for k,v in response.request.headers.items():\n",
    "    print('{}: {}'.format(k,v))\n",
    "print()\n",
    "print(response.request.body)\n",
    "print(response.json())"
   ]
  },
  {
   "cell_type": "markdown",
   "metadata": {},
   "source": [
    "Se la richiesta è corretta, il server restituisce un risposta JSON. Il bearer token è associato alla chiave **access_token**.\n",
    "\n",
    "#### Step 3: Autenticare una richiesta con il bearer token\n",
    "Per inviare una richiesta ad un endpoint delle API che supporta application-only authorization, si costruisce una richiesta HTTPS che include il campo Authorization con valore 'Bearer bearer_token_ottenuto'"
   ]
  },
  {
   "cell_type": "code",
   "execution_count": null,
   "metadata": {
    "collapsed": true
   },
   "outputs": [],
   "source": [
    "bearer_token = response.json()['access_token']\n",
    "header = {'Authorization':'Bearer {}'.format(bearer_token),\n",
    "         'User-agent':'Mozilla/5.0 (Windows NT 10.0; Win64; x64) AppleWebKit/537.36 (KHTML, like Gecko) Chrome/56.0.2924.87 Safari/537.36'}"
   ]
  },
  {
   "cell_type": "code",
   "execution_count": null,
   "metadata": {
    "collapsed": true
   },
   "outputs": [],
   "source": [
    "response_from_api = requests.get('https://api.twitter.com/1.1/statuses/user_timeline.json?count=100&screen_name=twitterapi',headers=header)"
   ]
  },
  {
   "cell_type": "code",
   "execution_count": null,
   "metadata": {
    "collapsed": true
   },
   "outputs": [],
   "source": [
    "print('{} {} {}'.format(response_from_api.request.method,response_from_api.request.path_url,'HTTP/1.1'))\n",
    "for k,v in response_from_api.request.headers.items():\n",
    "    print('{}: {}'.format(k,v))"
   ]
  },
  {
   "cell_type": "code",
   "execution_count": null,
   "metadata": {
    "collapsed": true
   },
   "outputs": [],
   "source": [
    "data = response_from_api.json()"
   ]
  },
  {
   "cell_type": "code",
   "execution_count": null,
   "metadata": {
    "collapsed": true
   },
   "outputs": [],
   "source": [
    "data[0:2]"
   ]
  },
  {
   "cell_type": "markdown",
   "metadata": {},
   "source": [
    "## Modulo twitter\n",
    "I vari flussi di OAuth supportati da Twitter sono stati implementati in numerosi moduli. Tra questi scegliamo il modulo **twitter**. Utilizzando il modulo twitter non dobbiamo implementare da zero il flusso di autenticazione."
   ]
  },
  {
   "cell_type": "code",
   "execution_count": null,
   "metadata": {
    "collapsed": true
   },
   "outputs": [],
   "source": [
    "import twitter"
   ]
  },
  {
   "cell_type": "markdown",
   "metadata": {},
   "source": [
    "Il flusso di autenticazione implementato in precedenza diviene ..."
   ]
  },
  {
   "cell_type": "code",
   "execution_count": null,
   "metadata": {
    "collapsed": true
   },
   "outputs": [],
   "source": [
    "bearer_token = twitter.oauth2_dance(consumer_key=consumer_key,consumer_secret=consumer_secret)\n",
    "print(bearer_token)"
   ]
  },
  {
   "cell_type": "markdown",
   "metadata": {},
   "source": [
    "Una volta ottenuto il bearer token, creiamo un oggetto Twitter. L'oggetto Twitter sarà la nostra interfaccia per le Twitter API"
   ]
  },
  {
   "cell_type": "code",
   "execution_count": null,
   "metadata": {
    "collapsed": true
   },
   "outputs": [],
   "source": [
    "twitter_api_client = twitter.Twitter(auth=twitter.OAuth2(bearer_token=bearer_token))"
   ]
  },
  {
   "cell_type": "markdown",
   "metadata": {},
   "source": [
    "__N.B.__ : la seguente esperienza di laboratorio segue il capitolo 1 del libro **Mining the Social Web**.\n",
    "\n",
    "## Trending Topics\n",
    "Come primo approccio ci soffermiamo sui trending topics. I trending topics rappresentano le entità maggiormente citate in un periodo di tempo. I trending topics sono real-time, di conseguenza rappresentano lo stato attuale delle conversazioni e delle attività in Twitter.\n",
    "\n",
    "La risorsa che ci interessa è **GET trends/place** (https://developer.twitter.com/en/docs/trends/trends-for-location/api-reference/get-trends-place), che restituisce i 50 trending topic per una determinata nazione. La risposta è un'array di oggetti _trend_. I trending topics sono mantenuti in cache per 5 minuti. Per specificare la nazione sfrutto il parametro **id** che identifica un WOEID = Where On Earth ID. (Per maggiori informazioni si può visitare il sito https://developer.yahoo.com/geo/geoplanet/).\n",
    "\n",
    "Nel nostro caso collezioneremo i trending topics a Milano e li confronteremo con quelli di Madrid e Roma"
   ]
  },
  {
   "cell_type": "code",
   "execution_count": null,
   "metadata": {
    "collapsed": true
   },
   "outputs": [],
   "source": [
    "milan_woeid = 718345\n",
    "madrid_woeid = 766273\n",
    "rome_woeid = 721943"
   ]
  },
  {
   "cell_type": "code",
   "execution_count": null,
   "metadata": {
    "collapsed": true
   },
   "outputs": [],
   "source": [
    "milan_tt = twitter_api_client.trends.place(_id=milan_woeid)\n",
    "madrid_tt = twitter_api_client.trends.place(_id=madrid_woeid)\n",
    "rome_tt = twitter_api_client.trends.place(_id=rome_woeid)"
   ]
  },
  {
   "cell_type": "code",
   "execution_count": null,
   "metadata": {
    "collapsed": true
   },
   "outputs": [],
   "source": [
    "print(milan_tt)"
   ]
  },
  {
   "cell_type": "markdown",
   "metadata": {},
   "source": [
    "Anche se poco leggibile, il metodo restituisce una lista che contiene un dictionary. I trending topics sono associati al campo **trends**, il quale contiene una lista di oggetti trend.\n",
    "\n",
    "Dal punto di vista del codice, il metodo utilizzato crea una richiesta HTTP alla risorsa https://api.twitter.com/1.1/trends/place.json?id=718345 usando il metodo GET.\n",
    "\n",
    "### Rate Limits\n",
    "Twitter impone un vincolo al numero di richieste che posso essere effettuate attraverso un'applicazione. I limiti sono ben documentati per ogni risorsa. Per esempio se consideriamo la precedente risorsa https://dev.twitter.com/rest/reference/get/trends/place, il limite è fissato a 75 richieste ogni 15 minuti.\n",
    "\n",
    "Come primo passo risolviamo il problema della visualizzazione della risposta utilizzando il modulo json. Tale modulo mette a disposizione il metodo **dumps**  il quale trasforma un dictionary in una stringa. Tramite il parametro **indent** possiamo formattare la nostra stringa aumentando la leggibilità."
   ]
  },
  {
   "cell_type": "code",
   "execution_count": null,
   "metadata": {
    "collapsed": true
   },
   "outputs": [],
   "source": [
    "import json"
   ]
  },
  {
   "cell_type": "code",
   "execution_count": null,
   "metadata": {
    "collapsed": true
   },
   "outputs": [],
   "source": [
    "print(json.dumps(milan_tt,indent=1))"
   ]
  },
  {
   "cell_type": "markdown",
   "metadata": {},
   "source": [
    "Supponiamo di rispondere alla domanda: \"Quali sono i trending topics comuni nelle due città?\".\n",
    "\n",
    "Per rispondere a questa domanda useremo una struttura dati built-in detta **set** che modella un insieme di oggetti = collezione non ordinata di oggetti unici. L'oggetto set mette a disposizione tutti i metodi tipici degli insiemi, quali intersezione, unione, differenza, etc..\n",
    "\n",
    "Procediamo trasformando i trending topic in un insieme..."
   ]
  },
  {
   "cell_type": "code",
   "execution_count": null,
   "metadata": {
    "collapsed": true
   },
   "outputs": [],
   "source": [
    "milan_tt_set = set()\n",
    "for trend in milan_tt[0]['trends']:\n",
    "    milan_tt_set.add(trend['name'])"
   ]
  },
  {
   "cell_type": "code",
   "execution_count": null,
   "metadata": {
    "collapsed": true
   },
   "outputs": [],
   "source": [
    "rome_tt_set = set()\n",
    "for trend in rome_tt[0]['trends']:\n",
    "    rome_tt_set.add(trend['name'])\n",
    "madrid_tt_set = set()\n",
    "for trend in madrid_tt[0]['trends']:\n",
    "    madrid_tt_set.add(trend['name'])"
   ]
  },
  {
   "cell_type": "code",
   "execution_count": null,
   "metadata": {
    "collapsed": true
   },
   "outputs": [],
   "source": [
    "trend_comuni = rome_tt_set.intersection(milan_tt_set)\n",
    "for t in trend_comuni:\n",
    "    print(t)"
   ]
  },
  {
   "cell_type": "code",
   "execution_count": null,
   "metadata": {
    "collapsed": true
   },
   "outputs": [],
   "source": [
    "print(len(trend_comuni), len(milan_tt_set))\n",
    "print(milan_tt_set.intersection(madrid_tt_set))\n",
    "print(len(milan_tt_set.intersection(madrid_tt_set)))"
   ]
  },
  {
   "cell_type": "markdown",
   "metadata": {},
   "source": [
    "## Ricerca di tweet\n",
    "Supponiamo di voler cercare alcuni tweets che si riferiscono ad uno dei trending topic nell'intersezione tra Milano e Roma. \n",
    "\n",
    "https://dev.twitter.com/rest/reference/get/search/tweets **GET search/tweets** restituisce una collezione di tweet conformi ai criteri di ricerca specificati.\n",
    "La risorsa richiede i seguenti parametri:\n",
    "\n",
    "<h2>Parametri<a class=\"headerlink\" href=\"#parameters\" title=\"Permalink to this headline\"></a></h2>\n",
    "<table border=\"1\" class=\"docutils\">\n",
    "<colgroup>\n",
    "<col width=\"20%\" />\n",
    "<col width=\"20%\" />\n",
    "<col width=\"20%\" />\n",
    "<col width=\"20%\" />\n",
    "<col width=\"20%\" />\n",
    "</colgroup>\n",
    "<tbody valign=\"top\">\n",
    "<tr class=\"row-odd\"><td>Name</td>\n",
    "<td>Required</td>\n",
    "<td>Description</td>\n",
    "<td>Default Value</td>\n",
    "<td>Example</td>\n",
    "</tr>\n",
    "<tr class=\"row-even\"><td>q</td>\n",
    "<td><strong>required</strong></td>\n",
    "<td>A UTF-8, URL-encoded search query of 500 characters maximum, including\n",
    "operators. Queries may additionally be limited by complexity.</td>\n",
    "<td>&nbsp;</td>\n",
    "<td><em>&#64;noradio</em></td>\n",
    "</tr>\n",
    "<tr class=\"row-odd\"><td>geocode</td>\n",
    "<td>optional</td>\n",
    "<td>Returns tweets by users located within a given radius of the given\n",
    "latitude/longitude. The location is preferentially taking from the Geotagging\n",
    "API, but will fall back to their Twitter profile. The parameter value is\n",
    "specified by &#8221; <em>latitude,longitude,radius</em> &#8221;, where radius units must be\n",
    "specified as either &#8221; <em>mi</em> &#8221; (miles) or &#8221; <em>km</em> &#8221; (kilometers). Note that you\n",
    "cannot use the near operator via the API to geocode arbitrary locations; however\n",
    "you can use this <em>geocode</em> parameter to search near geocodes directly. A maximum\n",
    "of 1,000 distinct &#8220;sub-regions&#8221; will be considered when using the radius\n",
    "modifier.</td>\n",
    "<td>&nbsp;</td>\n",
    "<td><em>37.781157 -122.398720 1mi</em></td>\n",
    "</tr>\n",
    "<tr class=\"row-even\"><td>lang</td>\n",
    "<td>optional</td>\n",
    "<td>Restricts tweets to the given language, given by an <a class=\"reference external\" href=\"http://en.wikipedia.org/wiki/List_of_ISO_639-1_codes\">ISO\n",
    "639-1</a> code. Language\n",
    "detection is best-effort.</td>\n",
    "<td>&nbsp;</td>\n",
    "<td><em>eu</em></td>\n",
    "</tr>\n",
    "<tr class=\"row-odd\"><td>locale</td>\n",
    "<td>optional</td>\n",
    "<td>Specify the language of the query you are sending (only <em>ja</em> is currently\n",
    "effective). This is intended for language-specific consumers and the default\n",
    "should work in the majority of cases.</td>\n",
    "<td>&nbsp;</td>\n",
    "<td><em>ja</em></td>\n",
    "</tr>\n",
    "<tr class=\"row-even\"><td>result_type</td>\n",
    "<td>optional</td>\n",
    "<td><p class=\"first\">Optional. Specifies what type of search results you would prefer to receive. The\n",
    "current default is &#8220;mixed.&#8221; Valid values include:</p>\n",
    "<p>* <em>mixed</em> : Include both popular and real time results in the response.</p>\n",
    "<p>* <em>recent</em> : return only the most recent results in the response</p>\n",
    "<p class=\"last\">* <em>popular</em> : return only the most popular results in the response.</p>\n",
    "</td>\n",
    "<td>&nbsp;</td>\n",
    "<td><em>mixed</em> <em>recent</em> <em>popular</em></td>\n",
    "</tr>\n",
    "<tr class=\"row-odd\"><td>count</td>\n",
    "<td>optional</td>\n",
    "<td>The number of tweets to return per page, up to a maximum of 100. Defaults to 15.\n",
    "This was formerly the &#8220;rpp&#8221; parameter in the old Search API.</td>\n",
    "<td>&nbsp;</td>\n",
    "<td><em>100</em></td>\n",
    "</tr>\n",
    "<tr class=\"row-even\"><td>until</td>\n",
    "<td>optional</td>\n",
    "<td>Returns tweets created before the given date. Date should be formatted as\n",
    "YYYY-MM-DD. Keep in mind that the <strong>search index has a 7-day limit</strong>. In other\n",
    "words, no tweets will be found for a date older than one week.</td>\n",
    "<td>&nbsp;</td>\n",
    "<td><em>2015-07-19</em></td>\n",
    "</tr>\n",
    "<tr class=\"row-odd\"><td>since_id</td>\n",
    "<td>optional</td>\n",
    "<td>Returns results with an ID greater than (that is, more recent than) the\n",
    "specified ID. There are limits to the number of Tweets which can be accessed\n",
    "through the API. If the limit of Tweets has occured since the since_id, the\n",
    "since_id will be forced to the oldest ID available.</td>\n",
    "<td>&nbsp;</td>\n",
    "<td><em>12345</em></td>\n",
    "</tr>\n",
    "<tr class=\"row-even\"><td>max_id</td>\n",
    "<td>optional</td>\n",
    "<td>Returns results with an ID less than (that is, older than) or equal to the\n",
    "specified ID.</td>\n",
    "<td>&nbsp;</td>\n",
    "<td><em>54321</em></td>\n",
    "</tr>\n",
    "<tr class=\"row-odd\"><td>include_entities</td>\n",
    "<td>optional</td>\n",
    "<td>The <em>entities</em> node will not be included when set to <em>false</em>.</td>\n",
    "<td>&nbsp;</td>\n",
    "<td><em>false</em></td>\n",
    "</tr>\n",
    "</tbody>\n",
    "</table>\n",
    "\n",
    "L'unico parametro obbligatorio è q, che indica la query di ricerca.\n",
    "\n",
    "### Come costruire una query\n",
    "Il modo migliore per costruire e testare un query è eseguirla usando la ricerca di Twitter https://twitter.com/search. Se i risultati sono corretti, l'URL mostrato dal browser contiene la sintassi corretta da passare all'argomento q. L'unica differenza concerne il vincolo temporale dei 7 giorni. La ricerca tramite Twitter Search può restituire tweets più vecchi di 7 giorni.\n",
    "\n",
    "Nella costruzione della query posso applicare i seguenti operatori:\n",
    "\n",
    "<table border=\"1\" class=\"docutils\">\n",
    "<colgroup>\n",
    "<col width=\"27%\" />\n",
    "<col width=\"73%\" />\n",
    "</colgroup>\n",
    "<thead valign=\"bottom\">\n",
    "<tr class=\"row-odd\"><th class=\"head\">Operator</th>\n",
    "<th class=\"head\">Finds Tweets...</th>\n",
    "</tr>\n",
    "</thead>\n",
    "<tbody valign=\"top\">\n",
    "<tr class=\"row-even\"><td>watching now</td>\n",
    "<td>containing both &#8220;watching&#8221; and &#8220;now&#8221;. This is the default operator.</td>\n",
    "</tr>\n",
    "<tr class=\"row-odd\"><td>&#8220;happy hour&#8221;</td>\n",
    "<td>containing the exact phrase &#8220;happy hour&#8221;.</td>\n",
    "</tr>\n",
    "<tr class=\"row-even\"><td>love OR hate</td>\n",
    "<td>containing either &#8220;love&#8221; or &#8220;hate&#8221; (or both).</td>\n",
    "</tr>\n",
    "<tr class=\"row-odd\"><td>beer -root</td>\n",
    "<td>containing &#8220;beer&#8221; but not &#8220;root&#8221;.</td>\n",
    "</tr>\n",
    "<tr class=\"row-even\"><td>#haiku</td>\n",
    "<td>containing the hashtag &#8220;haiku&#8221;.</td>\n",
    "</tr>\n",
    "<tr class=\"row-odd\"><td>from:interior</td>\n",
    "<td>sent from Twitter account &#8220;interior&#8221;.</td>\n",
    "</tr>\n",
    "<tr class=\"row-even\"><td>list:NASA/astronauts-in-space-now</td>\n",
    "<td>sent from a Twitter account in the NASA list astronauts-in-space-now</td>\n",
    "</tr>\n",
    "<tr class=\"row-odd\"><td>to:NASA</td>\n",
    "<td>a Tweet authored in reply to Twitter account &#8220;NASA&#8221;.</td>\n",
    "</tr>\n",
    "<tr class=\"row-even\"><td>&#64;NASA</td>\n",
    "<td>mentioning Twitter account &#8220;NASA&#8221;.</td>\n",
    "</tr>\n",
    "<tr class=\"row-odd\"><td>politics filter:safe</td>\n",
    "<td>containing &#8220;politics&#8221; with Tweets marked as potentially sensitive removed.</td>\n",
    "</tr>\n",
    "<tr class=\"row-even\"><td>puppy filter:media</td>\n",
    "<td>containing &#8220;puppy&#8221; and an image or video.</td>\n",
    "</tr>\n",
    "<tr class=\"row-odd\"><td>puppy filter:native_video</td>\n",
    "<td>containing &#8220;puppy&#8221; and an uploaded video, Amplify video, Periscope, or Vine.</td>\n",
    "</tr>\n",
    "<tr class=\"row-even\"><td>puppy filter:periscope</td>\n",
    "<td>containing &#8220;puppy&#8221; and a Periscope video URL.</td>\n",
    "</tr>\n",
    "<tr class=\"row-odd\"><td>puppy filter:vine</td>\n",
    "<td>containing &#8220;puppy&#8221; and a Vine.</td>\n",
    "</tr>\n",
    "<tr class=\"row-even\"><td>puppy filter:images</td>\n",
    "<td>containing &#8220;puppy&#8221; and links identified as photos, including third parties such as Instagram.</td>\n",
    "</tr>\n",
    "<tr class=\"row-odd\"><td>puppy filter:twimg</td>\n",
    "<td>containing &#8220;puppy&#8221; and a pic.twitter.com link representing one or more photos.</td>\n",
    "</tr>\n",
    "<tr class=\"row-even\"><td>hilarious filter:links</td>\n",
    "<td>containing &#8220;hilarious&#8221; and linking to URL.</td>\n",
    "</tr>\n",
    "<tr class=\"row-odd\"><td>puppy url:amazon</td>\n",
    "<td>containing “puppy” and a URL with the word “amazon” anywhere within it.</td>\n",
    "</tr>\n",
    "<tr class=\"row-even\"><td>superhero since:2015-12-21</td>\n",
    "<td>containing &#8220;superhero&#8221; and sent since date &#8220;2015-12-21&#8221; (year-month-day).</td>\n",
    "</tr>\n",
    "<tr class=\"row-odd\"><td>puppy until:2015-12-21</td>\n",
    "<td>containing &#8220;puppy&#8221; and sent before the date &#8220;2015-12-21&#8221;.</td>\n",
    "</tr>\n",
    "<tr class=\"row-even\"><td>movie -scary :)</td>\n",
    "<td>containing &#8220;movie&#8221;, but not &#8220;scary&#8221;, and with a positive attitude.</td>\n",
    "</tr>\n",
    "<tr class=\"row-odd\"><td>flight :(</td>\n",
    "<td>containing &#8220;flight&#8221; and with a negative attitude.</td>\n",
    "</tr>\n",
    "<tr class=\"row-even\"><td>traffic ?</td>\n",
    "<td>containing &#8220;traffic&#8221; and asking a question.</td>\n",
    "</tr>\n",
    "</tbody>\n",
    "</table>\n",
    "\n",
    "Ora possiamo cerca un trending topic scelto a caso tra quelli contenuti nell'intersezione..."
   ]
  },
  {
   "cell_type": "code",
   "execution_count": null,
   "metadata": {
    "collapsed": true
   },
   "outputs": [],
   "source": [
    "import random"
   ]
  },
  {
   "cell_type": "code",
   "execution_count": null,
   "metadata": {
    "collapsed": true
   },
   "outputs": [],
   "source": [
    "query = random.choice(list(trend_comuni))\n",
    "print(query)"
   ]
  },
  {
   "cell_type": "code",
   "execution_count": null,
   "metadata": {
    "collapsed": true
   },
   "outputs": [],
   "source": [
    "risultati_ricerca = twitter_api_client.search.tweets(q=query,count=100)"
   ]
  },
  {
   "cell_type": "markdown",
   "metadata": {},
   "source": [
    "La collezione dei tweets è associata alla chiave **statuses**"
   ]
  },
  {
   "cell_type": "code",
   "execution_count": null,
   "metadata": {
    "collapsed": true
   },
   "outputs": [],
   "source": [
    "tweets = risultati_ricerca['statuses']"
   ]
  },
  {
   "cell_type": "markdown",
   "metadata": {},
   "source": [
    "Per ora abbiamo ottenuto solo 100 tweets. Come possiamo estendere la nostra ricerca includendo più tweets ?\n",
    "\n",
    "Il dictionary restituito contiene un ulteriore campo **search_metadata**..."
   ]
  },
  {
   "cell_type": "code",
   "execution_count": null,
   "metadata": {
    "collapsed": true
   },
   "outputs": [],
   "source": [
    "print(json.dumps(risultati_ricerca['search_metadata'],indent=1))"
   ]
  },
  {
   "cell_type": "markdown",
   "metadata": {},
   "source": [
    "Il valore che ci interessa è quello associato a **refresh_url**. Esso indica quali parametri devo inserire nella richiesta successiva."
   ]
  },
  {
   "cell_type": "code",
   "execution_count": null,
   "metadata": {
    "collapsed": true
   },
   "outputs": [],
   "source": [
    "from urllib.parse import urlparse"
   ]
  },
  {
   "cell_type": "code",
   "execution_count": null,
   "metadata": {
    "collapsed": true
   },
   "outputs": [],
   "source": [
    "risultati_ricerca = twitter_api_client.search.tweets(q=query,count=100)\n",
    "tweets = risultati_ricerca['statuses']\n",
    "for _ in range(5):\n",
    "    try:\n",
    "        next_results = risultati_ricerca['search_metadata']['next_results']\n",
    "        print(next_results)\n",
    "    except KeyError:\n",
    "        break\n",
    "    kwargs = dict([tuple(k.split('=')) for k in next_results[1:].split('&')])\n",
    "    kwargs['q'] = query\n",
    "    risultati_ricerca = twitter_api_client.search.tweets(**kwargs)\n",
    "    tweets.extend(risultati_ricerca['statuses'])"
   ]
  },
  {
   "cell_type": "code",
   "execution_count": null,
   "metadata": {
    "collapsed": true
   },
   "outputs": [],
   "source": [
    "results_pretty = json.dumps(tweets[0],indent=1)\n",
    "len(tweets)"
   ]
  },
  {
   "cell_type": "markdown",
   "metadata": {},
   "source": [
    "Se apriamo il file <a href='tweet.json'>tweet.json</a> possiamo osservato che le informazioni associate ad un tweet sono molteplici"
   ]
  },
  {
   "cell_type": "markdown",
   "metadata": {},
   "source": [
    "## Analisi del testo di un tweet\n",
    "La documentazione completa per l'oggetto _Tweet_ è disponibile al seguente URL: https://dev.twitter.com/overview/api/tweets.\n",
    "\n",
    "* il testo di un tweet è associato alla chiave _text_"
   ]
  },
  {
   "cell_type": "code",
   "execution_count": null,
   "metadata": {
    "collapsed": true
   },
   "outputs": [],
   "source": [
    "t = tweets[1]\n",
    "print(t['text'])"
   ]
  },
  {
   "cell_type": "code",
   "execution_count": null,
   "metadata": {
    "collapsed": true
   },
   "outputs": [],
   "source": [
    "t['text']\n",
    "print(json.dumps(t,indent=1))"
   ]
  },
  {
   "cell_type": "markdown",
   "metadata": {},
   "source": [
    "* le entità nel testo sono associate alla chiave _entities_"
   ]
  },
  {
   "cell_type": "code",
   "execution_count": null,
   "metadata": {
    "collapsed": true
   },
   "outputs": [],
   "source": [
    "t['entities']"
   ]
  },
  {
   "cell_type": "markdown",
   "metadata": {},
   "source": [
    "* l'interesse di un tweet è misurabile attraverso il numero di like (favorite) e retweet. Le proprietà associate sono associate ai campi *favorite_count* e *retweet_count*"
   ]
  },
  {
   "cell_type": "code",
   "execution_count": null,
   "metadata": {
    "collapsed": true
   },
   "outputs": [],
   "source": [
    "print(t['favorite_count'],t['retweet_count'])"
   ]
  },
  {
   "cell_type": "markdown",
   "metadata": {},
   "source": [
    "* Se un tweet è frutto di un'azione di retweet, il tweet originale è disponibile attraverso la proprietà *retweeted_status*. Il testo del retweeted può essere diverso dal testo del tweet originale."
   ]
  },
  {
   "cell_type": "code",
   "execution_count": null,
   "metadata": {
    "collapsed": true
   },
   "outputs": [],
   "source": [
    "t['retweeted_status']['text']"
   ]
  },
  {
   "cell_type": "markdown",
   "metadata": {},
   "source": [
    "### Estrarre le entità\n",
    "Dalla collezione di tweet estraiamo il testo e le relative entità memorizzandole in opportune strutture."
   ]
  },
  {
   "cell_type": "code",
   "execution_count": null,
   "metadata": {
    "collapsed": true
   },
   "outputs": [],
   "source": [
    "tweets_text = [t['text'] for t in tweets]\n",
    "#tweets_text = []\n",
    "#for t in tweets:\n",
    "#    tweets_text.append(t['text'])\n",
    "screen_names = [u['screen_name'] for t in tweets for u in t['entities']['user_mentions']]\n",
    "hashtags = [h['text'] for t in tweets for h in t['entities']['hashtags']]\n",
    "hashtags = []\n",
    "for t in tweets:\n",
    "    for h in t['entities']['hashtags']:\n",
    "        hashtags.append(h['text'])\n",
    "words = [w for text in tweets_text for w in text.split()]"
   ]
  },
  {
   "cell_type": "markdown",
   "metadata": {},
   "source": [
    "### Conteggio delle entità\n",
    "Nella scorsa lezione abbiamo imparato a contare le occorrenze degli elementi dato una lista di numeri attraverso il metodo histogram. Lo stesso metodo non è più valido se vogliano contare le parole in un testo. Per poter contare questo tipo di dati utilizziamo la classe **Counter** del modulo **collections**.\n",
    "\n",
    "Come primo passo calcoliamo la frequenza delle parole contenute nelle 3 liste."
   ]
  },
  {
   "cell_type": "code",
   "execution_count": null,
   "metadata": {
    "collapsed": true
   },
   "outputs": [],
   "source": [
    "from collections import Counter"
   ]
  },
  {
   "cell_type": "code",
   "execution_count": null,
   "metadata": {
    "collapsed": true
   },
   "outputs": [],
   "source": [
    "for e in [words,hashtags,screen_names]:\n",
    "    c = Counter(e)\n",
    "    print(c.most_common()[:10])\n",
    "    print()"
   ]
  },
  {
   "cell_type": "markdown",
   "metadata": {},
   "source": [
    "Il risultato del metodo most_common è un dictionary le cui chiavi sono le parole e i cui valori sono il conteggio di quei valori nella lista passata come argomento all'oggetto Counter.\n",
    "\n",
    "Possiamo visualizzare i dati restituiti come una tabella utilizzando il modulo **prettytable**"
   ]
  },
  {
   "cell_type": "code",
   "execution_count": null,
   "metadata": {
    "collapsed": true
   },
   "outputs": [],
   "source": [
    "from prettytable import PrettyTable"
   ]
  },
  {
   "cell_type": "code",
   "execution_count": null,
   "metadata": {
    "collapsed": true
   },
   "outputs": [],
   "source": [
    "for nome, data in (('Word',words),('Hashtag',hashtags),('Screen Name',screen_names)):\n",
    "    pt = PrettyTable(field_names=[nome,'Conteggio'])\n",
    "    c = Counter(data)\n",
    "    for kv in c.most_common()[:10]:\n",
    "        pt.add_row(kv)\n",
    "    pt.align[nome], pt.align['Count'] = 'l','r'\n",
    "    print(pt)"
   ]
  },
  {
   "cell_type": "markdown",
   "metadata": {},
   "source": [
    "### Analisi dei retweet\n",
    "L'azione del retweet è molto importante in Twitter in quanto permette di diffondere un contenuto. Nella nostra collezione di tweet valuteremo quanti tweets sono frutto di un retweet e quali sono i tweet originali.\n",
    "\n",
    "Il primo passo consiste nell'individuare i retweet"
   ]
  },
  {
   "cell_type": "code",
   "execution_count": null,
   "metadata": {
    "collapsed": true
   },
   "outputs": [],
   "source": [
    "retweets = set([(t['retweet_count'],t['retweeted_status']['user']['screen_name'],t['text']) for t in tweets if 'retweeted_status' in t])"
   ]
  },
  {
   "cell_type": "markdown",
   "metadata": {},
   "source": [
    "Ogni elemento della lista retweets è costituito dal testo del retweet compreso di RT @username, il numero di retweet e l'utente creatore del tweet originale"
   ]
  },
  {
   "cell_type": "code",
   "execution_count": null,
   "metadata": {
    "collapsed": true
   },
   "outputs": [],
   "source": [
    "pt = PrettyTable(field_names=['Count','Screen Name','Text'])\n",
    "[pt.add_row(riga) for riga in sorted(retweets,reverse=True)[:5]]\n",
    "pt.max_width['Text'] = 50\n",
    "pt.align = 'l'\n",
    "print(pt)"
   ]
  },
  {
   "cell_type": "markdown",
   "metadata": {},
   "source": [
    "### Utenti che hanno retweetato un tweet\n",
    "La risorsa https://dev.twitter.com/rest/reference/get/statuses/retweeters/ids ** statuses/retweeters/ids** restituisce gli utenti (ID) che hanno retweetato un tweet. Nello specifico la risorsa gli utenti che hanno retweetato usando le API native di Twitter. In effetti è possibile retweetare copiando il test del tweet e anteponendo la stringa 'RT @username'. Questa pratica permette di aggiungere un breve commento al tweet originale mantenendo la volontà di retweetare."
   ]
  },
  {
   "cell_type": "code",
   "execution_count": null,
   "metadata": {
    "collapsed": true
   },
   "outputs": [],
   "source": [
    "twitter_api_client.statuses.retweeters.ids(_id=844557350228955137)['ids']"
   ]
  },
  {
   "cell_type": "markdown",
   "metadata": {},
   "source": [
    "### Ottenere le informazioni del profile dell'utente\n",
    "La risorsa https://dev.twitter.com/rest/reference/get/users/lookup **users/lookup** permette di ottenere le informazioni riguardanti il profilo di uno o più utenti(id o screen_name)"
   ]
  },
  {
   "cell_type": "code",
   "execution_count": null,
   "metadata": {
    "collapsed": true
   },
   "outputs": [],
   "source": [
    "def get_user_profile(twitter_api,screen_names=None,user_ids=None):\n",
    "    items = screen_names or user_ids\n",
    "    items_to_info = {}\n",
    "    while len(items)>0:\n",
    "        items_str = ','.join([str(item) for item in items[:100]])\n",
    "        items = items[100:]\n",
    "        if screen_names:\n",
    "            response = twitter_api.users.lookup(screen_name=items_str)\n",
    "        else: \n",
    "            response = twitter_api.users.lookup(user_id=items_str)\n",
    "    for user_info in response:\n",
    "        if screen_names:\n",
    "            items_to_info[user_info['screen_name']] = user_info\n",
    "        else:\n",
    "            items_to_info[user_info['id']] = user_info\n",
    "    return items_to_info"
   ]
  },
  {
   "cell_type": "code",
   "execution_count": null,
   "metadata": {
    "collapsed": true
   },
   "outputs": [],
   "source": [
    "for k,v in get_user_profile(twitter_api_client,user_ids=[2968266731, 1949966430, 732084666803617792, 1961016907, 1316984629]).items():\n",
    "    print(k, v['screen_name'])"
   ]
  },
  {
   "cell_type": "markdown",
   "metadata": {},
   "source": [
    "### Estrarre followers e friends\n",
    "La risorsa https://dev.twitter.com/rest/reference/get/followers/ids **followers/ids** restituisce una collezione di user ID che seguono l'utente specifico. I risultati sono ordinati cronologicamente in gruppi di al più 5000 elementi. \n",
    "\n",
    "La risorsa https://dev.twitter.com/rest/reference/get/friends/ids restituisce una collezione di utenti che l'utente segue.\n",
    "\n",
    "**Esercizio**: Ottenere i follower e i followee dell'account con screen_name 'complex_nets'"
   ]
  },
  {
   "cell_type": "code",
   "execution_count": null,
   "metadata": {
    "collapsed": true
   },
   "outputs": [],
   "source": []
  },
  {
   "cell_type": "code",
   "execution_count": null,
   "metadata": {
    "collapsed": true
   },
   "outputs": [],
   "source": [
    "# print dei risultati"
   ]
  },
  {
   "cell_type": "markdown",
   "metadata": {},
   "source": [
    "Una prima analisi dell'insieme dei followers e friend consiste nel valutare l'intersezione = link reciproci\n",
    "\n",
    "**Esercizio**: calcolare il numero di link reciproci"
   ]
  },
  {
   "cell_type": "code",
   "execution_count": null,
   "metadata": {
    "collapsed": true
   },
   "outputs": [],
   "source": []
  },
  {
   "cell_type": "markdown",
   "metadata": {},
   "source": [
    "## Esercizio: ottenere i follower di un hub-user\n",
    "Ottenere i follower dell' account con screen_name **beppesevergnini**"
   ]
  },
  {
   "cell_type": "code",
   "execution_count": 39,
   "metadata": {},
   "outputs": [
    {
     "data": {
      "text/plain": [
       "'1623973299186749639'"
      ]
     },
     "execution_count": 39,
     "metadata": {},
     "output_type": "execute_result"
    }
   ],
   "source": [
    "twitter_api_client.followers.ids(screen_name = 'beppesevergnini',cursor=-1)['next_cursor_str']"
   ]
  },
  {
   "cell_type": "markdown",
   "metadata": {},
   "source": [
    "L'account indicato ha più di 1 milione di follower, ma la richiesta mi restituisce al massimo 5000 follower. Come posso ottenere altri follower?\n",
    "\n",
    "Quali sono le chiavi dell'oggetto JSON restituito dalla risorsa?"
   ]
  },
  {
   "cell_type": "code",
   "execution_count": 38,
   "metadata": {},
   "outputs": [
    {
     "data": {
      "text/plain": [
       "'1619395286194798550'"
      ]
     },
     "execution_count": 38,
     "metadata": {},
     "output_type": "execute_result"
    }
   ],
   "source": [
    "twitter_api_client.followers.ids(screen_name = 'beppesevergnini',cursor='1623973299186749639')['next_cursor_str']"
   ]
  },
  {
   "cell_type": "markdown",
   "metadata": {},
   "source": [
    "## Cursoring\n",
    "\n",
    "Le Twitter API utilizzano la tecnica del **cursoring** suddividere un grande insieme di risulati. Il meccanismo del cursoring prevede la separazione dei risultati in pagine la cui dimensione dipende dal parametro **count** passato nella richiesta e la possibilità di muoversi avanti e indietro nelle pagine.\n",
    "\n",
    "La risposta di una risorsa che implementa il cursoring contiene i campi  **previous_cursor**, **next_cursor**, **previous_cursor_str** e **next_cursor_str**; come abbiamo visto nella soluzione dell'esercizio precedente.\n",
    "Il valore associato a **next_cursor** deve essere inviato all'endpoint in modo tale da ricevere la prossima pagina di risultati. Il parametro che viene passato all'endpoint è **cursor**. Quando **next_cursor=0**, non ci sono più pagine da richiedere.\n",
    "\n",
    "Di seguit lo pseudo-codice per ottenere tutti i risultati restituiti da endpoint che supportano il cursoring\n",
    "```\n",
    "cursor = -1\n",
    "\n",
    "do {\n",
    "    url_with_cursor = twitter_client_api.endpoint(cursor=cursor)\n",
    "    response_dictionary = perform_http_get_request_for_url( url_with_cursor )\n",
    "    cursor = response_dictionary[ 'next_cursor' ]\n",
    "}\n",
    "while ( cursor != 0 )\n",
    "```\n",
    "\n"
   ]
  },
  {
   "cell_type": "markdown",
   "metadata": {},
   "source": [
    "## Integrare Twitter API in una web application\n",
    "\n",
    "In questa sezione implementeremo una web application che integra il meccanismo di autenticazione/autorizzazione di Twitter, e conseguentemente le Twitter API.\n",
    "\n",
    "Per lo sviluppo della web application utilizziamo il micro framework **Flask**.\n",
    "\n",
    "Una delle funzionalità implementate dalla nostra web app è la possibilità di pubblicare un tweet una volta ottenuta l'autorizzazione dell'utente. In questo caso dobbiamo utilizzare il secondo flow di autorizzazione implementato da Twitter: **3-legged authorization**\n",
    "\n",
    "### 3-legged authorization\n",
    "Questo flusso permette alla nostra applicazione Twitter di ottenere un access token redirigendo  l'utente verso Twitter per ottenere la sua autorizzazione.\n",
    "#### Passo 1: Ottenere un request token\n",
    "L'applicazione deve ottenere un request token mandando una richiesta POST a **oauth/request_token**. L'unica parametro della richiesta è **oauth_callback** che corrisponde all'URL a cui redirigere l'utente dopo il passo 2.\n",
    "<img src='figures/3leg_step1.png'>\n",
    "Il corpo della risposta contiene **oauth_token**, **oauth_token_secret**, e **oauth_callback_confirmed**. L'applicazione deve verificare che  oauth_callback_confirmed è true e deve memorizzare i rimanenti parametri.\n",
    "#### Passo 2: Redirezione dell'utente\n",
    "L'utente viene rediretto alla risorsa GET **oauth/authorize** con parametro della query **oauth_token** uguale al valore precedentemente memorizzato. \n",
    "<img src='figures/3leg_step2.png'>\n",
    "In caso di autorizzazione positiva viene richieste URL di callback dell'applicazione, a cui vengono inviati i parametri **oauth_token** e **oauth_verifier**\n",
    "#### Passo 3: Conversione del request token in un access token\n",
    "L'applicazione deve inviare una richiesta a POST **oauth/access_token** contenente il valore di **oauth_verifier**\n",
    "<img src='figures/3leg_step3.png'>\n",
    "Una risposta positiva conterrà i parametri **oauth_token** e **oauth_token_secret**"
   ]
  },
  {
   "cell_type": "markdown",
   "metadata": {},
   "source": [
    "### Esercizio\n",
    "Utilizzando le Twitter REST API si deve ottenere la *user_timeline* dell'utente il cui screen_name è **Fiorello**. Dalla timeline si devono estrarre tutti gli utenti menzionati nei tweet e contare quante volte un utente è stato menzionato.\n",
    "\n",
    "Suggerimenti:\n",
    "- Se non avete creato un'applicazione Twitter potete utilizzare le chiavi pubblicate sul sito del corso, rispettando l'assegnazione in base alla prima lettera del cognome.\n",
    "- Fare attenzione alla struttura dati in cui si memorizzano gli utenti. Per risolvere l'esercizio è meglio **list** o **set**?"
   ]
  },
  {
   "cell_type": "code",
   "execution_count": null,
   "metadata": {
    "collapsed": true
   },
   "outputs": [],
   "source": []
  },
  {
   "cell_type": "markdown",
   "metadata": {
    "collapsed": true
   },
   "source": [
    "### Esercizio\n",
    "Per ogni utente menzionato da Fiorello si deve ottenere la posizione dell'utente.\n",
    "\n",
    "Suggerimenti.\n",
    "- Le informazioni sulla posizione dell'utente sono associate all'oggetto User oppure i tweet prodotti possono essere geolocalizzati"
   ]
  },
  {
   "cell_type": "code",
   "execution_count": null,
   "metadata": {
    "collapsed": true
   },
   "outputs": [],
   "source": []
  },
  {
   "cell_type": "markdown",
   "metadata": {},
   "source": [
    "### Esercizio\n",
    "Per ogni utente menzionato dall'account Fiorello si estraggano gli utenti menzionati nella rispettiva timeline.\n",
    "\n",
    "Si costruisca il grafo delle mentions tra gli utenti menzionati da Fiorello.\n",
    "\n",
    "<img src=\"figures/timeline_mention_graph.png\">\n",
    "\n",
    "Nella figura l'account republlica menziona **user1** e **user2**. Dal momento che user1 menziona user2 in almeno uno dei suoi tweet, viene creato un link diretto da user1 verso user2. Anche user2 menziona user1 in almeno uno dei suoi tweet, quindi viene creato un link orientato da user2 a user1.\n",
    "\n",
    "Suggerimenti\n",
    "- I tweet relativi alle varie timeline degli utenti dovrebbero essere memorizzati in qualche struttura dati. Torneranno utili per l'esercizio successivo"
   ]
  },
  {
   "cell_type": "markdown",
   "metadata": {},
   "source": [
    "### Esercizio\n",
    "Si ottengano i tweet della timeline di un account a vostra scelta. Dei primi 50 tweet si recuperino 100 retweet e li si ordini per data di pubblicazione. Si calcoli il periodo di tempo che intercorre tra due retweet consecutivi. Per esempio se le date di creazione ordinate sono del tipo\n",
    "```\n",
    "2,5,8,10,15,27,29,35\n",
    "```\n",
    "si deve restituire\n",
    "```\n",
    "3,3,2,5,12,2,6\n",
    "``"
   ]
  },
  {
   "cell_type": "code",
   "execution_count": null,
   "metadata": {
    "collapsed": true
   },
   "outputs": [],
   "source": []
  },
  {
   "cell_type": "markdown",
   "metadata": {},
   "source": [
    "### Esercizio\n",
    "Sulla base dei retweet ottenuti nel precedente esercizio si estraggano tutti gli utenti (id_utente) che hanno retweetato uno status dell'account scelto."
   ]
  },
  {
   "cell_type": "code",
   "execution_count": null,
   "metadata": {
    "collapsed": true
   },
   "outputs": [],
   "source": []
  }
 ],
 "metadata": {
  "kernelspec": {
   "display_name": "Python 3",
   "language": "python",
   "name": "python3"
  },
  "language_info": {
   "codemirror_mode": {
    "name": "ipython",
    "version": 3
   },
   "file_extension": ".py",
   "mimetype": "text/x-python",
   "name": "python",
   "nbconvert_exporter": "python",
   "pygments_lexer": "ipython3",
   "version": "3.6.3"
  }
 },
 "nbformat": 4,
 "nbformat_minor": 2
}
