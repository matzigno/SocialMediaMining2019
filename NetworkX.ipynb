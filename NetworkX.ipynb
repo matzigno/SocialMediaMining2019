{
 "cells": [
  {
   "cell_type": "markdown",
   "metadata": {},
   "source": [
    "In questa lezione iniziamo a manipolare alcuni grafi attraverso il package __NetworkX__ (https://networkx.github.io/)<br>\n",
    "Il package NetworkX è parte della distribuzione Anaconda, quindi può essere importato attraverso la parola riservata __import__, che abbiamo introdotto nel precedente Jupyter notebook."
   ]
  },
  {
   "cell_type": "code",
   "execution_count": 1,
   "metadata": {},
   "outputs": [],
   "source": [
    "import networkx as nx\n",
    "from statsmodels.distributions.empirical_distribution import ECDF\n",
    "import numpy as np\n",
    "import matplotlib.pyplot as plt\n",
    "%matplotlib inline"
   ]
  },
  {
   "cell_type": "markdown",
   "metadata": {},
   "source": [
    "La parola riservata __as__ viene utilizzata per rinominare il package. In questo caso risparmio solo caratteri, in altri casi posso utilizzare l'alias per evitare _name conflict_."
   ]
  },
  {
   "cell_type": "markdown",
   "metadata": {},
   "source": [
    "# Creare un grafo\n",
    "Iniziamo creando un grafo vuoto. In particolare creeremo un grafo non orientato.\n",
    "\n",
    "I grafi non orientati vengono modellati dalla classe __Graph__. Questa classe utilizza una struttura di tipo dictionary di dictionary di dictionary per memorizzare i nodi, gli archi e gli attributi relativi.\n",
    "<img src=\"figures/Graph_internal.JPG\">\n",
    "Il dictionary più esterno utilizza come chiave i nodi. Più precisamente l'insieme dei nodi può essere rappresentato da una qualsiasi struttura dict-like (stesso comportamento di un dictionary). Per questo motivo i nodi possono essere  qualsiasi oggetto _hashable_.<br>\n",
    "\n",
    "Per __creare un grafo__ invoco il costruttore..."
   ]
  },
  {
   "cell_type": "code",
   "execution_count": 3,
   "metadata": {},
   "outputs": [],
   "source": [
    "grafo_non_orientato = nx.Graph()"
   ]
  },
  {
   "cell_type": "markdown",
   "metadata": {},
   "source": [
    "Una grafo può essere generato in modi diversi: dall'aggiunta/rimozione di ogni singolo nodo/arco alla lettura da file, passando per la generazione di grafi casuali. NetworkX supporta tutti questi processi di creazione/evoluzione.\n",
    "\n",
    "In questa prima parte utilizzare i metodi per la creazione step-by-step.\n",
    "### Nodi\n",
    "Aggiungiamo un singolo nodo..."
   ]
  },
  {
   "cell_type": "code",
   "execution_count": 7,
   "metadata": {},
   "outputs": [],
   "source": [
    "grafo_non_orientato.add_node('A')"
   ]
  },
  {
   "cell_type": "markdown",
   "metadata": {},
   "source": [
    "Oppure possiamo inserire più nodi nello stesso momento passando un qualsiasi oggetto iterabile, anche un grafo stesso ..."
   ]
  },
  {
   "cell_type": "code",
   "execution_count": 4,
   "metadata": {},
   "outputs": [],
   "source": [
    "grafo_non_orientato.add_nodes_from(['B','C'])"
   ]
  },
  {
   "cell_type": "markdown",
   "metadata": {},
   "source": [
    "Esempio con un 'line' graph ...."
   ]
  },
  {
   "cell_type": "code",
   "execution_count": 5,
   "metadata": {},
   "outputs": [],
   "source": [
    "line_graph = nx.path_graph(4)\n",
    "grafo_non_orientato.add_nodes_from(line_graph.nodes()) #nodi 'semplici'\n",
    "grafo_non_orientato.add_node(line_graph) #nodo complesso e' un grafo"
   ]
  },
  {
   "cell_type": "markdown",
   "metadata": {},
   "source": [
    "Nella seconda istruzione viene creato un iteratore sull'insieme dei nodi del grafo *line_graph*, mentre nella terza istruzione viene inserito il grafo come nodo. In sintesi si possono creare grafi di grafi, etc...\n",
    "\n",
    "Il metodo __nodes()__ mi restituisce una NodeView, passabile come argomento del costruttore **list()**"
   ]
  },
  {
   "cell_type": "code",
   "execution_count": 8,
   "metadata": {},
   "outputs": [
    {
     "data": {
      "text/plain": [
       "NodeView(('B', 'C', 0, 1, 2, 3, <networkx.classes.graph.Graph object at 0x000001BDD7272DD8>, 'A'))"
      ]
     },
     "execution_count": 8,
     "metadata": {},
     "output_type": "execute_result"
    }
   ],
   "source": [
    "grafo_non_orientato.nodes()"
   ]
  },
  {
   "cell_type": "code",
   "execution_count": 9,
   "metadata": {},
   "outputs": [
    {
     "data": {
      "text/plain": [
       "['B', 'C', 0, 1, 2, 3, <networkx.classes.graph.Graph at 0x1bdd7272dd8>, 'A']"
      ]
     },
     "execution_count": 9,
     "metadata": {},
     "output_type": "execute_result"
    }
   ],
   "source": [
    "list(grafo_non_orientato.nodes())"
   ]
  },
  {
   "cell_type": "markdown",
   "metadata": {},
   "source": [
    "#### Attributi del nodo\n",
    "Ad un nodo posso associare uno o più oggetti che lo caratterizzano = __attributi__. Gli attributi vengono memorizzati in una struttura dict-like.\n",
    "\n",
    "Posso assegnare un attributo ad un nodo al momento della creazione ..."
   ]
  },
  {
   "cell_type": "code",
   "execution_count": 16,
   "metadata": {},
   "outputs": [],
   "source": [
    "grafo_non_orientato.add_node('D',name='James',drink='beer')"
   ]
  },
  {
   "cell_type": "markdown",
   "metadata": {},
   "source": [
    "Oppure posso modificare o inserire un nuovo attributo ad un nodo già inserito, utilizzando l'attributo __node__ dell'oggetto _Graph"
   ]
  },
  {
   "cell_type": "code",
   "execution_count": 11,
   "metadata": {},
   "outputs": [],
   "source": [
    "grafo_non_orientato.node['B']['name'] = 'Marco'"
   ]
  },
  {
   "cell_type": "markdown",
   "metadata": {},
   "source": [
    "Per iterare sui nodi e i relativi attributi utilizzo il metodo **nodes** "
   ]
  },
  {
   "cell_type": "code",
   "execution_count": 17,
   "metadata": {},
   "outputs": [
    {
     "data": {
      "text/plain": [
       "[('B', {'name': 'Marco'}),\n",
       " ('C', {}),\n",
       " (0, {}),\n",
       " (1, {}),\n",
       " (2, {}),\n",
       " (3, {}),\n",
       " (<networkx.classes.graph.Graph at 0x1bdd7272dd8>, {}),\n",
       " ('A', {}),\n",
       " ('D', {'name': 'James', 'drink': 'beer'})]"
      ]
     },
     "execution_count": 17,
     "metadata": {},
     "output_type": "execute_result"
    }
   ],
   "source": [
    "list(grafo_non_orientato.nodes(data=True))"
   ]
  },
  {
   "cell_type": "code",
   "execution_count": 18,
   "metadata": {},
   "outputs": [
    {
     "data": {
      "text/plain": [
       "[{'name': 'Marco'},\n",
       " {},\n",
       " {},\n",
       " {},\n",
       " {},\n",
       " {},\n",
       " {},\n",
       " {},\n",
       " {'name': 'James', 'drink': 'beer'}]"
      ]
     },
     "execution_count": 18,
     "metadata": {},
     "output_type": "execute_result"
    }
   ],
   "source": [
    "[e[1] for e in list(grafo_non_orientato.nodes(data=True))]"
   ]
  },
  {
   "cell_type": "code",
   "execution_count": 20,
   "metadata": {},
   "outputs": [
    {
     "name": "stdout",
     "output_type": "stream",
     "text": [
      "beer\n",
      "{'name': 'James', 'drink': 'beer'}\n"
     ]
    }
   ],
   "source": [
    "print(grafo_non_orientato.node['D']['drink'])\n",
    "print(grafo_non_orientato.node['D'])"
   ]
  },
  {
   "cell_type": "code",
   "execution_count": 21,
   "metadata": {},
   "outputs": [],
   "source": [
    "grafo_non_orientato.node['D']['place'] = 'Milano'"
   ]
  },
  {
   "cell_type": "code",
   "execution_count": 22,
   "metadata": {},
   "outputs": [
    {
     "data": {
      "text/plain": [
       "{'name': 'James', 'drink': 'beer', 'place': 'Milano'}"
      ]
     },
     "execution_count": 22,
     "metadata": {},
     "output_type": "execute_result"
    }
   ],
   "source": [
    "grafo_non_orientato.node['D']"
   ]
  },
  {
   "cell_type": "markdown",
   "metadata": {},
   "source": [
    "### Archi\n",
    "Come per i nodi, posso inserire gli archi uno alla volta, specificandone gli estremi."
   ]
  },
  {
   "cell_type": "code",
   "execution_count": 23,
   "metadata": {},
   "outputs": [],
   "source": [
    "grafo_non_orientato.add_edge('A','B')"
   ]
  },
  {
   "cell_type": "markdown",
   "metadata": {},
   "source": [
    "Oppure passando una lista di coppie (__tuple__ in Python) o triplette. Le triplette vengono utilizzate per specificare gli attributi associati all'arco"
   ]
  },
  {
   "cell_type": "code",
   "execution_count": 25,
   "metadata": {},
   "outputs": [],
   "source": [
    "grafo_non_orientato.add_edges_from([('B','C'),('C','D'),(line_graph,'D')])"
   ]
  },
  {
   "cell_type": "markdown",
   "metadata": {},
   "source": [
    "Il metodo __edges()__ restituisce una lista di tuple rappresentati gli archi nel grafo."
   ]
  },
  {
   "cell_type": "code",
   "execution_count": 26,
   "metadata": {},
   "outputs": [
    {
     "data": {
      "text/plain": [
       "[('B', 'A'),\n",
       " ('B', 'C'),\n",
       " ('C', 'D'),\n",
       " (<networkx.classes.graph.Graph at 0x1bdd7272dd8>, 'D')]"
      ]
     },
     "execution_count": 26,
     "metadata": {},
     "output_type": "execute_result"
    }
   ],
   "source": [
    "list(grafo_non_orientato.edges())"
   ]
  },
  {
   "cell_type": "markdown",
   "metadata": {},
   "source": [
    "#### Attributi\n",
    "Anche agli archi posso associare degli attributi memorizzati come dictionary.\n",
    "\n",
    "Posso assegnare un attributo al momento della sua creazione ..."
   ]
  },
  {
   "cell_type": "code",
   "execution_count": 27,
   "metadata": {},
   "outputs": [],
   "source": [
    "grafo_non_orientato.add_edge(0,1,peso=30)"
   ]
  },
  {
   "cell_type": "markdown",
   "metadata": {},
   "source": [
    "oppure si può modificare il dictionary __edges__ associato all'oggetto _Graph_"
   ]
  },
  {
   "cell_type": "code",
   "execution_count": 29,
   "metadata": {},
   "outputs": [],
   "source": [
    "grafo_non_orientato.edges['A','B']['peso'] = 3"
   ]
  },
  {
   "cell_type": "markdown",
   "metadata": {},
   "source": [
    "oppure in modo più conciso"
   ]
  },
  {
   "cell_type": "code",
   "execution_count": 30,
   "metadata": {},
   "outputs": [],
   "source": [
    "grafo_non_orientato['C']['B']['peso'] = 40"
   ]
  },
  {
   "cell_type": "markdown",
   "metadata": {},
   "source": [
    "__N.B.__ Se gli estremi dell'arco che inserisco non sono presenti nella rete, NetworkX automaticamente aggiunge gli estremi all'insieme dei nodi.\n",
    "\n",
    "Per visualizzare gli archi e i relativi attributi utilizzo il metodo _edges()_ con il parametro __data=True__"
   ]
  },
  {
   "cell_type": "code",
   "execution_count": 32,
   "metadata": {},
   "outputs": [
    {
     "data": {
      "text/plain": [
       "[('B', 'A', {'peso': 3}),\n",
       " ('B', 'C', {'peso': 40}),\n",
       " ('C', 'D', {}),\n",
       " (0, 1, {'peso': 30}),\n",
       " (<networkx.classes.graph.Graph at 0x1bdd7272dd8>, 'D', {})]"
      ]
     },
     "execution_count": 32,
     "metadata": {},
     "output_type": "execute_result"
    }
   ],
   "source": [
    "list(grafo_non_orientato.edges(data=True))"
   ]
  },
  {
   "cell_type": "code",
   "execution_count": 36,
   "metadata": {},
   "outputs": [],
   "source": [
    "grafo_non_orientato.edges['A','B']['peso'] = None"
   ]
  },
  {
   "cell_type": "code",
   "execution_count": 37,
   "metadata": {},
   "outputs": [
    {
     "data": {
      "text/plain": [
       "[('B', 'A', {'peso': None}),\n",
       " ('B', 'C', {'peso': 40}),\n",
       " ('C', 'D', {}),\n",
       " (0, 1, {}),\n",
       " (<networkx.classes.graph.Graph at 0x1bdd7272dd8>, 'D', {})]"
      ]
     },
     "execution_count": 37,
     "metadata": {},
     "output_type": "execute_result"
    }
   ],
   "source": [
    "list(grafo_non_orientato.edges(data=True))"
   ]
  },
  {
   "cell_type": "markdown",
   "metadata": {},
   "source": [
    "###  Rimozione archi e nodi\n",
    "Per rimuovere gli archi e i nodi posso applicare i seguenti metodi:\n",
    "* remove_node()\n",
    "* remove_nodes_from()\n",
    "* remove_edge()\n",
    "* remove_edges_from()\n",
    "\n",
    "che rappresentano la controparte dei metodi di inserimento visti in precedenza.\n",
    "\n",
    "Per cancellare tutti gli elementi si invoca il metodo __clear()__"
   ]
  },
  {
   "cell_type": "markdown",
   "metadata": {},
   "source": [
    "## Visualizzare un grafo \n",
    "NetworkX fornisce dei metodi per visualizzare i grafi, tuttavia la visualizzazione è piuttosto semplice e limitata. Per questo motivo solo in questa lezione utilizzeremo i metodi di NetworkX, mentre nelle successive sfrutteremo dei tool specifici per la visualizzazione, quali Gephi\n",
    "\n",
    "### Visualizzazione con matplotlib\n",
    "__Matplotlib__ è la libreria più utilizzata per visualizzare grafici."
   ]
  },
  {
   "cell_type": "markdown",
   "metadata": {},
   "source": [
    "Il metodo più semplice per la visualizzazione del grafo è __draw()__"
   ]
  },
  {
   "cell_type": "code",
   "execution_count": 38,
   "metadata": {},
   "outputs": [
    {
     "name": "stderr",
     "output_type": "stream",
     "text": [
      "C:\\Users\\matte\\Anaconda3\\lib\\site-packages\\networkx\\drawing\\nx_pylab.py:611: MatplotlibDeprecationWarning: isinstance(..., numbers.Number)\n",
      "  if cb.is_numlike(alpha):\n"
     ]
    },
    {
     "data": {
      "image/png": "[encoded data removed]",
      "text/plain": [
       "<Figure size 432x288 with 1 Axes>"
      ]
     },
     "metadata": {},
     "output_type": "display_data"
    }
   ],
   "source": [
    "nx.draw(grafo_non_orientato)"
   ]
  },
  {
   "cell_type": "markdown",
   "metadata": {},
   "source": [
    "__draw(G, pos=None, ax=None, hold=None, **kwds)__\n",
    "\n",
    "Draw the graph as a __simple representation with no node labels or edge labels__ and using the full Matplotlib figure area and no axis labels by default. See draw_networkx() for more full-featured drawing that allows title, axis labels etc.\n",
    "\n",
    "Parameters:\t\n",
    "__G__ (graph) – A networkx graph\n",
    "\n",
    "__pos__ (dictionary, optional) – A dictionary with nodes as keys and positions as values. If not specified a spring layout positioning will be computed. See networkx.layout for functions that compute node positions.\n",
    "\n",
    "ax (Matplotlib Axes object, optional) – Draw the graph in specified Matplotlib axes.\n",
    "\n",
    "hold (bool, optional) – Set the Matplotlib hold state. If True subsequent draw commands will be added to the current axes.\n",
    "\n",
    "kwds (optional keywords) – See networkx.draw_networkx() for a description of optional keywords."
   ]
  },
  {
   "cell_type": "markdown",
   "metadata": {},
   "source": [
    "E' possibile passare la posizione dei nodi attraverso il __parametro pos__. Tale opzione permette di utilizzare più algoritmi di visualizzazione. In particolare adotteremo il metodo **spring_layout** ..."
   ]
  },
  {
   "cell_type": "code",
   "execution_count": 41,
   "metadata": {},
   "outputs": [
    {
     "name": "stderr",
     "output_type": "stream",
     "text": [
      "C:\\Users\\matte\\Anaconda3\\lib\\site-packages\\networkx\\drawing\\nx_pylab.py:611: MatplotlibDeprecationWarning: isinstance(..., numbers.Number)\n",
      "  if cb.is_numlike(alpha):\n"
     ]
    },
    {
     "data": {
      "image/png": "[encoded data removed]",
      "text/plain": [
       "<Figure size 432x288 with 1 Axes>"
      ]
     },
     "metadata": {},
     "output_type": "display_data"
    }
   ],
   "source": [
    "posizione = nx.spring_layout(grafo_non_orientato)\n",
    "nx.draw(grafo_non_orientato, pos = posizione)"
   ]
  },
  {
   "cell_type": "code",
   "execution_count": 40,
   "metadata": {},
   "outputs": [],
   "source": [
    "grafo_non_orientato.add_edge('A','D')"
   ]
  },
  {
   "cell_type": "markdown",
   "metadata": {},
   "source": [
    "Gli altri metodi supportati sono:\n",
    "* circular_layout\n",
    "* fruchterman_reingold_layout\n",
    "* random_layout\n",
    "* shell_layout\n",
    "* spectral_layout"
   ]
  },
  {
   "cell_type": "markdown",
   "metadata": {},
   "source": [
    "Una visualizzazione più piacevole e più informativa si può ottenere utilizzando il metodo **draw_networkx()** (https://networkx.readthedocs.io/en/stable/reference/generated/networkx.drawing.nx_pylab.draw_networkx.html#networkx.drawing.nx_pylab.draw_networkx)"
   ]
  },
  {
   "cell_type": "code",
   "execution_count": 42,
   "metadata": {},
   "outputs": [
    {
     "name": "stderr",
     "output_type": "stream",
     "text": [
      "C:\\Users\\matte\\Anaconda3\\lib\\site-packages\\networkx\\drawing\\nx_pylab.py:611: MatplotlibDeprecationWarning: isinstance(..., numbers.Number)\n",
      "  if cb.is_numlike(alpha):\n"
     ]
    },
    {
     "data": {
      "image/png": "[encoded data removed]",
      "text/plain": [
       "<Figure size 432x288 with 1 Axes>"
      ]
     },
     "metadata": {
      "needs_background": "light"
     },
     "output_type": "display_data"
    }
   ],
   "source": [
    "posizione_circular = nx.circular_layout(grafo_non_orientato)\n",
    "nx.draw_networkx(grafo_non_orientato, pos= posizione_circular, node_size=20, alpha=0.5, node_color='blue')"
   ]
  },
  {
   "cell_type": "markdown",
   "metadata": {},
   "source": [
    "## Leggere un grafo da file\n",
    "Esistono molti formati per memorizzare un network e gli attributi relativi ai suoi elementi. In particolare ci soffermeremo sulle liste di adiacienza, le liste di archi, GEXF e gpickle.\n",
    "### Lista di adiacenza\n",
    "E' un formato adatto a network senza attributi associati a nodi o archi, dove i nodi sono facilmente rappresentabili come stringhe.\n",
    "\n",
    "Il formato del file di testo prevede che ogni riga corrisponda ad un nodo, indicato dal primo elemento della linea. I suoi vicini costituiscono gli altri elementi della linea, separati da un carattere di separazione.\n",
    "\n",
    "Per la creazione del grafo dato un file testuale che contiene una lista di adiacienza, possiamo utilizzare i metodi visti precedentemente e nella lezione 1."
   ]
  },
  {
   "cell_type": "code",
   "execution_count": 43,
   "metadata": {},
   "outputs": [],
   "source": [
    "adj_graph = nx.Graph()"
   ]
  },
  {
   "cell_type": "code",
   "execution_count": 44,
   "metadata": {},
   "outputs": [
    {
     "name": "stdout",
     "output_type": "stream",
     "text": [
      "['1,2,3,4\\n', '2,3,1\\n', '3,6,2,1\\n', '4,5,1\\n', '5,6,4\\n', '6,5']\n",
      "['1', '2', '3', '4']\n",
      "['2', '3', '1']\n",
      "['3', '6', '2', '1']\n",
      "['4', '5', '1']\n",
      "['5', '6', '4']\n",
      "['6', '5']\n",
      "[('1', '2'), ('1', '3'), ('1', '4'), ('2', '3'), ('3', '6'), ('4', '5'), ('6', '5')]\n"
     ]
    },
    {
     "name": "stderr",
     "output_type": "stream",
     "text": [
      "C:\\Users\\matte\\Anaconda3\\lib\\site-packages\\networkx\\drawing\\nx_pylab.py:611: MatplotlibDeprecationWarning: isinstance(..., numbers.Number)\n",
      "  if cb.is_numlike(alpha):\n"
     ]
    },
    {
     "data": {
      "image/png": "[encoded data removed]",
      "text/plain": [
       "<Figure size 432x288 with 1 Axes>"
      ]
     },
     "metadata": {
      "needs_background": "light"
     },
     "output_type": "display_data"
    }
   ],
   "source": [
    "f = open('data/grafo_lista_adiacienza.txt')\n",
    "lista_righe = f.readlines()\n",
    "print(lista_righe)\n",
    "for line in lista_righe:\n",
    "    info = line.strip().split(',')\n",
    "    print(info)\n",
    "    for e in info[1:]:\n",
    "        adj_graph.add_edge(info[0],e)\n",
    "print(list(adj_graph.edges()))\n",
    "nx.draw_networkx(adj_graph)"
   ]
  },
  {
   "cell_type": "markdown",
   "metadata": {},
   "source": [
    "NetworkX fornisce un metodo per la lettura di questo formato:\n",
    "\n",
    "**read_adjlist(path, comments='#', delimiter=None, create_using=None, nodetype=None, encoding='utf-8')**"
   ]
  },
  {
   "cell_type": "code",
   "execution_count": 46,
   "metadata": {},
   "outputs": [],
   "source": [
    "adj_graph = nx.read_adjlist('data/grafo_lista_adiacienza.txt',\n",
    "                            delimiter=',',nodetype=int,\n",
    "                            create_using=nx.Graph())"
   ]
  },
  {
   "cell_type": "code",
   "execution_count": 47,
   "metadata": {},
   "outputs": [
    {
     "data": {
      "text/plain": [
       "NodeView((1, 2, 3, 4, 6, 5))"
      ]
     },
     "execution_count": 47,
     "metadata": {},
     "output_type": "execute_result"
    }
   ],
   "source": [
    "adj_graph.nodes()"
   ]
  },
  {
   "cell_type": "markdown",
   "metadata": {},
   "source": [
    "### Lista degli archi, o meglio edge list\n",
    "Questo formato prevede che ogni riga corrisponda ad un arco del grafo. Anche in questo caso utilizzo questo formato quando le informazioni circa il grafo sono facilmente rappresentabili attraverso stringhe. \n",
    "\n",
    "Non posso memorizzare informazioni riguardanti i nodi.\n",
    "\n",
    "Se non prevedo attributi ogni riga segue il formato:<br>\n",
    "_1 2_<br>\n",
    "altrimenti gli attributi possono essere rappresentati come Python dictionary:\n",
    "\n",
    "_1 2 {'peso':30,'colore':'verde'}_\n",
    "\n",
    "oppure posso inserire solo i valori degli attributi senza specificarne il nome\n",
    "\n",
    "_1 2 30 verde_\n",
    "\n",
    "Per leggere una edge list, NetworkX fornisce il metodo\n",
    "\n",
    "**read_edgelist(path, comments='#', delimiter=None, create_using=None, nodetype=None, data=True, edgetype=None, encoding='utf-8')**"
   ]
  },
  {
   "cell_type": "code",
   "execution_count": 48,
   "metadata": {},
   "outputs": [],
   "source": [
    "edgelist_graph = nx.read_edgelist('data/grafo_edge_list.txt',\n",
    "                                  delimiter=' ', \n",
    "                                  create_using=nx.Graph(),\n",
    "                                  nodetype=int)"
   ]
  },
  {
   "cell_type": "code",
   "execution_count": 49,
   "metadata": {},
   "outputs": [
    {
     "name": "stderr",
     "output_type": "stream",
     "text": [
      "C:\\Users\\matte\\Anaconda3\\lib\\site-packages\\networkx\\drawing\\nx_pylab.py:611: MatplotlibDeprecationWarning: isinstance(..., numbers.Number)\n",
      "  if cb.is_numlike(alpha):\n"
     ]
    },
    {
     "data": {
      "image/png": "[encoded data removed]",
      "text/plain": [
       "<Figure size 432x288 with 1 Axes>"
      ]
     },
     "metadata": {
      "needs_background": "light"
     },
     "output_type": "display_data"
    }
   ],
   "source": [
    "nx.draw_networkx(edgelist_graph)"
   ]
  },
  {
   "cell_type": "markdown",
   "metadata": {},
   "source": [
    "### GEXF\n",
    "GEXF (Graph Exchange XML Format) è un formato XML per la descrizione di network statiche e dinamiche e dei relativi attributi. Non ci soffermeremo sulle specifiche e lo schema del formato. \n",
    "\n",
    "Gephi,  software di visualizzazione, utilizza principalemente questo formato. Specificamente, una volta creato il grafo, lo salveremo nel formato GEXF e lo apriremo con Gephi per visualizzarlo (specialmente con reti di medie/grandi dimensioni).\n",
    "\n",
    "Per salvare il grafo nel formato GEXF, NetworkX fornisce il metodo:\n",
    "\n",
    "**write_gexf(G, path, encoding='utf-8', prettyprint=True, version='1.1draft')**\n"
   ]
  },
  {
   "cell_type": "code",
   "execution_count": 50,
   "metadata": {},
   "outputs": [],
   "source": [
    "nx.write_gexf(edgelist_graph,'data/edgeList4Gephi.gexf')"
   ]
  },
  {
   "cell_type": "markdown",
   "metadata": {},
   "source": [
    "### JSON\n",
    "NetworkX permette di salvare il grafo nel formato JSON. Questa funzionalità è molto utile per un utilizzo combinato con d3.js (http://d3js.org/), una libreria  Python per la visualizzazione di grafici.\n",
    "\n",
    "Il metodo **node_link_data** restituisce un dictionary che può essere esportato in JSON utilizzando il package json"
   ]
  },
  {
   "cell_type": "code",
   "execution_count": 51,
   "metadata": {},
   "outputs": [],
   "source": [
    "import json\n",
    "from networkx.readwrite import json_graph"
   ]
  },
  {
   "cell_type": "code",
   "execution_count": 52,
   "metadata": {},
   "outputs": [
    {
     "name": "stdout",
     "output_type": "stream",
     "text": [
      "{'directed': False, 'multigraph': False, 'graph': {}, 'nodes': [{'id': 1}, {'id': 2}, {'id': 3}, {'id': 4}, {'id': 6}, {'id': 5}], 'links': [{'source': 1, 'target': 2}, {'source': 1, 'target': 3}, {'source': 1, 'target': 4}, {'source': 2, 'target': 3}, {'source': 3, 'target': 6}, {'source': 4, 'target': 5}, {'source': 6, 'target': 5}]}\n"
     ]
    }
   ],
   "source": [
    "graph_json = json_graph.node_link_data(adj_graph)\n",
    "print(graph_json)"
   ]
  },
  {
   "cell_type": "code",
   "execution_count": 53,
   "metadata": {},
   "outputs": [],
   "source": [
    "json.dump(graph_json,open('data/graph_json.json','w'))"
   ]
  },
  {
   "cell_type": "markdown",
   "metadata": {},
   "source": [
    "### Pickle\n",
    "Il formato pickle è utilizzato da Python per la serializzazione degli oggetti. Per leggere/scrivere un grafo in formato pickle si utilizzano i seguenti metodi ..."
   ]
  },
  {
   "cell_type": "code",
   "execution_count": 54,
   "metadata": {},
   "outputs": [],
   "source": [
    "nx.write_gpickle(adj_graph,'data/test_graph.pkl')"
   ]
  },
  {
   "cell_type": "code",
   "execution_count": 55,
   "metadata": {},
   "outputs": [],
   "source": [
    "graph_reload = nx.read_gpickle('../)"
   ]
  },
  {
   "cell_type": "markdown",
   "metadata": {},
   "source": [
    "## Network Repository\n",
    "Finora abbiamo creato i nostri piccoli grafi, tuttavia possiamo sfruttare la presenza di molti repository. __Network Repository__ è tra i più completi (http://networkrepository.com/).\n",
    "\n",
    "Le collezioni di dataset sono categorizzate secondo il tipo di dato. Oltre alle reti sociali (online e offline) ci sono reti biologiche, brain network, reti infrastrutturali, reti tecnologiche e grafi risultanti da crawling massivi.\n",
    "\n",
    "### 1. Ricerca di una rete\n",
    "Attraverso la funzione di ricerca possiamo cercare una network inviando una stringa di query. Nel caso delle online social network è sufficiente specificarne il nome: facebook, twitter, orkut, etc ..\n",
    "\n",
    "Iniziamo la nostra analisi da una rete piccola, ma significativa: Zachary's Karate Club. Come parole chiave utilizziamo __karate__.\n",
    "\n",
    "La pagina relativa alla network ci fornisce la sua descrizione, la sua visualizzazione (qualora la rete sia piccola), una serie di proprietà e alcune distribuzioni.\n",
    "<img src=\"figures/netrepo_karate.png\">\n",
    "\n",
    "Procediamo scaricando il file 'karate.zip'. Il grafo è contenuto nel file 'karate.mtx' che possiamo aprire con un qualsiasi editor testuale.\n",
    "\n",
    "Di seguito sono state riportate le prime righe del file.<br>\n",
    "\n",
    "%%MatrixMarket matrix coordinate pattern symmetric<br>\n",
    "34 34 78<br>\n",
    "2 1<br>\n",
    "3 1<br>\n",
    "4 1<br>\n",
    "5 1<br>\n",
    "6 1<br>\n",
    "7 1<br>\n",
    "8 1<br>\n",
    "9 1<br>\n",
    "11 1\n",
    "\n",
    "Le prime due righe contengono metadati, quindi si possono saltare. Le righe rimanenti seguono il formato edge list. In questo caso dobbiamo __caricare il grafo leggendo il file testuale riga per riga__.\n",
    "\n",
    "### 2.Caricamento del grafo"
   ]
  },
  {
   "cell_type": "code",
   "execution_count": 2,
   "metadata": {},
   "outputs": [],
   "source": [
    "karate_graph = nx.Graph()"
   ]
  },
  {
   "cell_type": "markdown",
   "metadata": {},
   "source": [
    "**Esercizio**: Scrivere il codice per il caricamento del grafo utilizzando il file 'karate.mtx'"
   ]
  },
  {
   "cell_type": "code",
   "execution_count": 3,
   "metadata": {},
   "outputs": [],
   "source": [
    "with open('data/karate.mtx') as f:\n",
    "    f.readline()\n",
    "    f.readline()\n",
    "    for line in f:\n",
    "        source, destination = line.strip().split(' ')\n",
    "        karate_graph.add_edge(source,destination)"
   ]
  },
  {
   "cell_type": "markdown",
   "metadata": {},
   "source": [
    "In questo caso apro e chiudo esplicitamente l'oggetto file.\n",
    "\n",
    "Per verificare il corretto caricamento del grafo, contiamo il __numero dei nodi e degli archi__ utilizzando i metodi **order()** e **size()**"
   ]
  },
  {
   "cell_type": "code",
   "execution_count": 60,
   "metadata": {},
   "outputs": [
    {
     "data": {
      "text/plain": [
       "'Numero di nodi: 34 - numero di archi:78'"
      ]
     },
     "execution_count": 60,
     "metadata": {},
     "output_type": "execute_result"
    }
   ],
   "source": [
    "'Numero di nodi: {} - numero di archi:{}'.format(karate_graph.order(),karate_graph.size())"
   ]
  },
  {
   "cell_type": "markdown",
   "metadata": {},
   "source": [
    "**Esercizio**: Visualizzare la rete dello Zachary Club"
   ]
  },
  {
   "cell_type": "code",
   "execution_count": 61,
   "metadata": {},
   "outputs": [
    {
     "name": "stderr",
     "output_type": "stream",
     "text": [
      "C:\\Users\\matte\\Anaconda3\\lib\\site-packages\\networkx\\drawing\\nx_pylab.py:611: MatplotlibDeprecationWarning: isinstance(..., numbers.Number)\n",
      "  if cb.is_numlike(alpha):\n"
     ]
    },
    {
     "data": {
      "image/png": "[encoded data removed]",
      "text/plain": [
       "<Figure size 432x288 with 1 Axes>"
      ]
     },
     "metadata": {
      "needs_background": "light"
     },
     "output_type": "display_data"
    }
   ],
   "source": [
    "posizione = nx.spring_layout(karate_graph)\n",
    "nx.draw_networkx(karate_graph,pos=posizione,\n",
    "                alpha=0.7)"
   ]
  },
  {
   "cell_type": "markdown",
   "metadata": {},
   "source": [
    "## Analisi del grado\n",
    "Una volta caricato il grafo in memoria una delle proprietà che solitamente si analizzano è la __distribuzione del grado__, una delle misure di centralità in una network. Dal momento che il karate graph non è orientato, per ora non distinguiamo tra grado in ingresso (in-degree) e grado in uscita (out-degree).\n",
    "\n",
    "In NetworkX il metodo __degree()__ calcola il grado di ogni nodo. Passando la vista al costruttore dict() ottengo un dictionary con chiave id del nodo e valore il grado del corrispettivo nodo."
   ]
  },
  {
   "cell_type": "code",
   "execution_count": 62,
   "metadata": {},
   "outputs": [
    {
     "data": {
      "text/plain": [
       "{'2': 9,\n",
       " '1': 16,\n",
       " '3': 10,\n",
       " '4': 6,\n",
       " '5': 3,\n",
       " '6': 4,\n",
       " '7': 4,\n",
       " '8': 4,\n",
       " '9': 5,\n",
       " '11': 3,\n",
       " '12': 1,\n",
       " '13': 2,\n",
       " '14': 5,\n",
       " '18': 2,\n",
       " '20': 3,\n",
       " '22': 2,\n",
       " '32': 6,\n",
       " '31': 4,\n",
       " '10': 2,\n",
       " '28': 4,\n",
       " '29': 3,\n",
       " '33': 12,\n",
       " '17': 2,\n",
       " '34': 17,\n",
       " '15': 2,\n",
       " '16': 2,\n",
       " '19': 2,\n",
       " '21': 2,\n",
       " '23': 2,\n",
       " '26': 3,\n",
       " '24': 5,\n",
       " '30': 4,\n",
       " '25': 3,\n",
       " '27': 2}"
      ]
     },
     "execution_count": 62,
     "metadata": {},
     "output_type": "execute_result"
    }
   ],
   "source": [
    "dict(karate_graph.degree())"
   ]
  },
  {
   "cell_type": "markdown",
   "metadata": {},
   "source": [
    "Per farmi restuire il grado di un singolo nodo ho le seguenti opzioni ..."
   ]
  },
  {
   "cell_type": "code",
   "execution_count": 63,
   "metadata": {},
   "outputs": [
    {
     "data": {
      "text/plain": [
       "17"
      ]
     },
     "execution_count": 63,
     "metadata": {},
     "output_type": "execute_result"
    }
   ],
   "source": [
    "karate_graph.degree()['34']"
   ]
  },
  {
   "cell_type": "code",
   "execution_count": 64,
   "metadata": {},
   "outputs": [
    {
     "data": {
      "text/plain": [
       "17"
      ]
     },
     "execution_count": 64,
     "metadata": {},
     "output_type": "execute_result"
    }
   ],
   "source": [
    "karate_graph.degree('34')"
   ]
  },
  {
   "cell_type": "code",
   "execution_count": 65,
   "metadata": {},
   "outputs": [
    {
     "data": {
      "text/plain": [
       "17"
      ]
     },
     "execution_count": 65,
     "metadata": {},
     "output_type": "execute_result"
    }
   ],
   "source": [
    "len(list(karate_graph.neighbors('34')))"
   ]
  },
  {
   "cell_type": "markdown",
   "metadata": {},
   "source": [
    "Il secondo metodo mi permette di ottenere il grado data un lista di nodi. Ciò è molto utile per ottenere il grado di un sottoinsieme di nodi."
   ]
  },
  {
   "cell_type": "code",
   "execution_count": 66,
   "metadata": {},
   "outputs": [
    {
     "data": {
      "text/plain": [
       "{'34': 17, '22': 2, '1': 16, '10': 2}"
      ]
     },
     "execution_count": 66,
     "metadata": {},
     "output_type": "execute_result"
    }
   ],
   "source": [
    "dict(karate_graph.degree(['34','22','1','10']))"
   ]
  },
  {
   "cell_type": "markdown",
   "metadata": {},
   "source": [
    "**Esercizio**: Si scarichi il grafo dei retweet pubblicato all'indirizzo http://networkrepository.com/rt-pol.php. I nodi sono gli utenti di Twitter ed esiste un link tra due utenti solo se uno dei due ha retweetato uno status(tweet) dell'altro.\n",
    "\n",
    "Caricare in memoria la rete scaricata (attenzione ai campi di ogni riga) e rispondere alle seguenti domande:\n",
    "\n",
    "- Quanti nodi ci sono nella rete? \n",
    "- Quanti archi?\n",
    "- Qual è l'id del nodo con grado massimo?\n",
    "\n",
    "Per estrarre il nodo di grado massimo posso ordinare i valori del dictionary del grado e cercare il primo nodo il cui grado corrisponde al grado massimo."
   ]
  },
  {
   "cell_type": "code",
   "execution_count": 79,
   "metadata": {},
   "outputs": [
    {
     "name": "stdout",
     "output_type": "stream",
     "text": [
      "Numero di nodi: 18470\n",
      "Numero di archi: 48053\n"
     ]
    }
   ],
   "source": [
    "twitter = nx.Graph()\n",
    "with open('data/rt-pol.txt') as f:\n",
    "    for line in f:\n",
    "        source, destination, _ = list(map(int,line.strip().split(',')))\n",
    "        twitter.add_edge(source, destination)\n",
    "print('Numero di nodi: {}'.format(twitter.order()))\n",
    "print('Numero di archi: {}'.format(twitter.size()))\n",
    "user_max_twitter = sorted(dict(twitter.degree()).items(),key= lambda x:x[1], reverse=True)[0][0]"
   ]
  },
  {
   "cell_type": "markdown",
   "metadata": {},
   "source": [
    "### Vicini di un nodo\n",
    "Per ottenere i vicini di un nodo _n_ posso utilizzare due metodi:\n",
    "1. Accedere al dictionary associato alla chiave _n_ dell'oggetto **Graph.adj**: G.adj()[n]\n",
    "2. Utilizzare una sintassi più concisa: G[n]"
   ]
  },
  {
   "cell_type": "code",
   "execution_count": 84,
   "metadata": {},
   "outputs": [
    {
     "name": "stdout",
     "output_type": "stream",
     "text": [
      "{'11', '17', '7', '1'}\n",
      "{'11', '17', '7', '1'}\n"
     ]
    }
   ],
   "source": [
    "print(set(karate_graph.adj['6'].keys()))\n",
    "print(set(karate_graph['6'].keys()))"
   ]
  },
  {
   "cell_type": "markdown",
   "metadata": {},
   "source": [
    "**Esercizio**: Estrarre i vicini del nodo con grado massimo nel grafo di  Twitter"
   ]
  },
  {
   "cell_type": "code",
   "execution_count": 85,
   "metadata": {
    "collapsed": true
   },
   "outputs": [
    {
     "data": {
      "text/plain": [
       "{14,\n",
       " 39,\n",
       " 49,\n",
       " 62,\n",
       " 64,\n",
       " 81,\n",
       " 100,\n",
       " 108,\n",
       " 113,\n",
       " 128,\n",
       " 137,\n",
       " 140,\n",
       " 151,\n",
       " 153,\n",
       " 173,\n",
       " 177,\n",
       " 182,\n",
       " 235,\n",
       " 237,\n",
       " 246,\n",
       " 295,\n",
       " 302,\n",
       " 316,\n",
       " 323,\n",
       " 333,\n",
       " 346,\n",
       " 353,\n",
       " 361,\n",
       " 368,\n",
       " 375,\n",
       " 384,\n",
       " 392,\n",
       " 438,\n",
       " 490,\n",
       " 526,\n",
       " 549,\n",
       " 554,\n",
       " 603,\n",
       " 618,\n",
       " 625,\n",
       " 650,\n",
       " 663,\n",
       " 740,\n",
       " 747,\n",
       " 761,\n",
       " 781,\n",
       " 814,\n",
       " 850,\n",
       " 872,\n",
       " 904,\n",
       " 906,\n",
       " 917,\n",
       " 922,\n",
       " 950,\n",
       " 967,\n",
       " 990,\n",
       " 1009,\n",
       " 1031,\n",
       " 1034,\n",
       " 1060,\n",
       " 1071,\n",
       " 1075,\n",
       " 1088,\n",
       " 1120,\n",
       " 1140,\n",
       " 1189,\n",
       " 1198,\n",
       " 1271,\n",
       " 1281,\n",
       " 1288,\n",
       " 1293,\n",
       " 1297,\n",
       " 1300,\n",
       " 1302,\n",
       " 1305,\n",
       " 1324,\n",
       " 1358,\n",
       " 1424,\n",
       " 1441,\n",
       " 1504,\n",
       " 1506,\n",
       " 1524,\n",
       " 1557,\n",
       " 1570,\n",
       " 1587,\n",
       " 1611,\n",
       " 1640,\n",
       " 1660,\n",
       " 1697,\n",
       " 1750,\n",
       " 1798,\n",
       " 1814,\n",
       " 1826,\n",
       " 1834,\n",
       " 1884,\n",
       " 1893,\n",
       " 1902,\n",
       " 1947,\n",
       " 1958,\n",
       " 2030,\n",
       " 2033,\n",
       " 2046,\n",
       " 2079,\n",
       " 2105,\n",
       " 2121,\n",
       " 2131,\n",
       " 2158,\n",
       " 2173,\n",
       " 2202,\n",
       " 2211,\n",
       " 2221,\n",
       " 2338,\n",
       " 2340,\n",
       " 2371,\n",
       " 2373,\n",
       " 2410,\n",
       " 2432,\n",
       " 2444,\n",
       " 2551,\n",
       " 2572,\n",
       " 2578,\n",
       " 2580,\n",
       " 2606,\n",
       " 2640,\n",
       " 2647,\n",
       " 2717,\n",
       " 2764,\n",
       " 2777,\n",
       " 2797,\n",
       " 2817,\n",
       " 2830,\n",
       " 2863,\n",
       " 2879,\n",
       " 2890,\n",
       " 3004,\n",
       " 3089,\n",
       " 3094,\n",
       " 3142,\n",
       " 3150,\n",
       " 3222,\n",
       " 3263,\n",
       " 3312,\n",
       " 3335,\n",
       " 3355,\n",
       " 3435,\n",
       " 3492,\n",
       " 3517,\n",
       " 3536,\n",
       " 3537,\n",
       " 3574,\n",
       " 3591,\n",
       " 3620,\n",
       " 3627,\n",
       " 3640,\n",
       " 3645,\n",
       " 3653,\n",
       " 3661,\n",
       " 3733,\n",
       " 3735,\n",
       " 3748,\n",
       " 3754,\n",
       " 3775,\n",
       " 3776,\n",
       " 3786,\n",
       " 3790,\n",
       " 3793,\n",
       " 3800,\n",
       " 3823,\n",
       " 3839,\n",
       " 3840,\n",
       " 3854,\n",
       " 3884,\n",
       " 3953,\n",
       " 3959,\n",
       " 3996,\n",
       " 4000,\n",
       " 4009,\n",
       " 4021,\n",
       " 4033,\n",
       " 4036,\n",
       " 4063,\n",
       " 4094,\n",
       " 4099,\n",
       " 4161,\n",
       " 4176,\n",
       " 4204,\n",
       " 4230,\n",
       " 4263,\n",
       " 4278,\n",
       " 4288,\n",
       " 4290,\n",
       " 4297,\n",
       " 4324,\n",
       " 4331,\n",
       " 4338,\n",
       " 4349,\n",
       " 4375,\n",
       " 4420,\n",
       " 4440,\n",
       " 4499,\n",
       " 4525,\n",
       " 4615,\n",
       " 4641,\n",
       " 4646,\n",
       " 4657,\n",
       " 4681,\n",
       " 4726,\n",
       " 4742,\n",
       " 4768,\n",
       " 4789,\n",
       " 4809,\n",
       " 4870,\n",
       " 4873,\n",
       " 4923,\n",
       " 4940,\n",
       " 4991,\n",
       " 5042,\n",
       " 5078,\n",
       " 5081,\n",
       " 5090,\n",
       " 5154,\n",
       " 5165,\n",
       " 5218,\n",
       " 5236,\n",
       " 5268,\n",
       " 5280,\n",
       " 5298,\n",
       " 5310,\n",
       " 5347,\n",
       " 5364,\n",
       " 5418,\n",
       " 5452,\n",
       " 5463,\n",
       " 5466,\n",
       " 5505,\n",
       " 5507,\n",
       " 5570,\n",
       " 5610,\n",
       " 5663,\n",
       " 5678,\n",
       " 5716,\n",
       " 5722,\n",
       " 5744,\n",
       " 5749,\n",
       " 5777,\n",
       " 5782,\n",
       " 5823,\n",
       " 5881,\n",
       " 5924,\n",
       " 5928,\n",
       " 5957,\n",
       " 5978,\n",
       " 5983,\n",
       " 5991,\n",
       " 6026,\n",
       " 6039,\n",
       " 6055,\n",
       " 6096,\n",
       " 6125,\n",
       " 6232,\n",
       " 6263,\n",
       " 6326,\n",
       " 6340,\n",
       " 6367,\n",
       " 6379,\n",
       " 6384,\n",
       " 6417,\n",
       " 6430,\n",
       " 6465,\n",
       " 6473,\n",
       " 6481,\n",
       " 6495,\n",
       " 6559,\n",
       " 6586,\n",
       " 6588,\n",
       " 6595,\n",
       " 6623,\n",
       " 6633,\n",
       " 6699,\n",
       " 6704,\n",
       " 6716,\n",
       " 6723,\n",
       " 6771,\n",
       " 6854,\n",
       " 6856,\n",
       " 6857,\n",
       " 6914,\n",
       " 6936,\n",
       " 6954,\n",
       " 6955,\n",
       " 6969,\n",
       " 6991,\n",
       " 7004,\n",
       " 7084,\n",
       " 7110,\n",
       " 7143,\n",
       " 7148,\n",
       " 7152,\n",
       " 7158,\n",
       " 7160,\n",
       " 7185,\n",
       " 7189,\n",
       " 7202,\n",
       " 7206,\n",
       " 7218,\n",
       " 7235,\n",
       " 7238,\n",
       " 7266,\n",
       " 7290,\n",
       " 7292,\n",
       " 7301,\n",
       " 7307,\n",
       " 7312,\n",
       " 7377,\n",
       " 7383,\n",
       " 7404,\n",
       " 7453,\n",
       " 7466,\n",
       " 7467,\n",
       " 7488,\n",
       " 7494,\n",
       " 7529,\n",
       " 7549,\n",
       " 7572,\n",
       " 7581,\n",
       " 7609,\n",
       " 7663,\n",
       " 7668,\n",
       " 7685,\n",
       " 7739,\n",
       " 7803,\n",
       " 7830,\n",
       " 7845,\n",
       " 7862,\n",
       " 7884,\n",
       " 7894,\n",
       " 7907,\n",
       " 7974,\n",
       " 7988,\n",
       " 8007,\n",
       " 8008,\n",
       " 8012,\n",
       " 8030,\n",
       " 8035,\n",
       " 8044,\n",
       " 8046,\n",
       " 8063,\n",
       " 8083,\n",
       " 8138,\n",
       " 8196,\n",
       " 8206,\n",
       " 8216,\n",
       " 8260,\n",
       " 8272,\n",
       " 8325,\n",
       " 8336,\n",
       " 8348,\n",
       " 8365,\n",
       " 8372,\n",
       " 8395,\n",
       " 8409,\n",
       " 8417,\n",
       " 8450,\n",
       " 8452,\n",
       " 8474,\n",
       " 8494,\n",
       " 8503,\n",
       " 8549,\n",
       " 8559,\n",
       " 8584,\n",
       " 8605,\n",
       " 8687,\n",
       " 8692,\n",
       " 8699,\n",
       " 8717,\n",
       " 8814,\n",
       " 8866,\n",
       " 8902,\n",
       " 8977,\n",
       " 8992,\n",
       " 9006,\n",
       " 9099,\n",
       " 9110,\n",
       " 9125,\n",
       " 9132,\n",
       " 9149,\n",
       " 9157,\n",
       " 9167,\n",
       " 9177,\n",
       " 9182,\n",
       " 9205,\n",
       " 9275,\n",
       " 9285,\n",
       " 9294,\n",
       " 9387,\n",
       " 9399,\n",
       " 9405,\n",
       " 9445,\n",
       " 9447,\n",
       " 9457,\n",
       " 9573,\n",
       " 9622,\n",
       " 9663,\n",
       " 9744,\n",
       " 9774,\n",
       " 9786,\n",
       " 9808,\n",
       " 9859,\n",
       " 9887,\n",
       " 9912,\n",
       " 9916,\n",
       " 9925,\n",
       " 9932,\n",
       " 9943,\n",
       " 9960,\n",
       " 10007,\n",
       " 10051,\n",
       " 10056,\n",
       " 10123,\n",
       " 10134,\n",
       " 10155,\n",
       " 10156,\n",
       " 10164,\n",
       " 10223,\n",
       " 10239,\n",
       " 10279,\n",
       " 10356,\n",
       " 10376,\n",
       " 10385,\n",
       " 10391,\n",
       " 10394,\n",
       " 10423,\n",
       " 10446,\n",
       " 10477,\n",
       " 10506,\n",
       " 10519,\n",
       " 10588,\n",
       " 10712,\n",
       " 10718,\n",
       " 10753,\n",
       " 10839,\n",
       " 10846,\n",
       " 10848,\n",
       " 10849,\n",
       " 10866,\n",
       " 10911,\n",
       " 10945,\n",
       " 10956,\n",
       " 10994,\n",
       " 11032,\n",
       " 11043,\n",
       " 11050,\n",
       " 11061,\n",
       " 11063,\n",
       " 11068,\n",
       " 11096,\n",
       " 11100,\n",
       " 11103,\n",
       " 11106,\n",
       " 11144,\n",
       " 11155,\n",
       " 11166,\n",
       " 11169,\n",
       " 11191,\n",
       " 11238,\n",
       " 11259,\n",
       " 11266,\n",
       " 11324,\n",
       " 11392,\n",
       " 11396,\n",
       " 11412,\n",
       " 11439,\n",
       " 11468,\n",
       " 11524,\n",
       " 11537,\n",
       " 11584,\n",
       " 11627,\n",
       " 11647,\n",
       " 11698,\n",
       " 11711,\n",
       " 11718,\n",
       " 11722,\n",
       " 11735,\n",
       " 11740,\n",
       " 11780,\n",
       " 11786,\n",
       " 11791,\n",
       " 11801,\n",
       " 11830,\n",
       " 11842,\n",
       " 11844,\n",
       " 11857,\n",
       " 11878,\n",
       " 11913,\n",
       " 11936,\n",
       " 11938,\n",
       " 11939,\n",
       " 11977,\n",
       " 11997,\n",
       " 12003,\n",
       " 12018,\n",
       " 12021,\n",
       " 12022,\n",
       " 12054,\n",
       " 12060,\n",
       " 12083,\n",
       " 12085,\n",
       " 12088,\n",
       " 12165,\n",
       " 12188,\n",
       " 12207,\n",
       " 12213,\n",
       " 12219,\n",
       " 12251,\n",
       " 12260,\n",
       " 12287,\n",
       " 12301,\n",
       " 12307,\n",
       " 12333,\n",
       " 12379,\n",
       " 12386,\n",
       " 12405,\n",
       " 12409,\n",
       " 12411,\n",
       " 12426,\n",
       " 12454,\n",
       " 12496,\n",
       " 12594,\n",
       " 12600,\n",
       " 12603,\n",
       " 12621,\n",
       " 12623,\n",
       " 12628,\n",
       " 12648,\n",
       " 12654,\n",
       " 12662,\n",
       " 12696,\n",
       " 12699,\n",
       " 12726,\n",
       " 12730,\n",
       " 12731,\n",
       " 12744,\n",
       " 12790,\n",
       " 12843,\n",
       " 12880,\n",
       " 12889,\n",
       " 12904,\n",
       " 12943,\n",
       " 12967,\n",
       " 13017,\n",
       " 13057,\n",
       " 13063,\n",
       " 13079,\n",
       " 13091,\n",
       " 13093,\n",
       " 13100,\n",
       " 13124,\n",
       " 13135,\n",
       " 13137,\n",
       " 13240,\n",
       " 13289,\n",
       " 13371,\n",
       " 13374,\n",
       " 13391,\n",
       " 13398,\n",
       " 13408,\n",
       " 13414,\n",
       " 13426,\n",
       " 13435,\n",
       " 13464,\n",
       " 13503,\n",
       " 13538,\n",
       " 13541,\n",
       " 13585,\n",
       " 13586,\n",
       " 13669,\n",
       " 13756,\n",
       " 13781,\n",
       " 13799,\n",
       " 13801,\n",
       " 13829,\n",
       " 13863,\n",
       " 13866,\n",
       " 13869,\n",
       " 13877,\n",
       " 13908,\n",
       " 13913,\n",
       " 13932,\n",
       " 13973,\n",
       " 14002,\n",
       " 14011,\n",
       " 14020,\n",
       " 14083,\n",
       " 14086,\n",
       " 14139,\n",
       " 14148,\n",
       " 14159,\n",
       " 14160,\n",
       " 14209,\n",
       " 14213,\n",
       " 14225,\n",
       " 14229,\n",
       " 14262,\n",
       " 14275,\n",
       " 14277,\n",
       " 14294,\n",
       " 14319,\n",
       " 14323,\n",
       " 14335,\n",
       " 14337,\n",
       " 14359,\n",
       " 14376,\n",
       " 14384,\n",
       " 14458,\n",
       " 14460,\n",
       " 14489,\n",
       " 14521,\n",
       " 14549,\n",
       " 14562,\n",
       " 14596,\n",
       " 14646,\n",
       " 14653,\n",
       " 14697,\n",
       " 14722,\n",
       " 14734,\n",
       " 14770,\n",
       " 14784,\n",
       " 14787,\n",
       " 14796,\n",
       " 14827,\n",
       " 14828,\n",
       " 14849,\n",
       " 14861,\n",
       " 14862,\n",
       " 15005,\n",
       " 15035,\n",
       " 15043,\n",
       " 15118,\n",
       " 15120,\n",
       " 15206,\n",
       " 15220,\n",
       " 15222,\n",
       " 15247,\n",
       " 15248,\n",
       " 15258,\n",
       " 15287,\n",
       " 15296,\n",
       " 15310,\n",
       " 15401,\n",
       " 15408,\n",
       " 15449,\n",
       " 15457,\n",
       " 15509,\n",
       " 15521,\n",
       " 15572,\n",
       " 15607,\n",
       " 15620,\n",
       " 15634,\n",
       " 15637,\n",
       " 15701,\n",
       " 15754,\n",
       " 15782,\n",
       " 15790,\n",
       " 15804,\n",
       " 15806,\n",
       " 15849,\n",
       " 15902,\n",
       " 15919,\n",
       " 15945,\n",
       " 15972,\n",
       " 15990,\n",
       " 16031,\n",
       " 16033,\n",
       " 16064,\n",
       " 16066,\n",
       " 16075,\n",
       " 16105,\n",
       " 16120,\n",
       " 16166,\n",
       " 16178,\n",
       " 16211,\n",
       " 16219,\n",
       " 16231,\n",
       " 16246,\n",
       " 16256,\n",
       " 16275,\n",
       " 16314,\n",
       " 16330,\n",
       " 16336,\n",
       " 16338,\n",
       " 16358,\n",
       " 16363,\n",
       " 16388,\n",
       " 16390,\n",
       " 16414,\n",
       " 16465,\n",
       " 16477,\n",
       " 16494,\n",
       " 16500,\n",
       " 16507,\n",
       " 16514,\n",
       " 16523,\n",
       " 16525,\n",
       " 16572,\n",
       " 16582,\n",
       " 16613,\n",
       " 16641,\n",
       " 16652,\n",
       " 16659,\n",
       " 16734,\n",
       " 16739,\n",
       " 16755,\n",
       " 16771,\n",
       " 16783,\n",
       " 16789,\n",
       " 16798,\n",
       " 16810,\n",
       " 16857,\n",
       " 16869,\n",
       " 16943,\n",
       " 16945,\n",
       " 16950,\n",
       " 16971,\n",
       " 17000,\n",
       " 17002,\n",
       " 17019,\n",
       " 17073,\n",
       " 17112,\n",
       " 17130,\n",
       " 17131,\n",
       " 17152,\n",
       " 17238,\n",
       " 17265,\n",
       " 17298,\n",
       " 17308,\n",
       " 17314,\n",
       " 17331,\n",
       " 17344,\n",
       " 17389,\n",
       " 17398,\n",
       " 17408,\n",
       " 17443,\n",
       " 17463,\n",
       " 17479,\n",
       " 17507,\n",
       " 17508,\n",
       " 17536,\n",
       " 17546,\n",
       " 17548,\n",
       " 17566,\n",
       " 17605,\n",
       " 17621,\n",
       " 17623,\n",
       " 17657,\n",
       " 17727,\n",
       " 17737,\n",
       " 17755,\n",
       " 17805,\n",
       " 17808,\n",
       " 17811,\n",
       " 17814,\n",
       " 17839,\n",
       " 17978,\n",
       " 18004,\n",
       " 18044,\n",
       " 18053,\n",
       " 18078,\n",
       " 18094,\n",
       " 18178,\n",
       " 18193,\n",
       " 18197,\n",
       " 18207,\n",
       " 18228,\n",
       " 18288,\n",
       " 18290,\n",
       " 18292,\n",
       " 18295,\n",
       " 18361,\n",
       " 18364,\n",
       " 18377,\n",
       " 18378,\n",
       " 18393,\n",
       " 18420,\n",
       " 18429,\n",
       " 18437,\n",
       " 18439}"
      ]
     },
     "execution_count": 85,
     "metadata": {},
     "output_type": "execute_result"
    }
   ],
   "source": [
    "set(twitter[user_max_twitter].keys())"
   ]
  },
  {
   "cell_type": "markdown",
   "metadata": {},
   "source": [
    "### Statistiche puntuali\n",
    "Una volta ottenuto il campione (lista dei gradi) posso calcolare alcune statistiche:\n",
    "* il grado medio\n",
    "* il grado massimo\n",
    "* il grado minimo\n",
    "* la mediana del campione\n",
    "* la moda del campione\n",
    "\n",
    "Per calcolare queste statistiche introduciamo due librerie per il calcolo scientifico: __numpy__ e __scipy__."
   ]
  },
  {
   "cell_type": "code",
   "execution_count": 86,
   "metadata": {},
   "outputs": [],
   "source": [
    "import scipy.stats as sp"
   ]
  },
  {
   "cell_type": "markdown",
   "metadata": {},
   "source": [
    "#### Grado medio"
   ]
  },
  {
   "cell_type": "code",
   "execution_count": 4,
   "metadata": {},
   "outputs": [],
   "source": [
    "campione_grado_karate = list(dict(karate_graph.degree()).values())"
   ]
  },
  {
   "cell_type": "code",
   "execution_count": 88,
   "metadata": {},
   "outputs": [
    {
     "data": {
      "text/plain": [
       "4.588235294117647"
      ]
     },
     "execution_count": 88,
     "metadata": {},
     "output_type": "execute_result"
    }
   ],
   "source": [
    "np.mean(campione_grado_karate)"
   ]
  },
  {
   "cell_type": "markdown",
   "metadata": {},
   "source": [
    "oppure"
   ]
  },
  {
   "cell_type": "code",
   "execution_count": 89,
   "metadata": {},
   "outputs": [
    {
     "data": {
      "text/plain": [
       "4.588235294117647"
      ]
     },
     "execution_count": 89,
     "metadata": {},
     "output_type": "execute_result"
    }
   ],
   "source": [
    "sum(campione_grado_karate)/karate_graph.order()"
   ]
  },
  {
   "cell_type": "markdown",
   "metadata": {},
   "source": [
    "#### Grado massimo e minimo"
   ]
  },
  {
   "cell_type": "code",
   "execution_count": 90,
   "metadata": {},
   "outputs": [
    {
     "name": "stdout",
     "output_type": "stream",
     "text": [
      "17\n",
      "1\n"
     ]
    }
   ],
   "source": [
    "print(np.max(campione_grado_karate))\n",
    "print(np.min(campione_grado_karate))"
   ]
  },
  {
   "cell_type": "markdown",
   "metadata": {},
   "source": [
    "#### moda e mediana"
   ]
  },
  {
   "cell_type": "code",
   "execution_count": 93,
   "metadata": {},
   "outputs": [
    {
     "name": "stdout",
     "output_type": "stream",
     "text": [
      "3.0\n",
      "2\n"
     ]
    }
   ],
   "source": [
    "print(np.median(campione_grado_karate)) # mediana\n",
    "print(sp.mode(campione_grado_karate).mode[0]) # moda"
   ]
  },
  {
   "cell_type": "markdown",
   "metadata": {},
   "source": [
    "## La distribuzione del grado - PDF/CDF/CCDF\n",
    "Dato il nostro campione il primo passo nella costruzione della varie funzioni che descrivono la distribuzione è contare quante volte un elemento occorre.\n",
    "\n",
    "In questo caso possiamo utilizzare il metodo __histogram__ di numpy.\n",
    "\n",
    "Vediamo un esempio del suo funzionamento ..."
   ]
  },
  {
   "cell_type": "code",
   "execution_count": 94,
   "metadata": {},
   "outputs": [],
   "source": [
    "import random"
   ]
  },
  {
   "cell_type": "code",
   "execution_count": 95,
   "metadata": {},
   "outputs": [],
   "source": [
    "test = [random.randint(1,10) for i in range(1000)]"
   ]
  },
  {
   "cell_type": "markdown",
   "metadata": {},
   "source": [
    "Per avere un'idea del contenuto di test utilizzo lo slicing per estrarre una sottolista. __list[start:end]__ indica che voglio la sottolista che inizia all'indice _start_ incluso e termina all'indice _end_ escluso."
   ]
  },
  {
   "cell_type": "code",
   "execution_count": 96,
   "metadata": {},
   "outputs": [
    {
     "data": {
      "text/plain": [
       "[6, 3, 3, 6, 7, 4, 8, 2, 10, 3]"
      ]
     },
     "execution_count": 96,
     "metadata": {},
     "output_type": "execute_result"
    }
   ],
   "source": [
    "test[:10]"
   ]
  },
  {
   "cell_type": "markdown",
   "metadata": {},
   "source": [
    "L'interfaccia del metodo histogram è la seguente:\n",
    "\n",
    "**numpy.histogram(a, bins=10, range=None, normed=False, weights=None, density=None)**\n",
    "\n",
    "L'unico parametro che ci interessa è __bins__, il quale accetta:\n",
    "1. un intero\n",
    "2. una lista di float\n",
    "3. una stringa (non ci interessa)\n",
    "\n",
    "Il parametro è propedeutico alla computazione di intervalli consecutivi:\n",
    "<img src=\"figures/intervalli.jpg\">\n",
    "\n",
    "Nel nostro caso utilizzeremo una lista di numeri.\n",
    "\n",
    "Come primo passo estraiamo max e min"
   ]
  },
  {
   "cell_type": "code",
   "execution_count": 97,
   "metadata": {},
   "outputs": [
    {
     "data": {
      "text/plain": [
       "(1, 10)"
      ]
     },
     "execution_count": 97,
     "metadata": {},
     "output_type": "execute_result"
    }
   ],
   "source": [
    "min_t = min(test)\n",
    "max_t = max(test)\n",
    "min_t, max_t"
   ]
  },
  {
   "cell_type": "markdown",
   "metadata": {},
   "source": [
    "Creo una lista con gli estremi degli intervalli. Nel nostro caso ogni intervallo ha lunghezza 1. Utilizzo il metodo __arange__ di numpy la cui semantica è uguale al metodo __range__ visto nelle lezione precedente."
   ]
  },
  {
   "cell_type": "code",
   "execution_count": 99,
   "metadata": {},
   "outputs": [
    {
     "data": {
      "text/plain": [
       "array([ 1,  2,  3,  4,  5,  6,  7,  8,  9, 10])"
      ]
     },
     "execution_count": 99,
     "metadata": {},
     "output_type": "execute_result"
    }
   ],
   "source": [
    "np.arange(min_t,max_t+1)"
   ]
  },
  {
   "cell_type": "markdown",
   "metadata": {},
   "source": [
    "Ora eseguiamo il conteggio"
   ]
  },
  {
   "cell_type": "code",
   "execution_count": 100,
   "metadata": {},
   "outputs": [],
   "source": [
    "counts, bins = np.histogram(test, bins=np.arange(min_t,max_t+1))"
   ]
  },
  {
   "cell_type": "code",
   "execution_count": 101,
   "metadata": {},
   "outputs": [
    {
     "name": "stdout",
     "output_type": "stream",
     "text": [
      "[ 1  2  3  4  5  6  7  8  9 10]\n",
      "[ 99  99  84  99  98 102 102 110 207]\n"
     ]
    }
   ],
   "source": [
    "print(bins)\n",
    "print(counts)"
   ]
  },
  {
   "cell_type": "markdown",
   "metadata": {},
   "source": [
    "La lunghezza di count è 9. C'è un errore !! I conteggi dei 9 e dei 10 vengono aggregati.\n",
    "\n",
    "Gli intervalli sono chiusi a sinistra e aperti a destra: [a,b) <=> a<= x < b, ad eccezione dell'ultimo intervallo che è chiuso su entrambi gli estremi. Nel nostro caso l'ultimo intervallo sarà [9,10] => vengono conteggiati sia i 9 che i 10. Per ovviare al problema basta estendere l'intervallo di un'altra unità."
   ]
  },
  {
   "cell_type": "code",
   "execution_count": 102,
   "metadata": {},
   "outputs": [],
   "source": [
    "counts, bins = np.histogram(test, bins=np.arange(min_t,max_t+2))"
   ]
  },
  {
   "cell_type": "code",
   "execution_count": 103,
   "metadata": {},
   "outputs": [
    {
     "name": "stdout",
     "output_type": "stream",
     "text": [
      "[ 1  2  3  4  5  6  7  8  9 10 11]\n",
      "[ 99  99  84  99  98 102 102 110 108  99]\n"
     ]
    }
   ],
   "source": [
    "print(bins)\n",
    "print(counts)"
   ]
  },
  {
   "cell_type": "markdown",
   "metadata": {},
   "source": [
    "Ora possiamo calcolare la PDF, i.e.\n",
    "\\begin{equation*}\n",
    "P(K = k) = \\frac{count(k)}{N}\n",
    "\\end{equation*}\n",
    "dove $N$ è il numero di elementi del campione."
   ]
  },
  {
   "cell_type": "code",
   "execution_count": 104,
   "metadata": {},
   "outputs": [
    {
     "data": {
      "text/plain": [
       "array([0.099, 0.099, 0.084, 0.099, 0.098, 0.102, 0.102, 0.11 , 0.108,\n",
       "       0.099])"
      ]
     },
     "execution_count": 104,
     "metadata": {},
     "output_type": "execute_result"
    }
   ],
   "source": [
    "pdf = counts / len(test)\n",
    "pdf"
   ]
  },
  {
   "cell_type": "markdown",
   "metadata": {},
   "source": [
    "**Esercizio**: come possiamo verificare che pdf sia veramente una distribuzione di probabilità?"
   ]
  },
  {
   "cell_type": "code",
   "execution_count": 107,
   "metadata": {},
   "outputs": [
    {
     "data": {
      "text/plain": [
       "1.0"
      ]
     },
     "execution_count": 107,
     "metadata": {},
     "output_type": "execute_result"
    }
   ],
   "source": [
    "np.sum(pdf)"
   ]
  },
  {
   "cell_type": "code",
   "execution_count": 110,
   "metadata": {},
   "outputs": [
    {
     "data": {
      "text/plain": [
       "0"
      ]
     },
     "execution_count": 110,
     "metadata": {},
     "output_type": "execute_result"
    }
   ],
   "source": [
    "len(([e for e in pdf if not (e >= 0 and e<=1)]))"
   ]
  },
  {
   "cell_type": "markdown",
   "metadata": {},
   "source": [
    "Ora possiamo applicare lo stesso procedimento al campione con i gradi dei nodi."
   ]
  },
  {
   "cell_type": "code",
   "execution_count": 5,
   "metadata": {},
   "outputs": [],
   "source": [
    "min_k = min(campione_grado_karate)\n",
    "max_k = max(campione_grado_karate)\n",
    "count_karate, bins_karate = np.histogram(campione_grado_karate,\n",
    "                                        bins = np.arange(min_k,max_k+2))"
   ]
  },
  {
   "cell_type": "code",
   "execution_count": 112,
   "metadata": {},
   "outputs": [
    {
     "data": {
      "text/plain": [
       "{1: 1,\n",
       " 2: 11,\n",
       " 3: 6,\n",
       " 4: 6,\n",
       " 5: 3,\n",
       " 6: 2,\n",
       " 7: 0,\n",
       " 8: 0,\n",
       " 9: 1,\n",
       " 10: 1,\n",
       " 11: 0,\n",
       " 12: 1,\n",
       " 13: 0,\n",
       " 14: 0,\n",
       " 15: 0,\n",
       " 16: 1,\n",
       " 17: 1}"
      ]
     },
     "execution_count": 112,
     "metadata": {},
     "output_type": "execute_result"
    }
   ],
   "source": [
    "dict(zip(bins_karate,count_karate))"
   ]
  },
  {
   "cell_type": "code",
   "execution_count": 6,
   "metadata": {},
   "outputs": [
    {
     "name": "stdout",
     "output_type": "stream",
     "text": [
      "[0.02941176 0.32352941 0.17647059 0.17647059 0.08823529 0.05882353\n",
      " 0.         0.         0.02941176 0.02941176 0.         0.02941176\n",
      " 0.         0.         0.         0.02941176 0.02941176]\n"
     ]
    }
   ],
   "source": [
    "pdf_karate = count_karate / karate_graph.order()\n",
    "print(pdf_karate)"
   ]
  },
  {
   "cell_type": "markdown",
   "metadata": {},
   "source": [
    "###  Visualizzazione della PDF\n",
    "Utilizzando matplotlib possiamo visualizzare la PDF"
   ]
  },
  {
   "cell_type": "code",
   "execution_count": 114,
   "metadata": {},
   "outputs": [
    {
     "data": {
      "text/plain": [
       "Text(0, 0.5, 'PDF')"
      ]
     },
     "execution_count": 114,
     "metadata": {},
     "output_type": "execute_result"
    },
    {
     "data": {
      "image/png": "[encoded data removed]",
      "text/plain": [
       "<Figure size 1152x648 with 1 Axes>"
      ]
     },
     "metadata": {
      "needs_background": "light"
     },
     "output_type": "display_data"
    }
   ],
   "source": [
    "fig = plt.figure(figsize=(16,9))\n",
    "assi = fig.gca()\n",
    "assi.plot(bins_karate[:-1],pdf_karate, color='orange',marker='o', linestyle='--', ms=16)\n",
    "assi.set_xlabel('Grado',size=30)\n",
    "assi.set_ylabel('PDF',size=30)"
   ]
  },
  {
   "cell_type": "markdown",
   "metadata": {},
   "source": [
    "# Calcolo della PDF in We Heart It"
   ]
  },
  {
   "cell_type": "markdown",
   "metadata": {},
   "source": [
    "## Graph loading from db"
   ]
  },
  {
   "cell_type": "code",
   "execution_count": 115,
   "metadata": {},
   "outputs": [],
   "source": [
    "import sqlite3"
   ]
  },
  {
   "cell_type": "code",
   "execution_count": 116,
   "metadata": {},
   "outputs": [],
   "source": [
    "database = sqlite3.connect('whispider/link_db')"
   ]
  },
  {
   "cell_type": "code",
   "execution_count": 117,
   "metadata": {},
   "outputs": [],
   "source": [
    "whi_graph = nx.DiGraph()\n",
    "for e in database.execute('select * from links;'):\n",
    "    whi_graph.add_edge(e[0],e[1])"
   ]
  },
  {
   "cell_type": "code",
   "execution_count": 118,
   "metadata": {},
   "outputs": [
    {
     "data": {
      "text/plain": [
       "(61686, 92472)"
      ]
     },
     "execution_count": 118,
     "metadata": {},
     "output_type": "execute_result"
    }
   ],
   "source": [
    "whi_graph.order(), whi_graph.size()"
   ]
  },
  {
   "cell_type": "markdown",
   "metadata": {},
   "source": [
    "## Distribuzione del grado"
   ]
  },
  {
   "cell_type": "code",
   "execution_count": 121,
   "metadata": {},
   "outputs": [],
   "source": [
    "campione_gradi_whi = list(dict(whi_graph.degree()).values())"
   ]
  },
  {
   "cell_type": "code",
   "execution_count": 122,
   "metadata": {},
   "outputs": [
    {
     "data": {
      "text/plain": [
       "(1, 847)"
      ]
     },
     "execution_count": 122,
     "metadata": {},
     "output_type": "execute_result"
    }
   ],
   "source": [
    "min_whi = min(campione_gradi_whi)\n",
    "max_whi = max(campione_gradi_whi)\n",
    "min_whi, max_whi"
   ]
  },
  {
   "cell_type": "code",
   "execution_count": 123,
   "metadata": {},
   "outputs": [],
   "source": [
    "count_whi, bin_whi = np.histogram(campione_gradi_whi, bins = np.arange(min_whi,max_whi+2))"
   ]
  },
  {
   "cell_type": "code",
   "execution_count": 128,
   "metadata": {},
   "outputs": [],
   "source": [
    "pdf_whi = count_whi/ whi_graph.order()"
   ]
  },
  {
   "cell_type": "code",
   "execution_count": 129,
   "metadata": {},
   "outputs": [
    {
     "data": {
      "text/plain": [
       "1.0"
      ]
     },
     "execution_count": 129,
     "metadata": {},
     "output_type": "execute_result"
    }
   ],
   "source": [
    "np.sum(pdf_whi)"
   ]
  },
  {
   "cell_type": "markdown",
   "metadata": {},
   "source": [
    "### Visualizzazione"
   ]
  },
  {
   "cell_type": "code",
   "execution_count": 132,
   "metadata": {},
   "outputs": [
    {
     "data": {
      "text/plain": [
       "Text(0, 0.5, 'PDF')"
      ]
     },
     "execution_count": 132,
     "metadata": {},
     "output_type": "execute_result"
    },
    {
     "data": {
      "image/png": "[encoded data removed]",
      "text/plain": [
       "<Figure size 1152x648 with 1 Axes>"
      ]
     },
     "metadata": {
      "needs_background": "light"
     },
     "output_type": "display_data"
    }
   ],
   "source": [
    "fig = plt.figure(figsize=(16,9))\n",
    "assi = fig.gca()\n",
    "assi.plot(bin_whi[:-1],pdf_whi, color='orange',marker='o', linestyle='--', ms=7)\n",
    "assi.set_xlabel('Grado',size=30)\n",
    "assi.set_ylabel('PDF',size=30)"
   ]
  },
  {
   "cell_type": "markdown",
   "metadata": {},
   "source": [
    "### CDF\n",
    "La funzione di ripartizione è definita come:\n",
    "$$ F_X(x) = P(X\\leq x);  -\\infty<x<+\\infty $$\n",
    "nel caso discreto possiamo scrivere l'evento $X\\leq x$ come \n",
    "$$ \\bigcup_{k \\leq x} (X = k) $$\n",
    "Ciò permette di riscrevere la formula della funzione di ripartizione come\n",
    "$$ F_X(x) = P(\\bigcup_{k \\leq x} (X = k)) = \\sum_{k\\leq x}P(X=k)$$\n",
    "Nel caso del grado, e in generale per un campione finito, $P(X=k)$ sappiamo come calcolarlo (abbiamo sprecato un quarto di notebook per farlo). Inoltre, dato che il campione è finito e abbiamo un minimo e massimo, tutti i valori di k minore del minimo e maggiori del massimo hanno probabilità 0. Tutto ciò ci permette di ricavare la formula\n",
    "$$ F_X(x) = \\sum_{min \\leq k\\leq x}P(X=k)$$\n",
    "dove min è il valore minimo del campione.\n",
    "\n",
    "Se vogliamo calcolare la CDF - funzione di ripartizione - possiamo sfruttare il seguente schema:\n",
    "<img src=\"figures/somma_cumulativa.jpg\">\n",
    "In sintesi per ogni valore di k ammissibile posso sfruttare la somma calcolata al passo precedente e aggiungo il valore relativo al k che sto considerando.\n",
    "\n",
    "La funzione cumsum di numpy esegue questo tipo di sommatoria. Quindi posso facilmente ottenere la cdf"
   ]
  },
  {
   "cell_type": "code",
   "execution_count": 12,
   "metadata": {},
   "outputs": [
    {
     "data": {
      "text/plain": [
       "array([ 1,  2,  4,  7, 12])"
      ]
     },
     "execution_count": 12,
     "metadata": {},
     "output_type": "execute_result"
    }
   ],
   "source": [
    "a = np.array([1,1,2,3,5])\n",
    "np.cumsum(a)"
   ]
  },
  {
   "cell_type": "code",
   "execution_count": 7,
   "metadata": {},
   "outputs": [],
   "source": [
    "cdf_karate = np.cumsum(pdf_karate)"
   ]
  },
  {
   "cell_type": "code",
   "execution_count": 8,
   "metadata": {},
   "outputs": [
    {
     "data": {
      "text/plain": [
       "array([0.02941176, 0.35294118, 0.52941176, 0.70588235, 0.79411765,\n",
       "       0.85294118, 0.85294118, 0.85294118, 0.88235294, 0.91176471,\n",
       "       0.91176471, 0.94117647, 0.94117647, 0.94117647, 0.94117647,\n",
       "       0.97058824, 1.        ])"
      ]
     },
     "execution_count": 8,
     "metadata": {},
     "output_type": "execute_result"
    }
   ],
   "source": [
    "cdf_karate"
   ]
  },
  {
   "cell_type": "markdown",
   "metadata": {},
   "source": [
    "#### Visualizzazione"
   ]
  },
  {
   "cell_type": "code",
   "execution_count": 11,
   "metadata": {},
   "outputs": [
    {
     "data": {
      "text/plain": [
       "Text(0, 0.5, 'CDF $P(X\\\\leq x)$')"
      ]
     },
     "execution_count": 11,
     "metadata": {},
     "output_type": "execute_result"
    },
    {
     "data": {
      "image/png": "[encoded data removed]",
      "text/plain": [
       "<Figure size 1152x648 with 1 Axes>"
      ]
     },
     "metadata": {
      "needs_background": "light"
     },
     "output_type": "display_data"
    }
   ],
   "source": [
    "fig_cdf_karate = plt.figure(figsize=(16,9))\n",
    "assi = fig_cdf_karate.gca()\n",
    "assi.plot(bins_karate[:-1], cdf_karate, color = 'red', marker = 'o', linestyle = '--', ms = 16)\n",
    "assi.set_xlabel('Grado',size=30)\n",
    "assi.set_ylabel('CDF $P(X\\leq x)$',size=30)"
   ]
  },
  {
   "cell_type": "markdown",
   "metadata": {},
   "source": [
    "Per calcolare la CDF possiamo utilizzare l'oggetto ECDF del modulo statsmodel"
   ]
  },
  {
   "cell_type": "code",
   "execution_count": 13,
   "metadata": {},
   "outputs": [],
   "source": [
    "from statsmodels.distributions.empirical_distribution import ECDF"
   ]
  },
  {
   "cell_type": "markdown",
   "metadata": {},
   "source": [
    "L'oggetto ECDF restituisce una CDF partendo dal campione"
   ]
  },
  {
   "cell_type": "code",
   "execution_count": 19,
   "metadata": {},
   "outputs": [
    {
     "data": {
      "text/plain": [
       "Text(0, 0.5, 'CDF')"
      ]
     },
     "execution_count": 19,
     "metadata": {},
     "output_type": "execute_result"
    },
    {
     "data": {
      "image/png": "[encoded data removed]",
      "text/plain": [
       "<Figure size 1152x648 with 1 Axes>"
      ]
     },
     "metadata": {
      "needs_background": "light"
     },
     "output_type": "display_data"
    }
   ],
   "source": [
    "cdf_function = ECDF(campione_grado_karate)\n",
    "x = np.unique(campione_grado_karate)\n",
    "y = cdf_function(x)\n",
    "fig_cdf_function = plt.figure(figsize=(16,9))\n",
    "assi = fig_cdf_function.gca()\n",
    "assi.loglog(x,y,color = 'red', linestyle = '--', marker= 'o',ms = 16)\n",
    "assi.set_xlabel('Grado',size = 30)\n",
    "assi.set_ylabel('CDF',size = 30)"
   ]
  },
  {
   "cell_type": "markdown",
   "metadata": {},
   "source": [
    "## Analisi di una online social network\n",
    "### L'era della power-law :-)\n",
    "Ripetiamo la stess analisi su una sottorete estratta da Facebook (http://networkrepository.com/socfb-Stanford3.php)"
   ]
  },
  {
   "cell_type": "code",
   "execution_count": 20,
   "metadata": {},
   "outputs": [],
   "source": [
    "FB_non_orientato = nx.Graph()"
   ]
  },
  {
   "cell_type": "code",
   "execution_count": 21,
   "metadata": {},
   "outputs": [],
   "source": [
    "with open('data/socfb-Stanford3.mtx') as f:\n",
    "    f.readline()\n",
    "    f.readline()\n",
    "    for line in f:\n",
    "        a, b = line.strip().split()\n",
    "        FB_non_orientato.add_edge(int(a),int(b))"
   ]
  },
  {
   "cell_type": "code",
   "execution_count": 22,
   "metadata": {},
   "outputs": [
    {
     "name": "stdout",
     "output_type": "stream",
     "text": [
      "Nodi: 11586\n",
      "Archi: 568309\n"
     ]
    }
   ],
   "source": [
    "print('Nodi: {}'.format(FB_non_orientato.order()))\n",
    "print('Archi: {}'.format(FB_non_orientato.size()))"
   ]
  },
  {
   "cell_type": "markdown",
   "metadata": {},
   "source": [
    "## Degree analysis"
   ]
  },
  {
   "cell_type": "code",
   "execution_count": 23,
   "metadata": {},
   "outputs": [],
   "source": [
    "FB_degree = list(dict(FB_non_orientato.degree()).values())"
   ]
  },
  {
   "cell_type": "code",
   "execution_count": 24,
   "metadata": {},
   "outputs": [
    {
     "name": "stdout",
     "output_type": "stream",
     "text": [
      "Grado medio: 98.10271016744346\n",
      "Standard deviation: 98.33765103364449\n",
      "Grado mediano: 73.0\n"
     ]
    }
   ],
   "source": [
    "print('Grado medio: {}'.format(np.mean(FB_degree)))\n",
    "print('Standard deviation: {}'.format(np.std(FB_degree)))\n",
    "print('Grado mediano: {}'.format(np.median(FB_degree)))"
   ]
  },
  {
   "cell_type": "code",
   "execution_count": 25,
   "metadata": {},
   "outputs": [],
   "source": [
    "count_FB, bins_FB = np.histogram(FB_degree,bins=np.arange(np.min(FB_degree),np.max(FB_degree)+2))"
   ]
  },
  {
   "cell_type": "code",
   "execution_count": 26,
   "metadata": {},
   "outputs": [],
   "source": [
    "pdf_FB = count_FB / (FB_non_orientato.order())"
   ]
  },
  {
   "cell_type": "code",
   "execution_count": 27,
   "metadata": {},
   "outputs": [
    {
     "data": {
      "text/plain": [
       "Text(0, 0.5, 'PDF Facebook')"
      ]
     },
     "execution_count": 27,
     "metadata": {},
     "output_type": "execute_result"
    },
    {
     "data": {
      "image/png": "[encoded data removed]",
      "text/plain": [
       "<Figure size 1152x648 with 1 Axes>"
      ]
     },
     "metadata": {
      "needs_background": "light"
     },
     "output_type": "display_data"
    }
   ],
   "source": [
    "fig_pdf_fb = plt.figure(figsize=(16,9))\n",
    "assi = fig_pdf_fb.gca()\n",
    "assi.plot(bins_FB[:-1], pdf_FB, marker = 'o', linestyle='None', ms = 5)\n",
    "assi.set_xlabel('Grado',size=30)\n",
    "assi.set_ylabel('PDF Facebook', size = 30)"
   ]
  },
  {
   "cell_type": "code",
   "execution_count": 28,
   "metadata": {},
   "outputs": [
    {
     "data": {
      "text/plain": [
       "Text(0, 0.5, 'PDF Facebook')"
      ]
     },
     "execution_count": 28,
     "metadata": {},
     "output_type": "execute_result"
    },
    {
     "data": {
      "image/png": "[encoded data removed]",
      "text/plain": [
       "<Figure size 1152x648 with 1 Axes>"
      ]
     },
     "metadata": {
      "needs_background": "light"
     },
     "output_type": "display_data"
    }
   ],
   "source": [
    "fig_pdf_fb = plt.figure(figsize=(16,9))\n",
    "assi = fig_pdf_fb.gca()\n",
    "assi.loglog(bins_FB[:-1], pdf_FB, marker = 'o', linestyle='None', ms = 5)\n",
    "assi.set_xlabel('Grado',size=30)\n",
    "assi.set_ylabel('PDF Facebook', size = 30)"
   ]
  },
  {
   "cell_type": "markdown",
   "metadata": {},
   "source": [
    "### CDF in linear e logscale"
   ]
  },
  {
   "cell_type": "code",
   "execution_count": 32,
   "metadata": {},
   "outputs": [
    {
     "data": {
      "text/plain": [
       "Text(0, 0.5, 'CDF Facebook')"
      ]
     },
     "execution_count": 32,
     "metadata": {},
     "output_type": "execute_result"
    },
    {
     "data": {
      "image/png": "[encoded data removed]",
      "text/plain": [
       "<Figure size 1152x648 with 1 Axes>"
      ]
     },
     "metadata": {
      "needs_background": "light"
     },
     "output_type": "display_data"
    }
   ],
   "source": [
    "cdf_FB = ECDF(FB_degree)\n",
    "x_fb = np.unique(FB_degree)\n",
    "y_fb = cdf_FB(x_fb)\n",
    "fig_cdf_fb = plt.figure(figsize=(16,9))\n",
    "assi = fig_cdf_fb.gca()\n",
    "assi.plot(x_fb,y_fb,marker='o',ms=6, linestyle='None')\n",
    "assi.set_xlabel('Grado',size=30)\n",
    "assi.set_ylabel('CDF Facebook', size = 30)"
   ]
  },
  {
   "cell_type": "code",
   "execution_count": 31,
   "metadata": {},
   "outputs": [
    {
     "data": {
      "text/plain": [
       "Text(0, 0.5, 'CDF Facebook')"
      ]
     },
     "execution_count": 31,
     "metadata": {},
     "output_type": "execute_result"
    },
    {
     "data": {
      "image/png": "[encoded data removed]",
      "text/plain": [
       "<Figure size 1152x648 with 1 Axes>"
      ]
     },
     "metadata": {
      "needs_background": "light"
     },
     "output_type": "display_data"
    }
   ],
   "source": [
    "cdf_FB = ECDF(FB_degree)\n",
    "x_fb = np.unique(FB_degree)\n",
    "y_fb = cdf_FB(x_fb)\n",
    "fig_cdf_fb = plt.figure(figsize=(16,9))\n",
    "assi = fig_cdf_fb.gca()\n",
    "assi.loglog(x_fb,y_fb,marker='o',ms=8, linestyle='--')\n",
    "assi.set_xlabel('Grado',size=30)\n",
    "assi.set_ylabel('CDF Facebook', size = 30)"
   ]
  },
  {
   "cell_type": "code",
   "execution_count": 33,
   "metadata": {},
   "outputs": [
    {
     "data": {
      "text/plain": [
       "Text(0, 0.5, 'CCDF Facebook')"
      ]
     },
     "execution_count": 33,
     "metadata": {},
     "output_type": "execute_result"
    },
    {
     "data": {
      "image/png": "[encoded data removed]",
      "text/plain": [
       "<Figure size 1152x648 with 1 Axes>"
      ]
     },
     "metadata": {
      "needs_background": "light"
     },
     "output_type": "display_data"
    }
   ],
   "source": [
    "cdf_FB = ECDF(FB_degree)\n",
    "x_fb = np.unique(FB_degree)\n",
    "y_fb = cdf_FB(x_fb)\n",
    "fig_cdf_fb = plt.figure(figsize=(16,9))\n",
    "assi = fig_cdf_fb.gca()\n",
    "assi.loglog(x_fb,1-y_fb,marker='o',ms=8, linestyle='--')\n",
    "assi.set_xlabel('Grado',size=30)\n",
    "assi.set_ylabel('CCDF Facebook', size = 30)"
   ]
  },
  {
   "cell_type": "markdown",
   "metadata": {},
   "source": [
    "## Facebook VS Erdos-Renyi\n",
    "In questa parte confrontiamo la distribuzione del grado di Facebook e la distribuzione di un grafo casuale (Erdos-Renyi) il cui grado medio è lo stesso della rete di Facebook.\n",
    "\n",
    "Come primo passo calcoliamo il grado medio in Facebook"
   ]
  },
  {
   "cell_type": "code",
   "execution_count": 34,
   "metadata": {},
   "outputs": [],
   "source": [
    "grado_medio_FB = np.mean(FB_degree)"
   ]
  },
  {
   "cell_type": "markdown",
   "metadata": {},
   "source": [
    "Dal momento che\n",
    "$$ <k> = p (N-1)$$\n",
    "posso ottenere $p = \\frac{<k>}{N-1}$, dove N è il numero di nodi del grafo.\n",
    "\n",
    "Nel nostro caso ..."
   ]
  },
  {
   "cell_type": "code",
   "execution_count": 35,
   "metadata": {},
   "outputs": [],
   "source": [
    "p = grado_medio_FB / (FB_non_orientato.order()-1)"
   ]
  },
  {
   "cell_type": "markdown",
   "metadata": {},
   "source": [
    "Ora possiamo generare grafo casuale Gilbert/ Erdos-Renyi utilizzando il metodo __gnp_random_graph()__."
   ]
  },
  {
   "cell_type": "code",
   "execution_count": 36,
   "metadata": {},
   "outputs": [],
   "source": [
    "random_graph = nx.fast_gnp_random_graph(FB_non_orientato.order(),p)"
   ]
  },
  {
   "cell_type": "code",
   "execution_count": 37,
   "metadata": {},
   "outputs": [
    {
     "name": "stdout",
     "output_type": "stream",
     "text": [
      "Numero nodi: 11586\n",
      "Numero archi: 568282\n"
     ]
    }
   ],
   "source": [
    "print('Numero nodi: {}'.format(random_graph.order()))\n",
    "print('Numero archi: {}'.format(random_graph.size()))"
   ]
  },
  {
   "cell_type": "markdown",
   "metadata": {},
   "source": [
    "Ora possiamo confrontare la distribuzione del grado di Facebook con la distribuzione del grado del grafo casuale."
   ]
  },
  {
   "cell_type": "code",
   "execution_count": 38,
   "metadata": {},
   "outputs": [],
   "source": [
    "rand_degree = list(dict(random_graph.degree()).values())\n",
    "count_rand, bins_rand = np.histogram(rand_degree,bins=np.arange(min(rand_degree),max(rand_degree)+2))"
   ]
  },
  {
   "cell_type": "code",
   "execution_count": 39,
   "metadata": {},
   "outputs": [],
   "source": [
    "pdf_rand = count_rand / random_graph.order()"
   ]
  },
  {
   "cell_type": "code",
   "execution_count": 43,
   "metadata": {},
   "outputs": [
    {
     "data": {
      "text/plain": [
       "((80,), (81,), (80,))"
      ]
     },
     "execution_count": 43,
     "metadata": {},
     "output_type": "execute_result"
    }
   ],
   "source": [
    "count_rand.shape, bins_rand[:,].shape, pdf_rand.shape"
   ]
  },
  {
   "cell_type": "code",
   "execution_count": 47,
   "metadata": {},
   "outputs": [
    {
     "data": {
      "text/plain": [
       "<matplotlib.legend.Legend at 0x7faf4bf5ff28>"
      ]
     },
     "execution_count": 47,
     "metadata": {},
     "output_type": "execute_result"
    },
    {
     "data": {
      "image/png": "[encoded data removed]",
      "text/plain": [
       "<Figure size 1152x648 with 1 Axes>"
      ]
     },
     "metadata": {
      "needs_background": "light"
     },
     "output_type": "display_data"
    }
   ],
   "source": [
    "fig = plt.figure(figsize=(16,9))\n",
    "assi = fig.gca()\n",
    "assi.plot(bins_rand[:-1],pdf_rand, color = 'orange', linestyle='None', marker='o', ms=15, label='Erdos')\n",
    "assi.plot(bins_FB[:-1],pdf_FB, color = 'blue', linestyle='None', marker='o', ms=10, label='Facebook Stanford')\n",
    "assi.set_xlabel('Grado',size=30)\n",
    "assi.set_ylabel('PDF',size=30)\n",
    "assi.legend(loc='upper right')"
   ]
  },
  {
   "cell_type": "markdown",
   "metadata": {},
   "source": [
    "### Identificare gli hub\n",
    "Infine vogliamo identificare quali sono i nodi con più alto grado.\n",
    "\n",
    "Il primo passo è definire una soglia per quantificare cosa intendiamo per 'alto grado'. Per questo possiamo utilizzare la CDF. In particolare fissato una $p \\in [0,1]$ vogliamo trovare il valore del grado $k$ tale che $F_X(k)=p$. Questa operazione corrisponde alla definizione di _quantile_.\n",
    "\n",
    "In Python posso calcolare i quantili utilizzando la funzione di Numpy **percentile**. In particolare fissiamo $p=0.95$"
   ]
  },
  {
   "cell_type": "code",
   "execution_count": 48,
   "metadata": {},
   "outputs": [
    {
     "name": "stdout",
     "output_type": "stream",
     "text": [
      "286.0\n"
     ]
    }
   ],
   "source": [
    "percentile_95 = np.percentile(FB_degree,95)\n",
    "print(percentile_95)"
   ]
  },
  {
   "cell_type": "markdown",
   "metadata": {},
   "source": [
    "Ciò indica che il 95% dei nodi ha grado minore di quantile_95.\n",
    "\n",
    "Ora estraggo quali sono i nodi hub utilzzando la list comprehension"
   ]
  },
  {
   "cell_type": "code",
   "execution_count": 49,
   "metadata": {},
   "outputs": [],
   "source": [
    "hub_nodi = [k for k,v in dict(FB_non_orientato.degree()).items() if v>= percentile_95]"
   ]
  },
  {
   "cell_type": "code",
   "execution_count": 50,
   "metadata": {},
   "outputs": [
    {
     "data": {
      "text/plain": [
       "[193, 2086, 2476, 6095, 7756, 8678, 8771, 8897, 9358, 10069]"
      ]
     },
     "execution_count": 50,
     "metadata": {},
     "output_type": "execute_result"
    }
   ],
   "source": [
    "hub_nodi[:10]"
   ]
  },
  {
   "cell_type": "markdown",
   "metadata": {},
   "source": [
    "# Centralità (Zafarani)\n",
    "\n",
    "## Degree Centrality\n",
    "<img src='figures/degree.png'>\n",
    "\n",
    "### Costruzione del grafo diretto dei messaggi tra studenti di UC Irvine"
   ]
  },
  {
   "cell_type": "code",
   "execution_count": 51,
   "metadata": {},
   "outputs": [],
   "source": [
    "ucirvine_graph = nx.DiGraph()"
   ]
  },
  {
   "cell_type": "code",
   "execution_count": 52,
   "metadata": {},
   "outputs": [],
   "source": [
    "with open('data/out.opsahl-ucsocial') as f:\n",
    "    f.readline()\n",
    "    f.readline()\n",
    "    for line in f:\n",
    "        sorgente, destinazione, _ , _ = line.strip().split()\n",
    "        if ucirvine_graph.has_edge(sorgente,destinazione):\n",
    "            ucirvine_graph[sorgente][destinazione]['peso'] += 1\n",
    "        else:\n",
    "            ucirvine_graph.add_edge(sorgente,destinazione,peso=1)"
   ]
  },
  {
   "cell_type": "code",
   "execution_count": 53,
   "metadata": {},
   "outputs": [
    {
     "data": {
      "text/plain": [
       "(1899, 20296)"
      ]
     },
     "execution_count": 53,
     "metadata": {},
     "output_type": "execute_result"
    }
   ],
   "source": [
    "ucirvine_graph.order(), ucirvine_graph.size()"
   ]
  },
  {
   "cell_type": "markdown",
   "metadata": {},
   "source": [
    "### Degree"
   ]
  },
  {
   "cell_type": "code",
   "execution_count": 54,
   "metadata": {},
   "outputs": [],
   "source": [
    "degree_ucirvine = list(dict(ucirvine_graph.degree).values())"
   ]
  },
  {
   "cell_type": "markdown",
   "metadata": {},
   "source": [
    "### In-Degree\n",
    "Il grado in entrata o 'in-degree', $k^{-}(n)$  corrisponde al numero di archi entranti in un nodo $n$. In NetworkX tale proprietà è calcolata dal metodo **in_degree** della classe _DiGraph_. \n",
    "**Parametri**\n",
    "- nbunch: id del nodo, lista di nodi e tutti i nodi (default); di cui voglio calcolare il grado\n",
    "- weight: nome dell'attributo sull'arco utilizzato per calcolare il grado pesato di un nodo $s^-(n)$\n",
    "$$s^-(n)=\\sum_{v\\in \\Gamma^-{n}}w(v,n)$$\n",
    "dove $\\Gamma(n)$ indica l'insieme dei vicini del nodo $n$ e $w(u,n)$ indica il valore dell'attributo associato all'arco $(u,n)$.\n",
    "\n",
    "Il metodo restituisce un iteratore di coppie (id_nodo, in_degree) che posso convertire in un dictionary."
   ]
  },
  {
   "cell_type": "code",
   "execution_count": 56,
   "metadata": {},
   "outputs": [
    {
     "name": "stdout",
     "output_type": "stream",
     "text": [
      "137\n",
      "0\n",
      "558\n"
     ]
    }
   ],
   "source": [
    "in_degree_ucirvine = list(dict(ucirvine_graph.in_degree()).values())\n",
    "in_strength_ucirvine = list(dict(ucirvine_graph.in_degree(weight='peso')).values())\n",
    "print(max(in_degree_ucirvine))\n",
    "print(min(in_strength_ucirvine))\n",
    "print(max(in_strength_ucirvine))"
   ]
  },
  {
   "cell_type": "markdown",
   "metadata": {},
   "source": [
    "### Out-Degree\n",
    "Il grado in uscita o 'out-degree', $k^+(n)$, corrisponde al numero di archi in uscita da un nodo $n$. Il metodo corrispondente è **out_degree** ed ha una signature analoga al metodo *in_degree*."
   ]
  },
  {
   "cell_type": "code",
   "execution_count": 58,
   "metadata": {},
   "outputs": [
    {
     "name": "stdout",
     "output_type": "stream",
     "text": [
      "237\n",
      "0\n",
      "1091\n"
     ]
    }
   ],
   "source": [
    "out_degree_ucirvine = list(dict(ucirvine_graph.out_degree()).values())\n",
    "out_strength_ucirvine = list(dict(ucirvine_graph.out_degree(weight='peso')).values())\n",
    "print(max(out_degree_ucirvine))\n",
    "print(min(out_strength_ucirvine))\n",
    "print(max(out_strength_ucirvine))"
   ]
  },
  {
   "cell_type": "markdown",
   "metadata": {},
   "source": [
    "### Esiste una relazione tra in-degree e out-degree\n",
    "\n",
    "**Esercizio guidato**: Ci chiediamo se esiste nella network che stiamo analizzando esista una relazione tra il grado in uscita di un nodo e il rispettivo grado in entrata.\n",
    " \n",
    "Per far ciò dobbiamo creare un dictionary che per ogni nodo contiene i due gradi. Nello specifico associamo un dictionary con le chiavi 'in', 'out' corrispondenti ai valori calcolati"
   ]
  },
  {
   "cell_type": "code",
   "execution_count": 60,
   "metadata": {},
   "outputs": [],
   "source": [
    "in_and_out4nodes = {k: {'in':v } for k,v in dict(ucirvine_graph.in_degree()).items()}\n",
    "for k,v in dict(ucirvine_graph.out_degree()).items():\n",
    "    if k in in_and_out4nodes:\n",
    "        in_and_out4nodes[k]['out'] = v"
   ]
  },
  {
   "cell_type": "code",
   "execution_count": 61,
   "metadata": {},
   "outputs": [
    {
     "name": "stdout",
     "output_type": "stream",
     "text": [
      "[('1', {'in': 25, 'out': 33}), ('2', {'in': 5, 'out': 0}), ('3', {'in': 41, 'out': 175}), ('4', {'in': 1, 'out': 0}), ('5', {'in': 0, 'out': 1}), ('6', {'in': 49, 'out': 45}), ('7', {'in': 5, 'out': 0}), ('8', {'in': 62, 'out': 28}), ('9', {'in': 53, 'out': 237}), ('10', {'in': 2, 'out': 1})]\n"
     ]
    }
   ],
   "source": [
    "print(list(in_and_out4nodes.items())[:10])"
   ]
  },
  {
   "cell_type": "markdown",
   "metadata": {},
   "source": [
    "Ora creiamo un dictionary che per ogni valore del grado in uscita contiene una lista dei gradi in entrata corrispondente al grado in uscita."
   ]
  },
  {
   "cell_type": "code",
   "execution_count": 63,
   "metadata": {},
   "outputs": [],
   "source": [
    "out2ins = {v['out']:[] for v in in_and_out4nodes.values()}\n",
    "for v in in_and_out4nodes.values():\n",
    "    in_d = v['in']\n",
    "    out2ins[v['out']].append(in_d)"
   ]
  },
  {
   "cell_type": "code",
   "execution_count": 65,
   "metadata": {},
   "outputs": [
    {
     "name": "stdout",
     "output_type": "stream",
     "text": [
      "[(33, [25, 48, 51, 37, 34, 39, 25, 24]), (0, [5, 1, 5, 3, 3, 3, 4, 1, 2, 2, 2, 3, 2, 1, 1, 1, 3, 2, 1, 7, 2, 1, 1, 2, 18, 5, 5, 1, 3, 2, 3, 1, 3, 4, 1, 4, 2, 2, 5, 5, 4, 1, 3, 2, 1, 5, 3, 1, 1, 2, 6, 4, 1, 3, 1, 1, 1, 2, 3, 4, 4, 3, 1, 1, 1, 3, 1, 1, 2, 1, 3, 1, 1, 4, 1, 1, 3, 1, 1, 4, 1, 2, 9, 5, 2, 5, 1, 2, 3, 1, 1, 2, 3, 1, 3, 2, 3, 2, 1, 2, 3, 1, 2, 9, 4, 3, 1, 2, 3, 8, 1, 1, 2, 7, 4, 4, 2, 1, 2, 1, 2, 3, 3, 1, 1, 4, 4, 1, 7, 3, 2, 1, 1, 2, 4, 1, 4, 1, 9, 3, 3, 2, 1, 2, 2, 2, 2, 2, 4, 4, 1, 1, 2, 2, 1, 1, 1, 1, 1, 4, 1, 1, 2, 1, 1, 1, 1, 1, 2, 21, 1, 1, 1, 3, 1, 1, 4, 2, 1, 3, 1, 1, 1, 1, 2, 12, 3, 3, 26, 1, 2, 2, 8, 1, 7, 2, 6, 6, 2, 1, 1, 2, 2, 15, 4, 2, 2, 1, 1, 1, 3, 1, 1, 2, 1, 1, 1, 1, 1, 1, 2, 1, 1, 1, 1, 2, 2, 1, 1, 2, 1, 2, 2, 2, 3, 1, 1, 1, 1, 2, 4, 2, 2, 1, 8, 2, 1, 1, 4, 9, 2, 2, 4, 1, 1, 7, 1, 1, 1, 1, 1, 1, 1, 1, 4, 1, 1, 1, 1, 3, 1, 1, 1, 2, 4, 2, 1, 1, 1, 7, 2, 1, 2, 2, 1, 1, 2, 1, 1, 1, 2, 3, 1, 1, 1, 4, 2, 2, 1, 1, 1, 2, 10, 2, 1, 1, 1, 1, 4, 2, 1, 5, 1, 1, 1, 2, 1, 1, 1, 7, 2, 1, 1, 1, 2, 2, 1, 2, 1, 1, 1, 2, 3, 1, 1, 4, 1, 8, 3, 1, 1, 2, 2, 2, 1, 1, 1, 3, 1, 4, 3, 1, 2, 5, 1, 1, 1, 1, 1, 1, 1, 1, 1, 2, 1, 4, 1, 1, 1, 3, 1, 2, 1, 1, 2, 1, 1, 1, 7, 1, 2, 1, 2, 1, 1, 2, 2, 1, 1, 2, 3, 1, 2, 1, 3, 1, 1, 2, 1, 1, 1, 1, 1, 2, 1, 1, 3, 1, 1, 1, 1, 1, 1, 1, 1, 1, 5, 2, 4, 1, 1, 2, 1, 2, 2, 2, 3, 1, 1, 1, 1, 1, 2, 1, 1, 1, 2, 2, 1, 1, 1, 3, 1, 3, 1, 1, 1, 1, 3, 6, 1, 1, 1, 2, 1, 1, 1, 1, 1, 1, 3, 1, 2, 1, 1, 1, 1, 2, 2, 1, 1, 2, 1, 1, 2, 1, 1, 1, 2, 4, 1, 1, 1, 1, 1, 1, 1, 1, 1, 1, 1, 1, 1, 2, 2, 1, 1, 1, 1, 1, 1, 1, 1, 1, 1, 1, 1, 1, 1, 1, 1, 1, 1, 1, 1, 1, 2, 1, 2, 1, 1, 2, 2, 1, 5, 1, 1, 1, 1, 1, 1, 1, 1, 1, 1, 1, 1, 2, 1, 2, 1, 1, 1, 1, 1, 2, 1, 1, 1]), (175, [41])]\n"
     ]
    }
   ],
   "source": [
    "print(list(out2ins.items())[:3])"
   ]
  },
  {
   "cell_type": "markdown",
   "metadata": {},
   "source": [
    "L'ultimo passo consiste nel calcolare la media e la mediana delle liste in 'out2ins'"
   ]
  },
  {
   "cell_type": "code",
   "execution_count": 67,
   "metadata": {},
   "outputs": [],
   "source": [
    "x = list(out2ins.keys())\n",
    "y_mean = [np.mean(out2ins[e]) for e in x]\n",
    "y_median = [np.median(out2ins[e]) for e in x]"
   ]
  },
  {
   "cell_type": "markdown",
   "metadata": {},
   "source": [
    "Ora visualizziamo il grafico"
   ]
  },
  {
   "cell_type": "code",
   "execution_count": 68,
   "metadata": {},
   "outputs": [
    {
     "data": {
      "text/plain": [
       "Text(0, 0.5, 'In Degree')"
      ]
     },
     "execution_count": 68,
     "metadata": {},
     "output_type": "execute_result"
    },
    {
     "data": {
      "image/png": "[encoded data removed]",
      "text/plain": [
       "<Figure size 1152x648 with 1 Axes>"
      ]
     },
     "metadata": {
      "needs_background": "light"
     },
     "output_type": "display_data"
    }
   ],
   "source": [
    "fig = plt.figure(figsize=(16,9))\n",
    "assi = fig.gca()\n",
    "assi.plot(x,y_mean,marker='o', ms=15, linestyle='None')\n",
    "assi.plot(x,y_median,marker='o', ms=7, linestyle='None')\n",
    "assi.set_xlabel('Out Degree')\n",
    "assi.set_ylabel('In Degree')"
   ]
  },
  {
   "cell_type": "markdown",
   "metadata": {},
   "source": [
    "**Esercizio guidato**: Possiamo anche chiederci quali nodi hanno un comportamento 'particolare'. Nello specifico vogliamo identificare, se esistono, i nodi con una elevata discrepanza tra l'attività in uscita e quella in entrata.\n",
    "\n",
    "Calcoliamo quindi la differenza tra la strength dei nodi, in entrata e uscita"
   ]
  },
  {
   "cell_type": "code",
   "execution_count": null,
   "metadata": {},
   "outputs": [],
   "source": []
  },
  {
   "cell_type": "markdown",
   "metadata": {},
   "source": [
    "Estriamo i valori della differenza, calcoliamo la CDF e la visualizzaziamo"
   ]
  },
  {
   "cell_type": "code",
   "execution_count": null,
   "metadata": {},
   "outputs": [],
   "source": []
  },
  {
   "cell_type": "markdown",
   "metadata": {},
   "source": [
    "Come abbiamo visto per l'identificazione degli hub dobbiamo estrarre un valore di soglia che identifica un comportamento 'anomalo'. Possiamo calcolare il quantile 0.99."
   ]
  },
  {
   "cell_type": "code",
   "execution_count": null,
   "metadata": {},
   "outputs": [],
   "source": []
  },
  {
   "cell_type": "markdown",
   "metadata": {},
   "source": [
    "Oppure calcolare la media e sommare 3 deviazioni standard"
   ]
  },
  {
   "cell_type": "code",
   "execution_count": null,
   "metadata": {},
   "outputs": [],
   "source": []
  },
  {
   "cell_type": "markdown",
   "metadata": {},
   "source": [
    "Infine identifichiamo i nodi con un comportamento anomalo"
   ]
  },
  {
   "cell_type": "code",
   "execution_count": null,
   "metadata": {},
   "outputs": [],
   "source": [
    "# Identificazione nodi outlier\n",
    "nodi_anomali = set([k for k,v in node2diff.items() if np.abs(v) >= q99])"
   ]
  },
  {
   "cell_type": "code",
   "execution_count": null,
   "metadata": {},
   "outputs": [],
   "source": [
    "print(nodi_anomali)"
   ]
  },
  {
   "cell_type": "markdown",
   "metadata": {},
   "source": [
    "## Altre misure di centralità (Zafarani)\n",
    "\n",
    "Per confrontare la degree centrality in due reti differenti posso normalizzare il grado, secondo i seguenti schemi:"
   ]
  },
  {
   "cell_type": "markdown",
   "metadata": {},
   "source": [
    "### Normalizzazione del grado\n",
    "<img src='figures/degree_norm.png'>"
   ]
  },
  {
   "cell_type": "code",
   "execution_count": 6,
   "metadata": {},
   "outputs": [],
   "source": []
  },
  {
   "cell_type": "markdown",
   "metadata": {},
   "source": [
    "## Eigenvector centrality\n",
    "L'idea di questa centralità è molto semplice: un nodo è importante se ha molti amici importanti\n",
    "<img src='figures/eig.jpg'>\n",
    "\n",
    "In NetworkX la computazione della eigenvector centrality è eseguita dal metodo:\n",
    "\n",
    "**eigenvector_centrality(G, max_iter=100, tol=1e-06, nstart=None, weight=None)**"
   ]
  },
  {
   "cell_type": "code",
   "execution_count": 7,
   "metadata": {},
   "outputs": [],
   "source": []
  },
  {
   "cell_type": "code",
   "execution_count": 8,
   "metadata": {},
   "outputs": [
    {
     "name": "stdout",
     "output_type": "stream",
     "text": [
      "0.0015769463599309445\n",
      "0.008194725751443355\n"
     ]
    }
   ],
   "source": []
  },
  {
   "cell_type": "markdown",
   "metadata": {},
   "source": [
    "**Esercizio**: Estrarre i nodi con centralità massima nei casi di eigenvectort centrality pesata e non."
   ]
  },
  {
   "cell_type": "code",
   "execution_count": 11,
   "metadata": {},
   "outputs": [
    {
     "name": "stdout",
     "output_type": "stream",
     "text": [
      "('1624', 0.469127802110353) ('32', 0.153518668255088)\n"
     ]
    }
   ],
   "source": []
  },
  {
   "cell_type": "code",
   "execution_count": 13,
   "metadata": {},
   "outputs": [
    {
     "name": "stdout",
     "output_type": "stream",
     "text": [
      "{0: -1.7434911362201625e-12, 1: 6.601419304589702e-07, 3: 6.601409452620102e-07, 2: 0.9999999999995642}\n"
     ]
    },
    {
     "data": {
      "image/png": "[encoded data removed]",
      "text/plain": [
       "<Figure size 432x288 with 1 Axes>"
      ]
     },
     "metadata": {},
     "output_type": "display_data"
    }
   ],
   "source": []
  },
  {
   "cell_type": "markdown",
   "metadata": {},
   "source": [
    "## Katz centrality\n",
    "Per ovviare al problema evidenziato dal grafo 'giocattolo' nella Katz centrality viene introdotto il fattore $\\beta$, grazie al quale si evitano valori di centralità uguali a 0.\n",
    "<img src='figures/katz.png'>\n",
    "\n",
    "In NetworkX la Katz centrality è calcolata dal metodo:\n",
    "\n",
    "**katz_centrality(G, alpha=0.1, beta=1.0, max_iter=1000, tol=1e-06, nstart=None, normalized=True, weight=None)**"
   ]
  },
  {
   "cell_type": "code",
   "execution_count": 149,
   "metadata": {},
   "outputs": [],
   "source": []
  },
  {
   "cell_type": "code",
   "execution_count": 158,
   "metadata": {},
   "outputs": [],
   "source": []
  },
  {
   "cell_type": "code",
   "execution_count": 168,
   "metadata": {},
   "outputs": [
    {
     "name": "stderr",
     "output_type": "stream",
     "text": [
      "C:\\Users\\matte\\Miniconda3\\envs\\SomeniLab\\lib\\site-packages\\ipykernel_launcher.py:1: ComplexWarning: Casting complex values to real discards the imaginary part\n",
      "  \"\"\"Entry point for launching an IPython kernel.\n"
     ]
    },
    {
     "data": {
      "text/plain": [
       "0.005212229393666619"
      ]
     },
     "execution_count": 168,
     "metadata": {},
     "output_type": "execute_result"
    }
   ],
   "source": [
    "1/(float(np.max(np.linalg.eig(nx.to_numpy_matrix(ucirvine_graph))[0]))+10)"
   ]
  },
  {
   "cell_type": "code",
   "execution_count": 169,
   "metadata": {},
   "outputs": [
    {
     "data": {
      "text/plain": [
       "0.0055248618784530384"
      ]
     },
     "execution_count": 169,
     "metadata": {},
     "output_type": "execute_result"
    }
   ],
   "source": []
  },
  {
   "cell_type": "code",
   "execution_count": 14,
   "metadata": {
    "collapsed": true
   },
   "outputs": [
    {
     "data": {
      "text/plain": [
       "{'1': 0.024696384291284484,\n",
       " '2': 0.022084115418726437,\n",
       " '3': 0.026820751486571676,\n",
       " '4': 0.021527789801379482,\n",
       " '5': 0.021388053805873764,\n",
       " '6': 0.027813686346744648,\n",
       " '7': 0.022076262569966084,\n",
       " '8': 0.029663652222511234,\n",
       " '9': 0.02853098384056474,\n",
       " '10': 0.021648719460095982,\n",
       " '11': 0.02186173596403786,\n",
       " '12': 0.025771410970454947,\n",
       " '13': 0.02184735866390961,\n",
       " '14': 0.021815621396534913,\n",
       " '15': 0.02200774691030157,\n",
       " '16': 0.021536700064929287,\n",
       " '17': 0.02171280503079956,\n",
       " '18': 0.02166692469679212,\n",
       " '19': 0.024995146468317162,\n",
       " '20': 0.02229307265717205,\n",
       " '21': 0.02161692144792014,\n",
       " '22': 0.0217812178324767,\n",
       " '23': 0.021697890377886914,\n",
       " '24': 0.021536700064929287,\n",
       " '25': 0.021635464125696027,\n",
       " '26': 0.0239558076760911,\n",
       " '27': 0.026680253518924085,\n",
       " '28': 0.021527057813400387,\n",
       " '29': 0.023242615659652348,\n",
       " '30': 0.023439069707359306,\n",
       " '31': 0.021510171307360555,\n",
       " '32': 0.03959421548823928,\n",
       " '33': 0.021908130381579054,\n",
       " '34': 0.026663834736072946,\n",
       " '35': 0.02167063251858665,\n",
       " '36': 0.02347099774590742,\n",
       " '37': 0.021510337664256005,\n",
       " '38': 0.022252152400619306,\n",
       " '39': 0.022398903143314115,\n",
       " '40': 0.021658983923311528,\n",
       " '41': 0.02881472232385233,\n",
       " '42': 0.037066020104069085,\n",
       " '43': 0.021855021817300587,\n",
       " '44': 0.024721090707285377,\n",
       " '45': 0.021516850616980384,\n",
       " '46': 0.021937264642464215,\n",
       " '47': 0.022010589529326777,\n",
       " '48': 0.027860470769309236,\n",
       " '49': 0.021536700064929287,\n",
       " '50': 0.027297385509813133,\n",
       " '51': 0.025774152187131014,\n",
       " '52': 0.02769431001474505,\n",
       " '53': 0.02269745449157889,\n",
       " '54': 0.021772834360672802,\n",
       " '55': 0.021638145234340884,\n",
       " '56': 0.023269301895276946,\n",
       " '57': 0.02196608217867096,\n",
       " '58': 0.02517840488175888,\n",
       " '59': 0.023866912409698154,\n",
       " '60': 0.024213394192732936,\n",
       " '61': 0.02449483981553275,\n",
       " '62': 0.026395701231075524,\n",
       " '63': 0.03082268301470985,\n",
       " '64': 0.0221379715421644,\n",
       " '65': 0.02207059037051932,\n",
       " '66': 0.021985892979889926,\n",
       " '67': 0.029688652196606633,\n",
       " '68': 0.025953681994650656,\n",
       " '69': 0.02330892464524468,\n",
       " '70': 0.022743111603233793,\n",
       " '71': 0.021552478181097207,\n",
       " '72': 0.0315594293056264,\n",
       " '73': 0.025744531380667974,\n",
       " '74': 0.02725236758914605,\n",
       " '75': 0.022884678283976303,\n",
       " '76': 0.02208925654170878,\n",
       " '77': 0.021594339244887784,\n",
       " '78': 0.02243653111989563,\n",
       " '79': 0.02260850901480442,\n",
       " '80': 0.023369683310273375,\n",
       " '81': 0.023061106251471133,\n",
       " '82': 0.021877485226028233,\n",
       " '83': 0.021641787879280887,\n",
       " '84': 0.023489810043315296,\n",
       " '85': 0.02425649570315869,\n",
       " '86': 0.022797454804251223,\n",
       " '87': 0.022582678785122302,\n",
       " '88': 0.026126828606869098,\n",
       " '89': 0.021656348610519717,\n",
       " '90': 0.025132097363625806,\n",
       " '91': 0.021507746640867242,\n",
       " '92': 0.02178949194216799,\n",
       " '93': 0.022110594002012807,\n",
       " '94': 0.022016583049712393,\n",
       " '95': 0.02819483830389584,\n",
       " '96': 0.02251871852019284,\n",
       " '97': 0.03108882985899053,\n",
       " '98': 0.02277222763895957,\n",
       " '99': 0.023346131536417524,\n",
       " '100': 0.021763199805040132,\n",
       " '101': 0.027184477064143092,\n",
       " '102': 0.024294356871987003,\n",
       " '103': 0.03537345874073692,\n",
       " '104': 0.022054808858280362,\n",
       " '105': 0.03356486852859321,\n",
       " '106': 0.021668488233998345,\n",
       " '107': 0.021562926476213197,\n",
       " '108': 0.021820325817089467,\n",
       " '109': 0.02471491258943471,\n",
       " '110': 0.021702997451290222,\n",
       " '111': 0.02166428938400031,\n",
       " '112': 0.021889744837495007,\n",
       " '113': 0.021510337664256005,\n",
       " '114': 0.022269054665971365,\n",
       " '115': 0.02190315739743137,\n",
       " '116': 0.021639123563534902,\n",
       " '117': 0.021701146026662458,\n",
       " '118': 0.022825195589768955,\n",
       " '119': 0.022829750922956634,\n",
       " '120': 0.022957628280253523,\n",
       " '121': 0.022733629956856804,\n",
       " '122': 0.022036552398803554,\n",
       " '123': 0.022087174436671252,\n",
       " '124': 0.026288129980725602,\n",
       " '125': 0.02202217391531465,\n",
       " '126': 0.021874969261672116,\n",
       " '127': 0.024206677862500043,\n",
       " '128': 0.030067554744825566,\n",
       " '129': 0.021943112696270528,\n",
       " '130': 0.021594339244887784,\n",
       " '131': 0.024204112593201734,\n",
       " '132': 0.025367225679417463,\n",
       " '133': 0.021636595407773098,\n",
       " '134': 0.022253609892132938,\n",
       " '135': 0.024233747423856915,\n",
       " '136': 0.021816554240899587,\n",
       " '137': 0.021651387244491276,\n",
       " '138': 0.021645158012359222,\n",
       " '139': 0.021518278437736595,\n",
       " '140': 0.023290958159752163,\n",
       " '141': 0.022133000272978508,\n",
       " '142': 0.02545299509144281,\n",
       " '143': 0.023342106174371165,\n",
       " '144': 0.02980601258519368,\n",
       " '145': 0.022428096735318703,\n",
       " '146': 0.021969734822851097,\n",
       " '147': 0.02223699629167039,\n",
       " '148': 0.021786902712107276,\n",
       " '149': 0.023814793632074435,\n",
       " '150': 0.021536700064929287,\n",
       " '151': 0.022536798071875468,\n",
       " '152': 0.02320200180185103,\n",
       " '153': 0.021536700064929287,\n",
       " '154': 0.024124616784189912,\n",
       " '155': 0.024195798041297525,\n",
       " '156': 0.021686442630126274,\n",
       " '157': 0.022258580128663406,\n",
       " '158': 0.021989513486593476,\n",
       " '159': 0.02151672189872068,\n",
       " '160': 0.02225614333746399,\n",
       " '161': 0.02289912848130422,\n",
       " '162': 0.022308422581168334,\n",
       " '163': 0.02321239277523051,\n",
       " '164': 0.022400527546417432,\n",
       " '165': 0.02186173596403786,\n",
       " '166': 0.022412976477613703,\n",
       " '167': 0.022146160578778048,\n",
       " '168': 0.02304918355261789,\n",
       " '169': 0.02153817832637277,\n",
       " '170': 0.021509286824921845,\n",
       " '171': 0.021509286824921845,\n",
       " '172': 0.025024797877097972,\n",
       " '173': 0.023426329739193032,\n",
       " '174': 0.023350357862996517,\n",
       " '175': 0.026810226510235395,\n",
       " '176': 0.02753715017842915,\n",
       " '177': 0.02333957419207585,\n",
       " '178': 0.021504760523888257,\n",
       " '179': 0.021711045962902277,\n",
       " '180': 0.022653270655979926,\n",
       " '181': 0.02405350019342651,\n",
       " '182': 0.021830282413688687,\n",
       " '183': 0.022823575630181954,\n",
       " '184': 0.023907642247121143,\n",
       " '185': 0.023171648108217178,\n",
       " '186': 0.02177091791494714,\n",
       " '187': 0.02150006916622982,\n",
       " '188': 0.02204085351254827,\n",
       " '189': 0.02269477522787051,\n",
       " '190': 0.022547182759604763,\n",
       " '191': 0.02731916347660575,\n",
       " '192': 0.02198077962717715,\n",
       " '193': 0.026672096707974564,\n",
       " '194': 0.03420238981189959,\n",
       " '195': 0.021851884098108947,\n",
       " '196': 0.021531522203757623,\n",
       " '197': 0.021531522203757623,\n",
       " '198': 0.022511217025190718,\n",
       " '199': 0.027190145829225524,\n",
       " '200': 0.021531522203757623,\n",
       " '201': 0.0226966414733737,\n",
       " '202': 0.021809057323034967,\n",
       " '203': 0.022124009947308763,\n",
       " '204': 0.02478035275207421,\n",
       " '205': 0.021517159356442234,\n",
       " '206': 0.021566247963904276,\n",
       " '207': 0.021566247963904276,\n",
       " '208': 0.0215296847911536,\n",
       " '209': 0.025405586414660085,\n",
       " '210': 0.021714009736954278,\n",
       " '211': 0.024110084680147643,\n",
       " '212': 0.029731217473955934,\n",
       " '213': 0.0215136672842841,\n",
       " '214': 0.024243316499137205,\n",
       " '215': 0.02254914861326053,\n",
       " '216': 0.02183029298331216,\n",
       " '217': 0.021531522203757623,\n",
       " '218': 0.021531522203757623,\n",
       " '219': 0.022239723420277427,\n",
       " '220': 0.025155015304217446,\n",
       " '221': 0.024417130068616223,\n",
       " '222': 0.022384187543903398,\n",
       " '223': 0.02197308566202688,\n",
       " '224': 0.0254784925923682,\n",
       " '225': 0.02173604509082365,\n",
       " '226': 0.0219144287956486,\n",
       " '227': 0.02150710190214943,\n",
       " '228': 0.02473392890633025,\n",
       " '229': 0.021388053805873764,\n",
       " '230': 0.021499485566202365,\n",
       " '231': 0.02150537629822756,\n",
       " '232': 0.021630989776637896,\n",
       " '233': 0.02519514333140081,\n",
       " '234': 0.024800676156351897,\n",
       " '235': 0.021693351835902416,\n",
       " '236': 0.025400304492718673,\n",
       " '237': 0.022083233874522098,\n",
       " '238': 0.02181881656844142,\n",
       " '239': 0.022611839024310368,\n",
       " '240': 0.021543342940020044,\n",
       " '241': 0.022226150935985678,\n",
       " '242': 0.02685603865412866,\n",
       " '243': 0.021995356931133248,\n",
       " '244': 0.022313914862290916,\n",
       " '245': 0.02341897216972049,\n",
       " '246': 0.0215136672842841,\n",
       " '247': 0.02166113947398396,\n",
       " '248': 0.022609705959266615,\n",
       " '249': 0.03451421945850004,\n",
       " '250': 0.027345392351529586,\n",
       " '251': 0.021987349442448192,\n",
       " '252': 0.027772946425624046,\n",
       " '253': 0.021506307516145046,\n",
       " '254': 0.030398796307931773,\n",
       " '255': 0.02151672189872068,\n",
       " '256': 0.02421836508025404,\n",
       " '257': 0.023132565282406245,\n",
       " '258': 0.0215031388136758,\n",
       " '259': 0.022462435416943403,\n",
       " '260': 0.027652919798577216,\n",
       " '261': 0.02179449485809006,\n",
       " '262': 0.021665805615497757,\n",
       " '263': 0.029119742218957897,\n",
       " '264': 0.021502545315994836,\n",
       " '265': 0.02267125562564013,\n",
       " '266': 0.022965595771788812,\n",
       " '267': 0.02211785365746623,\n",
       " '268': 0.021388053805873764,\n",
       " '269': 0.022240604918189504,\n",
       " '270': 0.022115113250751117,\n",
       " '271': 0.02297935106722411,\n",
       " '272': 0.024191789014772157,\n",
       " '273': 0.022066210816399798,\n",
       " '274': 0.0229198242007218,\n",
       " '275': 0.021504200683856327,\n",
       " '276': 0.022743173545639518,\n",
       " '277': 0.029362185243392288,\n",
       " '278': 0.024359186918548034,\n",
       " '279': 0.021652268562784616,\n",
       " '280': 0.021810377246439912,\n",
       " '281': 0.026857591913156908,\n",
       " '282': 0.02387244010932434,\n",
       " '283': 0.02594203065705579,\n",
       " '284': 0.02209102049503745,\n",
       " '285': 0.023805835855373828,\n",
       " '286': 0.022447058745860903,\n",
       " '287': 0.021532125386120187,\n",
       " '288': 0.02499906449627153,\n",
       " '289': 0.026870183499074596,\n",
       " '290': 0.021953911113790667,\n",
       " '291': 0.02300901237316121,\n",
       " '292': 0.021627473092703763,\n",
       " '293': 0.021838861001800904,\n",
       " '294': 0.02324069063984683,\n",
       " '295': 0.021992464846929728,\n",
       " '296': 0.026086413005318478,\n",
       " '297': 0.03066087198825694,\n",
       " '298': 0.023857708057409787,\n",
       " '299': 0.02559080169560654,\n",
       " '300': 0.022711656152771383,\n",
       " '301': 0.021548639772049964,\n",
       " '302': 0.027696858616986803,\n",
       " '303': 0.02406656918522933,\n",
       " '304': 0.021930249608973197,\n",
       " '305': 0.022206022967092558,\n",
       " '306': 0.02764187879073387,\n",
       " '307': 0.022740211074730753,\n",
       " '308': 0.03231632024838308,\n",
       " '309': 0.026879842119494263,\n",
       " '310': 0.021535237538334275,\n",
       " '311': 0.025673723712482322,\n",
       " '312': 0.023168850885615162,\n",
       " '313': 0.023241654903504556,\n",
       " '314': 0.024924346543637205,\n",
       " '315': 0.0238776853005916,\n",
       " '316': 0.02575858579234146,\n",
       " '317': 0.027554789973524674,\n",
       " '318': 0.024589972991864772,\n",
       " '319': 0.023901857314716564,\n",
       " '320': 0.02150276019388876,\n",
       " '321': 0.02557342226199242,\n",
       " '322': 0.022985686221748968,\n",
       " '323': 0.029019650263754172,\n",
       " '324': 0.02269496822739756,\n",
       " '325': 0.03184567851008454,\n",
       " '326': 0.022283717809568337,\n",
       " '327': 0.022537632471120488,\n",
       " '328': 0.022026146352541152,\n",
       " '329': 0.022660774524337242,\n",
       " '330': 0.021536700064929287,\n",
       " '331': 0.021652561676586253,\n",
       " '332': 0.023789075720594657,\n",
       " '333': 0.023051565047502953,\n",
       " '334': 0.022855530093152457,\n",
       " '335': 0.02272180969975215,\n",
       " '336': 0.021961873131084653,\n",
       " '337': 0.027161955585477127,\n",
       " '338': 0.023170186190900076,\n",
       " '339': 0.02470401531852904,\n",
       " '340': 0.02220197237599781,\n",
       " '341': 0.026700553865278694,\n",
       " '342': 0.025882810542923334,\n",
       " '343': 0.025797513541651322,\n",
       " '344': 0.022683280367804506,\n",
       " '345': 0.02233720048728685,\n",
       " '346': 0.026494037104523204,\n",
       " '347': 0.021780930334516863,\n",
       " '348': 0.02178513839394351,\n",
       " '349': 0.02439157431884785,\n",
       " '350': 0.023209718852667316,\n",
       " '351': 0.02216199439075967,\n",
       " '352': 0.024331585795618373,\n",
       " '353': 0.026809214742010156,\n",
       " '354': 0.021943662536906775,\n",
       " '355': 0.023729735487193433,\n",
       " '356': 0.02352506086303032,\n",
       " '357': 0.02668520674541007,\n",
       " '358': 0.02491459899139219,\n",
       " '359': 0.022539740054349368,\n",
       " '360': 0.021881529553092676,\n",
       " '361': 0.02297171010114776,\n",
       " '362': 0.022375911533491496,\n",
       " '363': 0.021881461219670734,\n",
       " '364': 0.022897851878834297,\n",
       " '365': 0.025168534852645252,\n",
       " '366': 0.022175912987785068,\n",
       " '367': 0.023965710022632685,\n",
       " '368': 0.02816435838751968,\n",
       " '369': 0.021543342940020044,\n",
       " '370': 0.022365460182799765,\n",
       " '371': 0.025202524223077363,\n",
       " '372': 0.03677475922045172,\n",
       " '373': 0.023031527511168624,\n",
       " '374': 0.022266563052906717,\n",
       " '375': 0.025002050716469597,\n",
       " '376': 0.024370930020515123,\n",
       " '377': 0.02288255021832681,\n",
       " '378': 0.025670653214320775,\n",
       " '379': 0.024213454393294444,\n",
       " '380': 0.021785177253740386,\n",
       " '381': 0.02166249453967244,\n",
       " '382': 0.021828578929983383,\n",
       " '383': 0.021672913208127167,\n",
       " '384': 0.021628008143922354,\n",
       " '385': 0.022191123256731407,\n",
       " '386': 0.024302900497970542,\n",
       " '387': 0.021957398721186936,\n",
       " '388': 0.02543400272932148,\n",
       " '389': 0.029330867838690964,\n",
       " '390': 0.02165075055940254,\n",
       " '391': 0.024973615597599683,\n",
       " '392': 0.025860845707632852,\n",
       " '393': 0.02833007581554128,\n",
       " '394': 0.02592569302021107,\n",
       " '395': 0.021817788804790683,\n",
       " '396': 0.026654199563519224,\n",
       " '397': 0.02151672189872068,\n",
       " '398': 0.02679423543872008,\n",
       " '399': 0.022166840999648326,\n",
       " '400': 0.033572294850265465,\n",
       " '401': 0.022221569131609,\n",
       " '402': 0.024560037286582206,\n",
       " '403': 0.022073406539463686,\n",
       " '404': 0.022671992478902732,\n",
       " '405': 0.02446975505094886,\n",
       " '406': 0.0217052519714309,\n",
       " '407': 0.023207882363331118,\n",
       " '408': 0.023260161094051376,\n",
       " '409': 0.023453469980538,\n",
       " '410': 0.022031608928127305,\n",
       " '411': 0.021844848872100548,\n",
       " '412': 0.02152129123443546,\n",
       " '413': 0.02359828821910286,\n",
       " '414': 0.021680034631228747,\n",
       " '415': 0.025018636427901735,\n",
       " '416': 0.021897568378478238,\n",
       " '417': 0.0217253260333842,\n",
       " '418': 0.023020093024417286,\n",
       " '419': 0.022650404374697963,\n",
       " '420': 0.0219394991758078,\n",
       " '421': 0.022029021130520757,\n",
       " '422': 0.024828540589926642,\n",
       " '423': 0.022502738610701033,\n",
       " '424': 0.021985106009584972,\n",
       " '425': 0.022625277673349837,\n",
       " '426': 0.02150077836987768,\n",
       " '427': 0.02163619349711056,\n",
       " '428': 0.021824278855615855,\n",
       " '429': 0.025895374859073655,\n",
       " '430': 0.023174369915296096,\n",
       " '431': 0.026012644109778257,\n",
       " '432': 0.02204110518774383,\n",
       " '433': 0.021645448456492713,\n",
       " '434': 0.021631051219030892,\n",
       " '435': 0.02155642156634118,\n",
       " '436': 0.02181423476840703,\n",
       " '437': 0.02780155798598978,\n",
       " '438': 0.02329739501201413,\n",
       " '439': 0.024634723060603488,\n",
       " '440': 0.02404512697511097,\n",
       " '441': 0.022141080555011374,\n",
       " '442': 0.02236826621998381,\n",
       " '443': 0.02251240554883319,\n",
       " '444': 0.021562965184483328,\n",
       " '445': 0.023352906056023,\n",
       " '446': 0.021693189816346162,\n",
       " '447': 0.0237995046841736,\n",
       " '448': 0.025183215910211644,\n",
       " '449': 0.02445801198493965,\n",
       " '450': 0.021768882695779354,\n",
       " '451': 0.022341277564348682,\n",
       " '452': 0.022550724662445495,\n",
       " '453': 0.021975341326961453,\n",
       " '454': 0.028890568526416655,\n",
       " '455': 0.02153924600045744,\n",
       " '456': 0.027361041167036294,\n",
       " '457': 0.02177760359924772,\n",
       " '458': 0.02153924600045744,\n",
       " '459': 0.021704949856262392,\n",
       " '460': 0.02675981622006324,\n",
       " '461': 0.021700562941765256,\n",
       " '462': 0.024450040619261065,\n",
       " '463': 0.02623955498429697,\n",
       " '464': 0.02240282528164827,\n",
       " '465': 0.022574563404066033,\n",
       " '466': 0.022874347265517975,\n",
       " '467': 0.02169138707097271,\n",
       " '468': 0.024341103960887952,\n",
       " '469': 0.02261566811262851,\n",
       " '470': 0.022181686015580074,\n",
       " '471': 0.021910865579903464,\n",
       " '472': 0.022584746347096805,\n",
       " '473': 0.022683652489460245,\n",
       " '474': 0.026809106063869288,\n",
       " '475': 0.03201209667635167,\n",
       " '476': 0.021969515664644973,\n",
       " '477': 0.02244776949847779,\n",
       " '478': 0.021634212125987318,\n",
       " '479': 0.027577452039089952,\n",
       " '480': 0.022798469838101194,\n",
       " '481': 0.02747230286901348,\n",
       " '482': 0.028902819230548663,\n",
       " '483': 0.023925579657326706,\n",
       " '484': 0.021926415928721275,\n",
       " '485': 0.02150795035855265,\n",
       " '486': 0.02151843290419291,\n",
       " '487': 0.022875015623182546,\n",
       " '488': 0.022427503578960548,\n",
       " '489': 0.022031466004260813,\n",
       " '490': 0.02166730218069917,\n",
       " '491': 0.02152129123443546,\n",
       " '492': 0.02344180919030543,\n",
       " '493': 0.02167341341347521,\n",
       " '494': 0.022710198599765485,\n",
       " '495': 0.02978045685556911,\n",
       " '496': 0.022672129826425056,\n",
       " '497': 0.02252687430851868,\n",
       " '498': 0.02765697546512924,\n",
       " '499': 0.021741159342513843,\n",
       " '500': 0.021831894253193557,\n",
       " '501': 0.02233884065079462,\n",
       " '502': 0.029624228033173182,\n",
       " '503': 0.02356957395039961,\n",
       " '504': 0.024349394379420616,\n",
       " '505': 0.021847185831688074,\n",
       " '506': 0.02152129123443546,\n",
       " '507': 0.02201561979640595,\n",
       " '508': 0.02198565979941484,\n",
       " '509': 0.027080414271360955,\n",
       " '510': 0.021538573468260814,\n",
       " '511': 0.022495874333040025,\n",
       " '512': 0.021939432070127263,\n",
       " '513': 0.02887509699960833,\n",
       " '514': 0.02644870862702651,\n",
       " '515': 0.022560279169194425,\n",
       " '516': 0.022733447571663876,\n",
       " '517': 0.02326896471202227,\n",
       " '518': 0.023210214175029473,\n",
       " '519': 0.02195300208738265,\n",
       " '520': 0.022944803008707382,\n",
       " '521': 0.02165842485154989,\n",
       " '522': 0.02175774219792763,\n",
       " '523': 0.02802516512018565,\n",
       " '524': 0.021534064752137472,\n",
       " '525': 0.0248071789597344,\n",
       " '526': 0.021624527119185537,\n",
       " '527': 0.02572805102939019,\n",
       " '528': 0.0224159650674585,\n",
       " '529': 0.021827139251444628,\n",
       " '530': 0.02164745826793409,\n",
       " '531': 0.02151843290419291,\n",
       " '532': 0.023237445069494732,\n",
       " '533': 0.02154273149209596,\n",
       " '534': 0.022518096533882388,\n",
       " '535': 0.021840382595632424,\n",
       " '536': 0.028032514427307618,\n",
       " '537': 0.022890701935090612,\n",
       " '538': 0.02624862683441564,\n",
       " '539': 0.022227175446812963,\n",
       " '540': 0.02570367545939897,\n",
       " '541': 0.021976141411708915,\n",
       " '542': 0.029084293724563583,\n",
       " '543': 0.023042014012380353,\n",
       " '544': 0.024576641962934402,\n",
       " '545': 0.023631272799463567,\n",
       " '546': 0.024834786862522478,\n",
       " '547': 0.02511484756738787,\n",
       " '548': 0.023160118840703448,\n",
       " '549': 0.02443810260406016,\n",
       " '550': 0.021657201337006948,\n",
       " '551': 0.021880630466907178,\n",
       " '552': 0.021881711442622465,\n",
       " '553': 0.022282160125908522,\n",
       " '554': 0.02209921468353097,\n",
       " '555': 0.024148460413574276,\n",
       " '556': 0.021997275428597862,\n",
       " '557': 0.02530532126495852,\n",
       " '558': 0.021532354290520524,\n",
       " '559': 0.021989222218577822,\n",
       " '560': 0.02478266935587079,\n",
       " '561': 0.02592728024784158,\n",
       " '562': 0.022213843740176716,\n",
       " '563': 0.022080668265593687,\n",
       " '564': 0.02194236110761738,\n",
       " '565': 0.021534064752137472,\n",
       " '566': 0.02276818924549139,\n",
       " '567': 0.024492233217923265,\n",
       " '568': 0.021763959668008332,\n",
       " '569': 0.025008994077642725,\n",
       " '570': 0.022830666096619087,\n",
       " '571': 0.022551329789054886,\n",
       " '572': 0.02181021937686706,\n",
       " '573': 0.02432632998421776,\n",
       " '574': 0.021903477736908265,\n",
       " '575': 0.02240253420160826,\n",
       " '576': 0.024456300368079407,\n",
       " '577': 0.02199697874187127,\n",
       " '578': 0.02191866146997277,\n",
       " '579': 0.021801139582407612,\n",
       " '580': 0.021776256141490674,\n",
       " '581': 0.021627126230396358,\n",
       " '582': 0.022933155896185296,\n",
       " '583': 0.025016406409521096,\n",
       " '584': 0.021689272793559353,\n",
       " '585': 0.022138387715789857,\n",
       " '586': 0.026881319100011444,\n",
       " '587': 0.022530091629052323,\n",
       " '588': 0.02397862497233199,\n",
       " '589': 0.02217687640664426,\n",
       " '590': 0.026906868530866004,\n",
       " '591': 0.021991280027736686,\n",
       " '592': 0.024441529733129068,\n",
       " '593': 0.02334058841751159,\n",
       " '594': 0.02332939958920629,\n",
       " '595': 0.025402964848203376,\n",
       " '596': 0.026508619735775885,\n",
       " '597': 0.02242095745359832,\n",
       " '598': 0.036988914687329205,\n",
       " '599': 0.02328092300613357,\n",
       " '600': 0.022036046589510142,\n",
       " '601': 0.023042863967912403,\n",
       " '602': 0.022138454431002316,\n",
       " '603': 0.023695055711487365,\n",
       " '604': 0.02153478996100638,\n",
       " '605': 0.02773857888348275,\n",
       " '606': 0.02220640563536053,\n",
       " '607': 0.025496229272719672,\n",
       " '608': 0.02152747230546213,\n",
       " '609': 0.02605213072187696,\n",
       " '610': 0.021926909859198505,\n",
       " '611': 0.02182131972717139,\n",
       " '612': 0.021814711889576975,\n",
       " '613': 0.021676619821555762,\n",
       " '614': 0.02163200623659514,\n",
       " '615': 0.027709642285198278,\n",
       " '616': 0.02416072145801729,\n",
       " '617': 0.02819302951883711,\n",
       " '618': 0.021527789801379482,\n",
       " '619': 0.021993378142684383,\n",
       " '620': 0.024838032428721943,\n",
       " '621': 0.02453122132705965,\n",
       " '622': 0.021846163652375402,\n",
       " '623': 0.021627749599242862,\n",
       " '624': 0.022156985739618,\n",
       " '625': 0.022543944539759594,\n",
       " '626': 0.030818549277956096,\n",
       " '627': 0.023566160623138162,\n",
       " '628': 0.021646662805197642,\n",
       " '629': 0.021988058268797368,\n",
       " '630': 0.02161760158114593,\n",
       " '631': 0.021388053805873764,\n",
       " '632': 0.0245126538083288,\n",
       " '633': 0.021611579411756794,\n",
       " '634': 0.0217646174802153,\n",
       " '635': 0.022563901694406495,\n",
       " '636': 0.02341904243985056,\n",
       " '637': 0.02200949533165922,\n",
       " '638': 0.03697891082416972,\n",
       " '639': 0.02600700141369876,\n",
       " '640': 0.025949947601473785,\n",
       " '641': 0.022384688594226196,\n",
       " '642': 0.0269614293509055,\n",
       " '643': 0.022286844252974135,\n",
       " '644': 0.030689255802186104,\n",
       " '645': 0.024592892336699486,\n",
       " '646': 0.023495121352068313,\n",
       " '647': 0.021662176956504475,\n",
       " '648': 0.021388053805873764,\n",
       " '649': 0.023887775965420337,\n",
       " '650': 0.021866174501294935,\n",
       " '651': 0.022509671987085228,\n",
       " '652': 0.027573976993370875,\n",
       " '653': 0.021507704511333672,\n",
       " '654': 0.029560762805601812,\n",
       " '655': 0.02151513384680363,\n",
       " '656': 0.021500147651428186,\n",
       " '657': 0.02214071898312257,\n",
       " '658': 0.024103834771261566,\n",
       " '659': 0.023517441153515582,\n",
       " '660': 0.021954572567242345,\n",
       " '661': 0.021622289989478294,\n",
       " '662': 0.02172903334147453,\n",
       " '663': 0.021640941939895367,\n",
       " '664': 0.021500147651428186,\n",
       " '665': 0.021500147651428186,\n",
       " '666': 0.022083769603103338,\n",
       " '667': 0.022866944411818697,\n",
       " '668': 0.021500147651428186,\n",
       " '669': 0.02192265719150203,\n",
       " '670': 0.021500147651428186,\n",
       " '671': 0.021500147651428186,\n",
       " '672': 0.021500147651428186,\n",
       " '673': 0.02603654882042937,\n",
       " '674': 0.022741228180979442,\n",
       " '675': 0.022299994548863437,\n",
       " '676': 0.022707960284618443,\n",
       " '677': 0.021975666184782007,\n",
       " '678': 0.022622864092937074,\n",
       " '679': 0.028250264730850856,\n",
       " '680': 0.02179324947800414,\n",
       " '681': 0.024822637256348038,\n",
       " '682': 0.02194565622301554,\n",
       " '683': 0.024972413548860716,\n",
       " '684': 0.02151843290419291,\n",
       " '685': 0.02154470557684689,\n",
       " '686': 0.024579587204550737,\n",
       " '687': 0.028939733178271823,\n",
       " '688': 0.02268258970175049,\n",
       " '689': 0.02221183042452521,\n",
       " '690': 0.021511000827006337,\n",
       " '691': 0.02162408130429545,\n",
       " '692': 0.021507704511333672,\n",
       " '693': 0.021507704511333672,\n",
       " '694': 0.021507704511333672,\n",
       " '695': 0.021507704511333672,\n",
       " '696': 0.021564158771744033,\n",
       " '697': 0.03031459433038527,\n",
       " '698': 0.023392129791858108,\n",
       " '699': 0.02302491352665559,\n",
       " '700': 0.022977925163207184,\n",
       " '701': 0.026991271482924618,\n",
       " '702': 0.021523704092834904,\n",
       " '703': 0.021662365515105808,\n",
       " '704': 0.02889405459118326,\n",
       " '705': 0.021656267060509327,\n",
       " '706': 0.023332195424829685,\n",
       " '707': 0.024276156011414425,\n",
       " '708': 0.02701219076046487,\n",
       " '709': 0.021509285065759567,\n",
       " '710': 0.02482765332977465,\n",
       " '711': 0.027931571047962688,\n",
       " '712': 0.02588971342726546,\n",
       " '713': 0.03380138774381485,\n",
       " '714': 0.02492667374077801,\n",
       " '715': 0.02172081054271716,\n",
       " '716': 0.022341679533332093,\n",
       " '717': 0.021564158771744033,\n",
       " '718': 0.021564158771744033,\n",
       " '719': 0.02782373103443876,\n",
       " '720': 0.021946764811981025,\n",
       " '721': 0.023321696872096,\n",
       " '722': 0.02151150496261651,\n",
       " '723': 0.02189715953352527,\n",
       " '724': 0.02296744346878728,\n",
       " '725': 0.02562364565926896,\n",
       " '726': 0.022810735064094045,\n",
       " '727': 0.022781565434695433,\n",
       " '728': 0.022636585918175384,\n",
       " '729': 0.021781117633418095,\n",
       " '730': 0.02150599038293544,\n",
       " '731': 0.02208321928612251,\n",
       " '732': 0.0223445047210089,\n",
       " '733': 0.02460035251177254,\n",
       " '734': 0.02310261891057788,\n",
       " '735': 0.02280944995366802,\n",
       " '736': 0.0217274497480406,\n",
       " '737': 0.021857234248240008,\n",
       " '738': 0.023620328738365594,\n",
       " '739': 0.023434035447328267,\n",
       " '740': 0.022716436535575115,\n",
       " '741': 0.023579041591300056,\n",
       " '742': 0.021515438424249515,\n",
       " '743': 0.022017936796987467,\n",
       " '744': 0.021705029806207653,\n",
       " '745': 0.0215101450779238,\n",
       " '746': 0.02167222133709294,\n",
       " '747': 0.021913168391356153,\n",
       " '748': 0.021815113789715134,\n",
       " '749': 0.023476217565918913,\n",
       " '750': 0.021564158771744033,\n",
       " '751': 0.02179982113605999,\n",
       " '752': 0.023317918281699802,\n",
       " '753': 0.028239110156627598,\n",
       " '754': 0.022653000819921464,\n",
       " '755': 0.02286537910344947,\n",
       " '756': 0.02153171405223481,\n",
       " '757': 0.02224693682517226,\n",
       " '758': 0.027052780884396475,\n",
       " '759': 0.02155642156634118,\n",
       " '760': 0.021860397934010938,\n",
       " '761': 0.022387658509603715,\n",
       " '762': 0.02449731245651538,\n",
       " '763': 0.021515658235830105,\n",
       " '764': 0.021643399660947263,\n",
       " '765': 0.025922748928434602,\n",
       " '766': 0.02384977783469612,\n",
       " '767': 0.021581167440838475,\n",
       " '768': 0.025843987242642277,\n",
       " '769': 0.02304056729428732,\n",
       " '770': 0.02447632579824283,\n",
       " '771': 0.023532535272584688,\n",
       " '772': 0.021782859241329396,\n",
       " '773': 0.02341458503298821,\n",
       " '774': 0.02372739682569884,\n",
       " '775': 0.021740559174174463,\n",
       " '776': 0.02194802952721906,\n",
       " '777': 0.024734189798136547,\n",
       " '778': 0.02375359892419257,\n",
       " '779': 0.02386108898092178,\n",
       " '780': 0.021859515135955465,\n",
       " '781': 0.024988386973604722,\n",
       " '782': 0.022802279885368294,\n",
       " '783': 0.028502758759209303,\n",
       " '784': 0.024839043255149136,\n",
       " '785': 0.022313495927775998,\n",
       " '786': 0.02150430709986583,\n",
       " '787': 0.02226680731034193,\n",
       " '788': 0.023604385749040984,\n",
       " '789': 0.021519358849670833,\n",
       " '790': 0.022219981691016993,\n",
       " '791': 0.021534064752137472,\n",
       " '792': 0.024097523237616703,\n",
       " '793': 0.02279312095421991,\n",
       " '794': 0.024509873792076576,\n",
       " '795': 0.023829224760427602,\n",
       " '796': 0.021388053805873764,\n",
       " '797': 0.024244996273904782,\n",
       " '798': 0.024770511861511198,\n",
       " '799': 0.02425184410747631,\n",
       " '800': 0.022939915046641054,\n",
       " '801': 0.022748117293520265,\n",
       " '802': 0.023955526490069344,\n",
       " '803': 0.021500882950561302,\n",
       " '804': 0.02165442168384043,\n",
       " '805': 0.02208279983066911,\n",
       " '806': 0.02191927836270548,\n",
       " '807': 0.02150310517644244,\n",
       " '808': 0.022015458640970046,\n",
       " '809': 0.02487870360784954,\n",
       " '810': 0.023132802668726856,\n",
       " '811': 0.02179633018600781,\n",
       " '812': 0.02248272309756469,\n",
       " '813': 0.02166046936194362,\n",
       " '814': 0.02354685172178547,\n",
       " '815': 0.027694571454205393,\n",
       " '816': 0.022461801463571948,\n",
       " '817': 0.025327013920045605,\n",
       " '818': 0.022701408184386245,\n",
       " '819': 0.022538688797644625,\n",
       " '820': 0.02151843290419291,\n",
       " '821': 0.022303086592346432,\n",
       " '822': 0.023021677521645363,\n",
       " '823': 0.028610377961872404,\n",
       " '824': 0.02306459757656732,\n",
       " '825': 0.02241161703887301,\n",
       " '826': 0.021500708339949933,\n",
       " '827': 0.021388053805873764,\n",
       " '828': 0.022000878398288966,\n",
       " '829': 0.021505480340623807,\n",
       " '830': 0.02494883441567214,\n",
       " '831': 0.025318612474577316,\n",
       " '832': 0.022373307904509226,\n",
       " '833': 0.021680146706491554,\n",
       " '834': 0.026487689907418743,\n",
       " '835': 0.02534173408235315,\n",
       " '836': 0.0219656232347063,\n",
       " '837': 0.021388053805873764,\n",
       " '838': 0.0226033348664085,\n",
       " '839': 0.022219880637379136,\n",
       " '840': 0.033368820094404755,\n",
       " '841': 0.023558540345093328,\n",
       " '842': 0.021742352929774552,\n",
       " '843': 0.025774835060256254,\n",
       " '844': 0.022270625024946953,\n",
       " '845': 0.021388053805873764,\n",
       " '846': 0.021930892477146316,\n",
       " '847': 0.026369410548968873,\n",
       " '848': 0.022189557722643558,\n",
       " '849': 0.02168273791444352,\n",
       " '850': 0.021509147777593687,\n",
       " '851': 0.02213864907772018,\n",
       " '852': 0.023562395103921278,\n",
       " '853': 0.02292337066460975,\n",
       " '854': 0.021534939333125534,\n",
       " '855': 0.021628185220301993,\n",
       " '856': 0.02241051037813182,\n",
       " '857': 0.021807485548819828,\n",
       " '858': 0.021670338710643337,\n",
       " '859': 0.023616578955071577,\n",
       " '860': 0.02165096106151814,\n",
       " '861': 0.022098049790258326,\n",
       " '862': 0.023439513521118515,\n",
       " '863': 0.021964407992104296,\n",
       " '864': 0.022800997281111263,\n",
       " '865': 0.022837356531203397,\n",
       " '866': 0.02193347121872408,\n",
       " '867': 0.021509559796631106,\n",
       " '868': 0.02332989909642194,\n",
       " '869': 0.021792638114258026,\n",
       " '870': 0.02265134231061834,\n",
       " '871': 0.023739210594387494,\n",
       " '872': 0.021650065194803007,\n",
       " '873': 0.021949668688167546,\n",
       " '874': 0.02374287623423727,\n",
       " '875': 0.021657765058294254,\n",
       " '876': 0.021503895730948203,\n",
       " '877': 0.021518037143019277,\n",
       " '878': 0.024601185712108956,\n",
       " '879': 0.021510337664256005,\n",
       " '880': 0.021518037143019277,\n",
       " '881': 0.02319582681623773,\n",
       " '882': 0.022850743795322665,\n",
       " '883': 0.022165211667080784,\n",
       " '884': 0.02374252612799758,\n",
       " '885': 0.021897088290748136,\n",
       " '886': 0.022826452972480357,\n",
       " '887': 0.021806462376779034,\n",
       " '888': 0.021562965184483328,\n",
       " '889': 0.021562965184483328,\n",
       " '890': 0.02168443895197983,\n",
       " '891': 0.021562965184483328,\n",
       " '892': 0.021562965184483328,\n",
       " '893': 0.023482726137959414,\n",
       " '894': 0.021562965184483328,\n",
       " '895': 0.021562965184483328,\n",
       " '896': 0.021562965184483328,\n",
       " '897': 0.021562965184483328,\n",
       " '898': 0.022190235492605164,\n",
       " '899': 0.02327002672276513,\n",
       " '900': 0.021680521498836848,\n",
       " '901': 0.022817405148532127,\n",
       " '902': 0.021562965184483328,\n",
       " '903': 0.022769055048509894,\n",
       " '904': 0.021562965184483328,\n",
       " '905': 0.021562965184483328,\n",
       " '906': 0.02150748452352272,\n",
       " '907': 0.02168038186828817,\n",
       " '908': 0.022772047226565013,\n",
       " '909': 0.021705434505525763,\n",
       " '910': 0.021562965184483328,\n",
       " '911': 0.021562965184483328,\n",
       " '912': 0.02301081102366052,\n",
       " '913': 0.024863154251657034,\n",
       " '914': 0.021642289096275243,\n",
       " '915': 0.023716947715176812,\n",
       " '916': 0.02150696459116904,\n",
       " '917': 0.021727026901778034,\n",
       " '918': 0.021388053805873764,\n",
       " '919': 0.024843323737214342,\n",
       " '920': 0.02171836016181955,\n",
       " '921': 0.02180844453870468,\n",
       " '922': 0.021700219785282786,\n",
       " '923': 0.022237355578260978,\n",
       " '924': 0.022884826492828036,\n",
       " '925': 0.021622751543548896,\n",
       " '926': 0.022763677939808692,\n",
       " '927': 0.022708193703794517,\n",
       " '928': 0.026475625733034466,\n",
       " '929': 0.02174071697602326,\n",
       " '930': 0.02174071697602326,\n",
       " '931': 0.02188567846530377,\n",
       " '932': 0.02181450651892601,\n",
       " '933': 0.022885808924401237,\n",
       " '934': 0.022111255384631556,\n",
       " '935': 0.02153275068216124,\n",
       " '936': 0.021538829614223667,\n",
       " '937': 0.021528097655674223,\n",
       " '938': 0.02525470612637172,\n",
       " '939': 0.023393042093844355,\n",
       " '940': 0.023307832518605225,\n",
       " '941': 0.021791786292927256,\n",
       " '942': 0.02305111496404198,\n",
       " '943': 0.023396370102515048,\n",
       " '944': 0.021909131178337996,\n",
       " '945': 0.021505507735591504,\n",
       " '946': 0.02150443059883555,\n",
       " '947': 0.02150443059883555,\n",
       " '948': 0.02157234921555584,\n",
       " '949': 0.0237422509930501,\n",
       " '950': 0.026704379678667792,\n",
       " '951': 0.021527729102419527,\n",
       " '952': 0.02389993499774242,\n",
       " '953': 0.022011863351051295,\n",
       " '954': 0.022120344315114428,\n",
       " '955': 0.02171536955487799,\n",
       " '956': 0.021642045589420032,\n",
       " '957': 0.022030333053929197,\n",
       " '958': 0.022287555316327402,\n",
       " '959': 0.021914852114160943,\n",
       " '960': 0.021662470349588254,\n",
       " '961': 0.021719954341125062,\n",
       " '962': 0.021781987684501306,\n",
       " '963': 0.023027496722869585,\n",
       " '964': 0.02383050032290986,\n",
       " '965': 0.021640698085596502,\n",
       " '966': 0.023557430675767717,\n",
       " '967': 0.023522898090649533,\n",
       " '968': 0.021388053805873764,\n",
       " '969': 0.026638584342528304,\n",
       " '970': 0.023153124022477996,\n",
       " '971': 0.022698690246925623,\n",
       " '972': 0.021506313954478808,\n",
       " '973': 0.0223029591748615,\n",
       " '974': 0.023453488273399613,\n",
       " '975': 0.025156324764479446,\n",
       " '976': 0.021621547030274604,\n",
       " '977': 0.021956502340134486,\n",
       " '978': 0.022960071232311047,\n",
       " '979': 0.021627909013529147,\n",
       " '980': 0.02257861653463368,\n",
       " '981': 0.021911895914033412,\n",
       " '982': 0.021505470489678605,\n",
       " '983': 0.0235630129822984,\n",
       " '984': 0.022898490571252657,\n",
       " '985': 0.021892997141620758,\n",
       " '986': 0.023091217361811547,\n",
       " '987': 0.022485100680920092,\n",
       " '988': 0.022794165341607595,\n",
       " '989': 0.02167787720480657,\n",
       " '990': 0.02383804015699586,\n",
       " '991': 0.023542517750173422,\n",
       " '992': 0.024522133220114067,\n",
       " '993': 0.023375966288342397,\n",
       " '994': 0.024341684288912757,\n",
       " '995': 0.022820724962322448,\n",
       " '996': 0.022331073447563042,\n",
       " '997': 0.023023945960990933,\n",
       " '998': 0.022584551433948274,\n",
       " '999': 0.022262987540450523,\n",
       " '1000': 0.023639950039655015,\n",
       " ...}"
      ]
     },
     "execution_count": 14,
     "metadata": {},
     "output_type": "execute_result"
    }
   ],
   "source": []
  },
  {
   "cell_type": "markdown",
   "metadata": {},
   "source": [
    "## Page rank\n",
    "<img src='figures/page.png'>\n",
    "**Esercizio**: Calcoliamo il pagerank sul grafo di UCIrvine utilizzando o meno i pesi degli archi. Si identifichino i nodi con pagerank maggiore."
   ]
  },
  {
   "cell_type": "code",
   "execution_count": 7,
   "metadata": {},
   "outputs": [],
   "source": []
  },
  {
   "cell_type": "code",
   "execution_count": 8,
   "metadata": {},
   "outputs": [
    {
     "name": "stdout",
     "output_type": "stream",
     "text": [
      "('32', 0.006860894208174804)\n",
      "('32', 0.005997514282124588)\n"
     ]
    }
   ],
   "source": []
  },
  {
   "cell_type": "markdown",
   "metadata": {},
   "source": [
    "Il nodo con PageRank piu' elevato rimane lo stesso, indipendentemente dal peso associato agli archi"
   ]
  },
  {
   "cell_type": "markdown",
   "metadata": {},
   "source": [
    "## Betweenness centrality\n",
    "<img src='figures/bet.png'>\n",
    "<img src='figures/bet_norm.png'>\n",
    "\n",
    "In NetworkX questa centralita' e' calcolata dal metodo\n",
    "```python\n",
    "betweenness_centrality(G, k=None, normalized=True, weight=None, endpoints=False, seed=None)\n",
    "```\n",
    "Il coefficiente di normalizzazione dipende dal tipo di grafo (non orientato/orientato)\n",
    "\n",
    "Il parametro $k$ restringe il numero di nodi $\\in V$ tra cui calcolare i cammini minimi. Nello specifico vengono estratti $k$ nodi in modo casuale da $V$. Questa modalita' e' utile quando il tempo di computazione applicando l'algoritmo standard e' elevato\n",
    "\n",
    "E' possibile calcolare la betweenness centrality valutando il numero di cammini minimi che passano gli archi, anziche' sui nodi. In questo caso il metodo da utilizzare e':\n",
    "```python\n",
    "edge_betweenness_centrality(G, k=None, normalized=True, weight=None, seed=None)\n",
    "```\n",
    "Viene restituito un dictionary che associa ad ogni arco del grafo il corrispettivo valore di betweenness.\n",
    "\n",
    "La betweenness centralit sugli archi puo' essere utilizzata per valutare la quantita' di informazione che puo' passare attraverso una relazione, ipotizzando che l'informazione si propaghi nella rete solo attraverso i cammini minimi. \n",
    "\n",
    "\n",
    "**Esercizio**: Si trovi il nodo con betweenness centrality maggiore nel grafo UCIrvine considerando o meno l'orientamento degli archi. Per estrarre la versione non orientata di un grafo orientato $D$ si puo' utilizzare il metodo di NetworkX **to_undirected()**"
   ]
  },
  {
   "cell_type": "markdown",
   "metadata": {},
   "source": [
    "## Closeness centrality\n",
    "<img src='figures/close.png'>\n",
    "\n",
    "Piu' i valori della closeness centrality sono elevati piu' il nodo e' centrale.\n",
    "\n",
    "Il metodo per il calcolo della closeness centrality in NetworkX e':\n",
    "```python\n",
    "closeness_centrality(G, u=None, distance=None, wf_improved=True, reverse=False)\n",
    "```\n",
    "_distance_ ha lo stesso significato del classico attributo _weight_ utilizzato nei metodi finora visti. \n",
    "\n",
    "Il metodo utilizza una versione migliorata della closeness centrality:\n",
    "$$ C_{+}(u) = \\frac{n-1}{N-1}C_c(u) $$\n",
    "dove $N$ indica il numero di nodi del grafo e $n$ il numero di nodi raggiungibili da $u$.\n",
    "\n",
    "**Esercizio**: Si calcoli la closeness centrality utilizzando o meno la versione miglioarata dell'indice. \n",
    "\n",
    "## Structural equivalence\n",
    "<img src='figures/jaccard_cosine.png'>\n",
    "\n",
    "**Esercizio**: Si implementino due funzioni *structural_equivalence_jaccard(graph,nodo1,nodo2)* e *structural_equivalence_cosine(graph,nodo1,nodo2)* che calcolano l'equivalenza strutturale dei due nodi passati come argomento. Si calcolino le equivalenza strutturali di un nodo estratto a caso ed un suo vicino estratto a caso"
   ]
  },
  {
   "cell_type": "code",
   "execution_count": 30,
   "metadata": {},
   "outputs": [],
   "source": []
  },
  {
   "cell_type": "code",
   "execution_count": 32,
   "metadata": {},
   "outputs": [
    {
     "data": {
      "image/png": "[encoded data removed]",
      "text/plain": [
       "<Figure size 432x288 with 1 Axes>"
      ]
     },
     "metadata": {},
     "output_type": "display_data"
    }
   ],
   "source": []
  },
  {
   "cell_type": "code",
   "execution_count": 33,
   "metadata": {},
   "outputs": [
    {
     "name": "stdout",
     "output_type": "stream",
     "text": [
      "0.6666666666666666\n",
      "0.8164965809277261\n"
     ]
    }
   ],
   "source": []
  },
  {
   "cell_type": "markdown",
   "metadata": {},
   "source": [
    "# Componenti\n",
    "<img src='figures/compo.png'>\n",
    "\n",
    "## Grafi non orientati\n",
    "Per verificare se un grafo non orientato e' connesso posso utilizzare il metodo di NetworkX:\n",
    "```python\n",
    "is_connected(G)\n",
    "```\n",
    "Per calcolare il numero di componenti connesse posso utilizzare il metodo\n",
    "```python\n",
    "number_connected_components(G)\n",
    "```\n",
    "Mentre il metodo\n",
    "```python\n",
    "connected_components(G)\n",
    "```\n",
    "restituisce un generatore di insiemi di nodi, uno per ogni componente connessa.\n",
    "\n",
    "**Esercizio:** Generare una lista contenente la dimensione delle componenti connesse nella versione non orientata del grafo di UCIrvine.\n",
    "\n",
    "**Esercizio:** Ottenere l'insieme dei nodi appartenenti alla componente connessa principale. Utilizzare la funzione **max** e specificare l'argomento key che accetta una funzione di comparazione. Per esempio \n",
    "```python\n",
    "max([(2,3),(4,5,4,3),(2,)],key=len)\n",
    "```\n",
    "restituisce la tupla (4,5,4,3) perchè è la più lunga.\n",
    "\n",
    "Per estrarre i sottografi delle componenti connesse è consigliabile utilizzare il seguente codice:\n",
    "```python\n",
    "G.subgraph(c).copy() for c in connected_components(G)\n",
    "```\n",
    "\n",
    "## Grafi orientati\n",
    "Per verificare se un grafo orientato è fortemente connesso posso utilizzare il metodo\n",
    "```python\n",
    "is_strongly_connected(G)\n",
    "```\n",
    "Per calcolare il numero di componenti fortemente connesse utilizzo il metodo\n",
    "```python\n",
    "number_strongly_connected_components(G)\n",
    "```\n",
    "Mentre il metodo\n",
    "```python\n",
    "strongly_connected_components(G)\n",
    "```\n",
    "restituisce un generatore di insiemi di nodi appartenenti alle componenti fortemente connesse\n",
    "\n",
    "Rispetto ai metodi per i grafi non orientati, esiste un metodo che restituisce una rappresentazione compatta della rete in cui le componenti fortemente connesse sono i nodi del grafo ed esiste una arco tra le componenti A e B se esiste un arco tra un nodo $a\\in A$ e$b\\in B$\n",
    "\n",
    "I corrispettivi metodi che estraggono le componenti debolmente connesse hanno la stessa signature in cui _weakly_ sostituisce _strongly_.\n",
    "\n",
    "**Esercizio Guidato**: Si contino il numero di componenti fortemente e debolmente connesse nel grafo di UCIrvine e si estragga la componente fortemente connessa principale (giant strongly connected component)"
   ]
  },
  {
   "cell_type": "markdown",
   "metadata": {},
   "source": [
    "La visite di una rete vengono definite **Traversal**\n",
    "\n",
    "# Depth-First Search - Visita in profondita'\n",
    "<img src='figures/dfs.png'>\n",
    "\n",
    "Utilizzando il metodo di NetworkX\n",
    "```python\n",
    "dfs_tree(G[, source, depth_limit])\n",
    "```\n",
    "ottengo l'albero della visita in profondita'. Posso specificare un nodo sorgente (radice dell'albero) da cui iniziare la visita mediante il parametro _source_ e fissare la profondita' della visita (quanti hop dalla sorgente) mediante il parametro *depth_limit*\n",
    "\n",
    "**Esercizio** Calcolare l'albero dfs partendo da un nodo estratto in maniera casuale dal grafo di UCIrvine e limitando la profondita' a 3"
   ]
  },
  {
   "cell_type": "code",
   "execution_count": null,
   "metadata": {},
   "outputs": [],
   "source": []
  },
  {
   "cell_type": "markdown",
   "metadata": {},
   "source": [
    "# Breadth-first Search BFS - Visita in ampiezza\n",
    "<img src='figures/bfs.png'>\n",
    "\n",
    "Anche in questo caso posso farmi restituire l'albero della visita in ampiezza tramite il metodo\n",
    "```python\n",
    "bfs_tree(G, source, reverse=False)\n",
    "```\n",
    "che restituisce un grafo orientato (albero)\n",
    "\n",
    "La visita in ampiezza si relaziona con il calcolo dei cammini minimi.\n",
    "\n",
    "# Cammini minimi - Grafo non pesato\n",
    "\n",
    "I metodi principali per il calcolo dei cammini minimi in un grafo non pesato sono\n",
    "```python\n",
    "single_source_shortest_path(G, source[, cutoff])\n",
    "```\n",
    "e\n",
    "```python\n",
    "all_pairs_shortest_path(G[, cutoff])\n",
    "```\n",
    "Il primo metodo calcola i cammini minimi fissando un nodo sorgente ed eventualmente bloccando la visita del grafo se il cammino minimo ha lunghezza maggiore di _cutoff_. Il secondo metodo calcola i cammini minimi per ogni coppia di nodi del grafo.\n",
    "\n",
    "**Esercizio** Calcolare il cammino minimo tra due nodi estratti in modo casuale dal grafo UCIrvine. Si utilizzi solo il primo metodo, in quanto il secondo ha una complessita' elevata $O(n^2)$."
   ]
  },
  {
   "cell_type": "markdown",
   "metadata": {},
   "source": [
    "# Cammini di peso minimo - Grafo pesato\n",
    "\n",
    "Nel caso di grafo pesato si utilizza l'algoritmo di Dijkstra\n",
    "<img src='figures/dijkstra.png'>\n",
    "implementato dal metodo\n",
    "```python\n",
    "single_source_dijkstra(G, source, target=None, cutoff=None, weight='weight')\n",
    "```\n",
    "dove posso specificare un nodo obiettivo se voglio calcolare il peso del cammino di peso minimo dal nodo _source_ al nodo _target_, oppure limitare il calcolo del peso del cammino utilizzando il parametro _cutoff_. Come per molti metodi visti finora, il parametro weight specifica quale attributo utilizzare per il peso dall'arco"
   ]
  },
  {
   "cell_type": "markdown",
   "metadata": {},
   "source": [
    "In questa parte del notebook analizzeremo alcune proprietà della rete dei blog politici durante le elezioni americane del 2004.\n",
    "Il grafo è orientato ed etichettato. Ad ogni nodo è associato un orientamento politico (destra/sinistra)."
   ]
  },
  {
   "cell_type": "code",
   "execution_count": 1,
   "metadata": {},
   "outputs": [],
   "source": [
    "import networkx as nx"
   ]
  },
  {
   "cell_type": "markdown",
   "metadata": {},
   "source": [
    "#### Caricamento del grafo\n",
    "I link sono salvati nel file out.moreno_blogs_blogs. Il file contiene una edge list (prime due righe sono commenti). In ogni riga gli estremi dell'arco (sorgente e destinazioni) sono separati da un carattere di tabulazione.\n",
    "\n",
    "**Esercizio**: Tenendo in considerazione le precedenti indicazioni si costruisca il grafo orientato tra i blog."
   ]
  },
  {
   "cell_type": "code",
   "execution_count": 11,
   "metadata": {},
   "outputs": [],
   "source": []
  },
  {
   "cell_type": "code",
   "execution_count": 12,
   "metadata": {},
   "outputs": [
    {
     "data": {
      "text/plain": [
       "1"
      ]
     },
     "execution_count": 12,
     "metadata": {},
     "output_type": "execute_result"
    }
   ],
   "source": []
  },
  {
   "cell_type": "markdown",
   "metadata": {},
   "source": [
    "Il file ent.moreno_blogs_blogs.blog.orientation contiene gli attributi da assegnare ai nodi. Il file è testuale.<br>\n",
    "La riga i-esima contiene l'attributo da assegnare al nodo con identificatore i.\n",
    "\n",
    "**Esercizio**: Si assegni ad ogni nodo del grafo precedentemente costruito il relativo attributo"
   ]
  },
  {
   "cell_type": "code",
   "execution_count": 13,
   "metadata": {},
   "outputs": [],
   "source": []
  },
  {
   "cell_type": "markdown",
   "metadata": {},
   "source": [
    "**Esercizio**: Si contino quanti nodi hanno un determinato attributo. Nel caso dei blog, quanti sono i blog orientati a 'Destra'?"
   ]
  },
  {
   "cell_type": "code",
   "execution_count": 14,
   "metadata": {},
   "outputs": [],
   "source": [
    "from collections import Counter"
   ]
  },
  {
   "cell_type": "code",
   "execution_count": 16,
   "metadata": {},
   "outputs": [
    {
     "data": {
      "text/plain": [
       "Counter({'left-leaning': 588, 'right-leaning': 636})"
      ]
     },
     "execution_count": 16,
     "metadata": {},
     "output_type": "execute_result"
    }
   ],
   "source": []
  },
  {
   "cell_type": "markdown",
   "metadata": {},
   "source": [
    "## Reciprocità\n",
    "<img src='figures/reciprocity.png'>\n",
    "che equivale alla seguente formula\n",
    "<img src='figures/reciprocity_formula.png.jpg'>\n",
    "Con questa formulazione il calcolo del numeratore diventa più semplice.<br>\n",
    "Praticamente si deve verificare se, dato un arco (a,b), esiste corrispettivo (b,a). In tal caso si incrementa il contatore degli archi reciproci di una unità\n",
    "\n",
    "**Esercizio**: si definisca la funzione _reciprocity(graph)_ che restituisce la reciprocità di un grafo orientato"
   ]
  },
  {
   "cell_type": "code",
   "execution_count": 17,
   "metadata": {},
   "outputs": [],
   "source": []
  },
  {
   "cell_type": "code",
   "execution_count": 18,
   "metadata": {},
   "outputs": [
    {
     "data": {
      "text/plain": [
       "0.24268068331143233"
      ]
     },
     "execution_count": 18,
     "metadata": {},
     "output_type": "execute_result"
    }
   ],
   "source": []
  },
  {
   "cell_type": "markdown",
   "metadata": {},
   "source": [
    "Esiste una seconda formulazione della reciprocità.\n",
    "<img src='figures/reciprocity_formula2.jpg'>\n",
    "dove (a) corrisponde al numeratore della formula utilizzata per la prima formulazione della reciprocità, mentre (b) corrisponde al numero di link nel grafo non orientato ottenuto da quello orientato<br>\n",
    "**Esercizio**: si definisca la funzione _reciprocity2(graph)_ che restituisce la reciprocità di un grafo orientato, secondo la seconda formulazione"
   ]
  },
  {
   "cell_type": "code",
   "execution_count": 19,
   "metadata": {},
   "outputs": [],
   "source": []
  },
  {
   "cell_type": "markdown",
   "metadata": {},
   "source": [
    "**Esercizio**: Calcolare la reciprocità (entrambe le definizioni) dell rete dei blog politici."
   ]
  },
  {
   "cell_type": "code",
   "execution_count": 20,
   "metadata": {},
   "outputs": [
    {
     "data": {
      "text/plain": [
       "0.1380846991266898"
      ]
     },
     "execution_count": 20,
     "metadata": {},
     "output_type": "execute_result"
    }
   ],
   "source": []
  },
  {
   "cell_type": "markdown",
   "metadata": {},
   "source": [
    "## Global Clustering Coefficient\n",
    "<img src='figures/transitivity.png'>\n",
    "La formula per il calcolo del clustering coefficient è:\n",
    "<img src='figures/cc_formula.png'>\n",
    "\n",
    "In NetworkX la funzione per il calcolo del clustering coefficient è **transitivity**"
   ]
  },
  {
   "cell_type": "code",
   "execution_count": 21,
   "metadata": {},
   "outputs": [
    {
     "data": {
      "text/plain": [
       "0.2259585173589758"
      ]
     },
     "execution_count": 21,
     "metadata": {},
     "output_type": "execute_result"
    }
   ],
   "source": []
  },
  {
   "cell_type": "markdown",
   "metadata": {},
   "source": [
    "E' possibile anche contare il numero di triangoli mediante la funzione **triangle**\n",
    "\n",
    "**Esercizio**: Si contino il numero di triangoli nel grafo non orientato relativo al grafo dei blog"
   ]
  },
  {
   "cell_type": "code",
   "execution_count": 24,
   "metadata": {},
   "outputs": [
    {
     "data": {
      "text/plain": [
       "101043.0"
      ]
     },
     "execution_count": 24,
     "metadata": {},
     "output_type": "execute_result"
    }
   ],
   "source": []
  },
  {
   "cell_type": "markdown",
   "metadata": {},
   "source": [
    "## Local Clustering Coefficient\n",
    "<img src='figures/lcc_formula.png'>\n",
    "\n",
    "In NetworkX il metodo per il calcolo del cc locale è **clustering**\n",
    "\n",
    "**Esercizio**: Si calcoli il cc locale di un nodo estratto casualmente dal grafo"
   ]
  },
  {
   "cell_type": "code",
   "execution_count": 28,
   "metadata": {},
   "outputs": [
    {
     "name": "stdout",
     "output_type": "stream",
     "text": [
      "890\n"
     ]
    },
    {
     "data": {
      "text/plain": [
       "0.41534391534391535"
      ]
     },
     "execution_count": 28,
     "metadata": {},
     "output_type": "execute_result"
    }
   ],
   "source": []
  },
  {
   "cell_type": "markdown",
   "metadata": {},
   "source": [
    "##  Assortatività\n",
    "<img src='figures/assorta_nominal.png'>\n",
    "<img src='figures/modularity.png'>\n",
    "\n",
    "In NetworkX si calcola l'assortatività su attributi nominali mediante il metodo **attribute_assortativity_coefficient**"
   ]
  },
  {
   "cell_type": "code",
   "execution_count": 29,
   "metadata": {},
   "outputs": [
    {
     "data": {
      "text/plain": [
       "0.8229242280560486"
      ]
     },
     "execution_count": 29,
     "metadata": {},
     "output_type": "execute_result"
    }
   ],
   "source": []
  },
  {
   "cell_type": "markdown",
   "metadata": {},
   "source": [
    "<img src='figures/assorta_ordinal_1.png'>\n",
    "<img src='figures/assorta_ordinal_2.png'>\n",
    "In NetworkX l'assortatività su attributi ordinali viene calcolata mediante il metodo **numeric_assortativity_coefficient**\n",
    "\n",
    "**Esercizio**: Dal momento che il grafo dei blog contiene attributi nominali, dobbiamo introdurre un attributo ordinale. Nel nostro caso l'aatributo età o age. Per imporre una correlazione positiva assumiamo che i blogger schierati a sinistra siano più giovani di quelli schierati a destra. Ad ogni blogger schierato a sinistra assegniamo un'età casuale tra 18 e 30, mentre ad ogni blogger schierato a destra assegniamo un'età casuale tra 40 e 50. Si calcoli l'assortatività sull'attributo age o età."
   ]
  },
  {
   "cell_type": "code",
   "execution_count": 33,
   "metadata": {},
   "outputs": [],
   "source": []
  },
  {
   "cell_type": "code",
   "execution_count": 34,
   "metadata": {},
   "outputs": [
    {
     "data": {
      "text/plain": [
       "0.7424303064439673"
      ]
     },
     "execution_count": 34,
     "metadata": {},
     "output_type": "execute_result"
    }
   ],
   "source": []
  },
  {
   "cell_type": "markdown",
   "metadata": {},
   "source": [
    "## Community detection\n",
    "In quest'ultima parte del notebook verranno presentati tre algoritmi per individuare le community in reti sociali.\n",
    "Louvain e Label Propagation restituiscono community non sovrapposte, mentre CPM (Clique Percolation Method) restituisce community sovrapposte.\n",
    "\n",
    "### Louvain\n",
    "Per utilizzare l'algoritmo di Louvain si deve installare il relativo modulo tramite **pip install python-louvain**. Il modulo installato si chiama **community**"
   ]
  },
  {
   "cell_type": "code",
   "execution_count": 35,
   "metadata": {},
   "outputs": [],
   "source": []
  },
  {
   "cell_type": "markdown",
   "metadata": {},
   "source": [
    "Per eseguire l'algoritmo invoco il metodo **best_partition**. Il metodo restituisce un dictionary in cui ad ogni nodo viene associato la community di appartenenza.\n",
    "\n",
    "**Esercizio**: Si estraggano le community dal grafo non orientato dei blog."
   ]
  },
  {
   "cell_type": "code",
   "execution_count": 36,
   "metadata": {},
   "outputs": [],
   "source": []
  },
  {
   "cell_type": "code",
   "execution_count": 38,
   "metadata": {},
   "outputs": [
    {
     "data": {
      "text/plain": [
       "Counter({0: 525,\n",
       "         1: 636,\n",
       "         2: 2,\n",
       "         3: 40,\n",
       "         4: 4,\n",
       "         5: 2,\n",
       "         6: 2,\n",
       "         7: 3,\n",
       "         8: 2,\n",
       "         9: 4,\n",
       "         10: 2,\n",
       "         11: 2})"
      ]
     },
     "execution_count": 38,
     "metadata": {},
     "output_type": "execute_result"
    }
   ],
   "source": []
  },
  {
   "cell_type": "markdown",
   "metadata": {},
   "source": [
    "Il modulo community mette a disposizione anche il metodo **generate_dendogram** che ci permette di ottenere la gerarchia delle community. Il metodo, infatti, è gerarchico in quanto al passaggio $pass(i)$ aggrega le community identificate al passaggio $pass(i-1)$, come mostrato nell'esempio presentato nelle slide di teoria:\n",
    "<img src='figures/louvain_steps.png'>\n",
    "La corrispondente gerarchia è la seguente:\n",
    "<img src='figures/hierarchy_louvain.png'>\n",
    "\n",
    "Il metodo generate_dendogram restituisce una lista di dictionary, dove ogni dictionary rappresenta una partizione dei nodi. Ogni dictionary corrisponde ad un livello del dendogramma (albero)."
   ]
  },
  {
   "cell_type": "code",
   "execution_count": 39,
   "metadata": {},
   "outputs": [],
   "source": []
  },
  {
   "cell_type": "code",
   "execution_count": 40,
   "metadata": {},
   "outputs": [
    {
     "name": "stdout",
     "output_type": "stream",
     "text": [
      "32\n",
      "13\n",
      "12\n"
     ]
    }
   ],
   "source": []
  },
  {
   "cell_type": "markdown",
   "metadata": {},
   "source": [
    "Infine per valutare la modularity di una partizione in community posso utilizzare il metodo **modularity**\n",
    "\n",
    "Nell'esempio valutiamo la modularity delle partizioni generate dai diversi passaggi dell'algoritmo."
   ]
  },
  {
   "cell_type": "code",
   "execution_count": 41,
   "metadata": {},
   "outputs": [
    {
     "name": "stdout",
     "output_type": "stream",
     "text": [
      "0 0.4186032596823937\n",
      "1 0.42686890926967797\n",
      "2 0.4269074811012874\n"
     ]
    }
   ],
   "source": []
  },
  {
   "cell_type": "markdown",
   "metadata": {},
   "source": [
    "### Label propagation\n",
    "Label propagation individua le community mediante un processo diffusivo su grafo. Il processo è definito dai seguenti passi:\n",
    "1. Inizializzo ogni nodo con un'etichetta (id community) diversa\n",
    "2. Per ogni nodo sostituisco la sua etichetta con quella più frequente tra i suoi vicini. In caso di parità scelgo un'etichetta a caso tra quelle più frequenti.\n",
    "3. Il processo termina quando l'etichetta di ogni nodo corrisponde con l'etichetta più frequente trai suoi vicini.\n",
    "\n",
    "In NetworkX l'algoritmo è implementato dal metodo **label_propagation_communities** il quale restituisce un generatore di insiemi che corrispondono alle community di nodi.\n",
    "\n",
    "\n",
    "**Esercizio**: Si valuti la modularity della partizione identificata da Label Propagation. Si può utilizzare il metodo enumerate il quale, dato una lista $l$, restituisce una lista di coppie (i,v) tale che $l_i=v$ "
   ]
  },
  {
   "cell_type": "code",
   "execution_count": 42,
   "metadata": {},
   "outputs": [
    {
     "name": "stdout",
     "output_type": "stream",
     "text": [
      "8\n"
     ]
    },
    {
     "data": {
      "text/plain": [
       "0.001314998733199665"
      ]
     },
     "execution_count": 42,
     "metadata": {},
     "output_type": "execute_result"
    }
   ],
   "source": []
  },
  {
   "cell_type": "code",
   "execution_count": 43,
   "metadata": {},
   "outputs": [
    {
     "data": {
      "text/plain": [
       "Counter({0: 1208, 1: 4, 2: 2, 3: 2, 4: 2, 5: 2, 6: 2, 7: 2})"
      ]
     },
     "execution_count": 43,
     "metadata": {},
     "output_type": "execute_result"
    }
   ],
   "source": []
  },
  {
   "cell_type": "markdown",
   "metadata": {},
   "source": [
    "### CPM (Clique Percolation Method)\n",
    "L'algoritmo si basa sulla definizione di $k$-clique community. Una $k$-clique community  è l'unione di tutte le $k$-clique che possono essere raggiunte attraverso una sequenza di $k$-clique adiacenti. Due $k$-clique sono adiacenti se hanno in comune $k-1$ nodi.\n",
    "\n",
    "L'algoritmo:\n",
    "1. estrae tutte le k-clique\n",
    "2. costruisce un grafo non orientato i cui sono le k-clique ed esiste un arco $(u,v)$ sse le k-clique $u$ e $v$ sono adiacenti.\n",
    "3. ogni componente connessa del grafo corrisponde ad una $k$-clique community\n",
    "\n",
    "In NetworkX l'algoritmo CPM è implementato dal metodo **clique_communities(graph, k)** il quale restituisce un generatore di insiemi corrispondenti alla nodi appartenenti alle $k$-clique community identificate.\n",
    "\n",
    "**Esercizio**: Identificare le $k$-clique community nel grafo dei blog americani."
   ]
  },
  {
   "cell_type": "code",
   "execution_count": null,
   "metadata": {},
   "outputs": [],
   "source": []
  }
 ],
 "metadata": {
  "kernelspec": {
   "display_name": "Python 3",
   "language": "python",
   "name": "python3"
  },
  "language_info": {
   "codemirror_mode": {
    "name": "ipython",
    "version": 3
   },
   "file_extension": ".py",
   "mimetype": "text/x-python",
   "name": "python",
   "nbconvert_exporter": "python",
   "pygments_lexer": "ipython3",
   "version": "3.6.8"
  }
 },
 "nbformat": 4,
 "nbformat_minor": 2
}
