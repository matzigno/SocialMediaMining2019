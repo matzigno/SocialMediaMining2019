{
 "cells": [
  {
   "cell_type": "markdown",
   "metadata": {},
   "source": [
    "## Jupyter\n",
    "\n",
    "<p><strong>Jupyter</strong> è una web application per la creazione e la condivisione di documenti contenenti codice sorgente, visualizzazioni e testo formattato.</p>\n",
    "<p>E' uno dei principali strumento per i data analyst in quanto permette una continua interazione con i dati. Jupyter Notebook è basato su un insieme di standard aperti per l'interactive computing:</p>\n",
    "<ul>\n",
    "    <li>Notebook Document Format: basato su JSON, memorizza tutti gli elementi del Notebook (client).</li>\n",
    "    <li>Interactive Computing Protocol: protocollo di rete che gestisce la comunicazione tra Notebook e Kernel (protocol).</li>\n",
    "</ul>\n",
    "\n",
    "<p>Grazie all'architettura client/server, Jupyter supporta più di 40 linguaggi di programmmazione, tra cui Python, Scala e R. In questo corso utilizzeremo quasi esclusivamente Python, in quanto rappresenta uno dei linguaggi più utilizzati in Data Science.</p>\n",
    "<img src=\"http://www.kdnuggets.com/wp-content/uploads/r-vs-python-activity.jpg\">\n",
    "<strong>N.B.</strong> Le seguenti note sono basate sul libro \"Sams Teach Yourself Python in 24 Hours\""
   ]
  },
  {
   "cell_type": "markdown",
   "metadata": {
    "collapsed": true
   },
   "source": [
    "## Hour 2: Putting Numbers to Work in Python\n",
    "<p> In Python non è necessario specificare il tipo di variabile. Il tipo della variabile viene 'inferito' quando viene creata.</p>\n",
    "<img src=\"figures/tipo_dati.png\">\n",
    "<p> Iniziamo con assegnare il valore 5 alla variabile a</p>"
   ]
  },
  {
   "cell_type": "code",
   "execution_count": 2,
   "metadata": {
    "collapsed": true
   },
   "outputs": [],
   "source": [
    "a = 5"
   ]
  },
  {
   "cell_type": "markdown",
   "metadata": {},
   "source": [
    "<p>Per vedere il contenuto della variabile a ...</p>"
   ]
  },
  {
   "cell_type": "code",
   "execution_count": 3,
   "metadata": {},
   "outputs": [
    {
     "data": {
      "text/plain": [
       "5"
      ]
     },
     "execution_count": 3,
     "metadata": {},
     "output_type": "execute_result"
    }
   ],
   "source": [
    "a"
   ]
  },
  {
   "cell_type": "markdown",
   "metadata": {},
   "source": [
    "Utilizzando la funzione built-in __type__ posso farmi restituire il tipo di una variabile"
   ]
  },
  {
   "cell_type": "code",
   "execution_count": 9,
   "metadata": {},
   "outputs": [
    {
     "data": {
      "text/plain": [
       "int"
      ]
     },
     "execution_count": 9,
     "metadata": {},
     "output_type": "execute_result"
    }
   ],
   "source": [
    "type(a)"
   ]
  },
  {
   "cell_type": "markdown",
   "metadata": {},
   "source": [
    "<p>Ci sono alcune regole per scegliere un nome di una variabile:\n",
    "<ul>\n",
    "<li>Non possono iniziare con un numero</li>\n",
    "<li>Non possono contenere caratteri speciali ad eccezione di '_'</li>\n",
    "</ul>\n",
    "Per ulteriori informazioni sullo stile di programmazione in Python si può consultare la guida di stile ufficiale <a href=\"https://www.python.org/dev/peps/pep-0008/\">https://www.python.org/dev/peps/pep-0008/</a>.Un PEP (Python Enhancement Proposal) è un documento che descrive linee guida o modifiche da apportare a Python.\n",
    "\n",
    "### Math in Python\n",
    "Python supporta tutte le operazioni matematiche di base\n",
    "<img src=\"figures/operatori.png\">\n",
    "L'ordine degli operatori è il seguente:\n",
    "<ol>\n",
    "<li>Elementi nelle parentesi</li>\n",
    "<li>Esponenziale e radici</li>\n",
    "<li>Moltiplicazione e divisione</li>\n",
    "<li>Addizione e sottrazione</li>\n",
    "</ol>"
   ]
  },
  {
   "cell_type": "code",
   "execution_count": 10,
   "metadata": {},
   "outputs": [
    {
     "data": {
      "text/plain": [
       "(6, 6.5, 6.5)"
      ]
     },
     "execution_count": 10,
     "metadata": {},
     "output_type": "execute_result"
    }
   ],
   "source": [
    "(13//2, 13/2, 13.0/2) #Differenza Python2 e Python3"
   ]
  },
  {
   "cell_type": "markdown",
   "metadata": {
    "collapsed": true
   },
   "source": [
    "#### Combining data types\n",
    "<p> I numeri possono avere diversi tipi. </p>\n",
    "<p> Se tutti i numeri nella formula sono dello stesso tipo (Caso 1), il valore restituito sarà dello stesso tipo degli elementi. Se c'è almeno un tipo float (Caso 2), il risultato sarà di tipo float</p>"
   ]
  },
  {
   "cell_type": "code",
   "execution_count": 11,
   "metadata": {},
   "outputs": [
    {
     "name": "stdout",
     "output_type": "stream",
     "text": [
      "<class 'int'>\n",
      "<class 'float'>\n"
     ]
    }
   ],
   "source": [
    "print(type(1+1)) # Caso 1\n",
    "print(type(1+1.0)) # Caso 2"
   ]
  },
  {
   "cell_type": "markdown",
   "metadata": {},
   "source": [
    "<strong>N.B.</strong> Fate attenzione alla divisione tra interi. Nel seguente esempio la funzione __float()__ trasforma l'argomento in un float. E' possibile usare float sia con interi sia per convertire stringhe."
   ]
  },
  {
   "cell_type": "code",
   "execution_count": 4,
   "metadata": {},
   "outputs": [
    {
     "name": "stdout",
     "output_type": "stream",
     "text": [
      "0.5\n",
      "0.5\n",
      "0.5\n"
     ]
    },
    {
     "data": {
      "text/plain": [
       "3.5"
      ]
     },
     "execution_count": 4,
     "metadata": {},
     "output_type": "execute_result"
    }
   ],
   "source": [
    "print(1/2)\n",
    "print(1/2.)\n",
    "print(1/float(2))\n",
    "conversione = float('3.5') #Conversione di una stringa in float\n",
    "conversione"
   ]
  },
  {
   "cell_type": "markdown",
   "metadata": {},
   "source": [
    "#### Comparazione di numeri"
   ]
  },
  {
   "cell_type": "markdown",
   "metadata": {},
   "source": [
    "<img src=\"figures/comparatori.png\">\n",
    "<strong>N.B.</strong> Non confondere __'=='__ (uguaglianza) con __'='__ (assegnamento)\n",
    "<p>In Python True e False sono tipi primitivi booleani.</p>"
   ]
  },
  {
   "cell_type": "markdown",
   "metadata": {},
   "source": [
    "## Hour 3: Logic in Programming\n",
    "### If statement\n",
    "Rispetto a Java la sintassi del costrutto __if__ richiede meno simboli, tuttavia è obbligatorio terminare la condizione con __':'__\n",
    "```python\n",
    "if CONDIZIONE:\n",
    "    blocco\n",
    "```"
   ]
  },
  {
   "cell_type": "code",
   "execution_count": 16,
   "metadata": {},
   "outputs": [
    {
     "name": "stdout",
     "output_type": "stream",
     "text": [
      "5\n",
      "Indenta\n"
     ]
    }
   ],
   "source": [
    "num = 5\n",
    "if num > 1:\n",
    "    print(num)\n",
    "    print('Bloccon indentato')"
   ]
  },
  {
   "cell_type": "markdown",
   "metadata": {},
   "source": [
    "Come vedete l'editor automaticamente indenta il codice. Python <strong> utilizza gli spazi o i caratteri di tabulazione per definire un blocco di codice. Tutto le istruzione che sono indentate allo stesso livello appartengono alla stesso blocco di codice</strong>. Dal punto di vista sintattico l'indentazione forzata rappresenta una delle maggiore differenze rispetto a Java, ma ha il vantaggio di forzare lo stile e la presentazione del codice.<br>\n",
    "Solitamente si preferiscono gli spazi anzichè i tab. Molti editor permettono di settare quanti spazi inserire (2 o 4 solitamente). Jupyter inserisce 4 spazi.\n",
    "\n",
    "(Un pò di svago: https://www.youtube.com/watch?v=SsoOG6ZeyUI)"
   ]
  },
  {
   "cell_type": "markdown",
   "metadata": {},
   "source": [
    "#### Adding else to an if"
   ]
  },
  {
   "cell_type": "code",
   "execution_count": 25,
   "metadata": {},
   "outputs": [
    {
     "name": "stdout",
     "output_type": "stream",
     "text": [
      "Minore di 5\n"
     ]
    }
   ],
   "source": [
    "a = 4\n",
    "if a > 5:\n",
    "    print('Maggiore di 5')\n",
    "else:\n",
    "    print('Minore di 5')"
   ]
  },
  {
   "cell_type": "markdown",
   "metadata": {},
   "source": [
    "<strong>N.B.</strong> Ricordarsi sempre i ':' dopo la condizione dell'istruzione if e dopo l'istruzione else !!!<br>\n",
    "<strong>N.B.</strong> All'istruzione else deve seguire un blocco di codice. Non posso scrivere un else senza almeno un'istruzione che verrà eseguita nel caso l'esecuzione entri nel ramo dell'else."
   ]
  },
  {
   "cell_type": "markdown",
   "metadata": {},
   "source": [
    "#### Testing Many Things with elif\n",
    "Se voglio testare più di una condizione posso utilizzare l'istruzione __elif__. E' una parte opzionale dell'istruzione if, infatti elif deve essere preceduta da if.<br>\n",
    "Anche in questo caso il ramo else non è obbligatorio."
   ]
  },
  {
   "cell_type": "code",
   "execution_count": 26,
   "metadata": {},
   "outputs": [
    {
     "name": "stdout",
     "output_type": "stream",
     "text": [
      "Aggiungi qualche gadget inutile per la spedizione gratuita\n"
     ]
    }
   ],
   "source": [
    "total = 45\n",
    "if total > 50:\n",
    "    print('Spedizione gratuita.')\n",
    "elif total > 40:\n",
    "    print('Aggiungi qualche gadget inutile per la spedizione gratuita')\n",
    "else:\n",
    "    print('Spedizione gratuita con una spesa di almeno 50 euro.')"
   ]
  },
  {
   "cell_type": "markdown",
   "metadata": {},
   "source": [
    "#### True and False variables\n",
    "I seguenti tipi di dati vengono considerati False\n",
    "<img src=\"figures/false.png\">\n",
    "Una variabile viene valutata _True_ se contiene qualcosa (non è una collezione vuota) o è un numero diverso da 0."
   ]
  },
  {
   "cell_type": "markdown",
   "metadata": {},
   "source": [
    "#### Usign try/except to Avodi Errors\n",
    "Anche in Python esiste un meccanismo di gestione delle eccezioni come in Java. Il costrutto Python __try/except__ è molto simile al costrutto Java _try/catch_. Anche in questo caso vale la definizione del blocco di codice visto in precedenza."
   ]
  },
  {
   "cell_type": "code",
   "execution_count": 27,
   "metadata": {},
   "outputs": [
    {
     "name": "stdout",
     "output_type": "stream",
     "text": [
      "Divisione per 0\n",
      "6\n"
     ]
    }
   ],
   "source": [
    "a = 5\n",
    "try:\n",
    "    a = a + 1\n",
    "    a = a / 0\n",
    "except:\n",
    "    print('Divisione per 0')\n",
    "print(a)"
   ]
  },
  {
   "cell_type": "markdown",
   "metadata": {},
   "source": [
    "Come in Java, dopo except posso specificare quale eccezione deve essere catturata e posso specificare un riferimento all'oggetto eccezione.<br>\n",
    "Come l'istruzione else, anche il blocco except deve contenere almeno un'istruzione. Posso inserire l'istruzione __pass__ che continua l'esecuzione del codice.\n",
    "\n",
    "Per esempio in questo codice gestisce la divisione per zero ..."
   ]
  },
  {
   "cell_type": "code",
   "execution_count": 28,
   "metadata": {},
   "outputs": [
    {
     "name": "stdout",
     "output_type": "stream",
     "text": [
      "('division by zero',)\n",
      "Divisione per 0\n",
      "6\n"
     ]
    }
   ],
   "source": [
    "a = 5\n",
    "try:\n",
    "    a = a+1\n",
    "    a = a / 0\n",
    "except ZeroDivisionError as k:\n",
    "    print(k.args)\n",
    "    print('Divisione per 0')\n",
    "print(a)"
   ]
  },
  {
   "cell_type": "markdown",
   "metadata": {},
   "source": [
    "oppure in maniera piu' brutale"
   ]
  },
  {
   "cell_type": "code",
   "execution_count": 5,
   "metadata": {},
   "outputs": [
    {
     "name": "stdout",
     "output_type": "stream",
     "text": [
      "6\n"
     ]
    }
   ],
   "source": [
    "try:\n",
    "    a = a+1\n",
    "    a = a / 0\n",
    "except:\n",
    "    pass\n",
    "print(a)"
   ]
  },
  {
   "cell_type": "markdown",
   "metadata": {},
   "source": [
    "## Hour 4: Storing Text in Strings\n",
    "### Creating Strings\n",
    "Le stringhe vengono create delimitando il testo con il singolo apice ' o con il doppio apice \". Il delimitatore di apertura deve essere lo stesso di quello di chiusura"
   ]
  },
  {
   "cell_type": "code",
   "execution_count": 30,
   "metadata": {},
   "outputs": [
    {
     "data": {
      "text/plain": [
       "'Ciao\"'"
      ]
     },
     "execution_count": 30,
     "metadata": {},
     "output_type": "execute_result"
    }
   ],
   "source": [
    "text1 = 'Ciao'\n",
    "text2 = \"Ciao\"\n",
    "text3 = 'Ciao\" #sbagliato"
   ]
  },
  {
   "cell_type": "markdown",
   "metadata": {},
   "source": [
    "### Printing strings\n",
    "Posso visualizzare una stringa con il comando print.<br>"
   ]
  },
  {
   "cell_type": "code",
   "execution_count": 31,
   "metadata": {},
   "outputs": [
    {
     "name": "stdout",
     "output_type": "stream",
     "text": [
      "Hello\n"
     ]
    }
   ],
   "source": [
    "print('Hello')"
   ]
  },
  {
   "cell_type": "markdown",
   "metadata": {},
   "source": [
    "### Getting information about a string\n",
    "Python fornisce alcuni metodi built-in per ottenere informazioni sull'oggetto stringa e per modificarlo.<br>\n",
    "La funzione __len()__ restituisce il numero di caratteri che compongono una stringa"
   ]
  },
  {
   "cell_type": "code",
   "execution_count": 32,
   "metadata": {},
   "outputs": [
    {
     "data": {
      "text/plain": [
       "10"
      ]
     },
     "execution_count": 32,
     "metadata": {},
     "output_type": "execute_result"
    }
   ],
   "source": [
    "name = 'Alessandro'\n",
    "len(name)"
   ]
  },
  {
   "cell_type": "markdown",
   "metadata": {},
   "source": [
    "L'oggetto stringa fornisce una serie di metodi che permettono di manipolarne il contenuto.\n",
    "<img src='figures/format_stringa.png'>\n",
    "Non modificano l'oggetto che invoca il metodo, ma creano un nuovo oggetto stringa, lasciando l'originale inalterato."
   ]
  },
  {
   "cell_type": "code",
   "execution_count": 33,
   "metadata": {
    "collapsed": true
   },
   "outputs": [],
   "source": [
    "title = 'il signore degli anelli'"
   ]
  },
  {
   "cell_type": "code",
   "execution_count": 34,
   "metadata": {},
   "outputs": [
    {
     "data": {
      "text/plain": [
       "'Il Signore Degli Anelli'"
      ]
     },
     "execution_count": 34,
     "metadata": {},
     "output_type": "execute_result"
    }
   ],
   "source": [
    "title.title()"
   ]
  },
  {
   "cell_type": "markdown",
   "metadata": {},
   "source": [
    "Il metodo __isalpha()__ verifica che la stringa contenga solo caratteri dell'alfabeto.<br>\n",
    "Il metodo __isdigit()__ verifica che la stringa contenga solo caratteri numerici."
   ]
  },
  {
   "cell_type": "code",
   "execution_count": 7,
   "metadata": {},
   "outputs": [
    {
     "name": "stdout",
     "output_type": "stream",
     "text": [
      "False True\n",
      "True False\n",
      "False False\n"
     ]
    }
   ],
   "source": [
    "string_digit = '8329103'\n",
    "string_alpha = 'dfaskjfdlajh'\n",
    "string_mixed = '832904fkdsjhf098239'\n",
    "print(string_digit.isalpha(),string_digit.isdigit())\n",
    "print(string_alpha.isalpha(),string_alpha.isdigit())\n",
    "print(string_mixed.isdigit(),string_mixed.isalpha())"
   ]
  },
  {
   "cell_type": "markdown",
   "metadata": {},
   "source": [
    "### Math and comparison\n",
    "Come per i numeri, posso estendere gli operatori alle stringhe, sovrascrivendone la semantica. Non tutti gli operatori sono accettati.\n",
    "#### Sommare stringhe\n",
    "Le stringhe possono essere sommate per creare nuove stringhe. L'addizione corrisponde alla concatenazione di stringhe (come in Java)"
   ]
  },
  {
   "cell_type": "code",
   "execution_count": 38,
   "metadata": {},
   "outputs": [
    {
     "name": "stdout",
     "output_type": "stream",
     "text": [
      "AlessandroMagno\n"
     ]
    }
   ],
   "source": [
    "nome = 'Alessandro'\n",
    "cognome = 'Magno'\n",
    "print(nome + cognome)"
   ]
  },
  {
   "cell_type": "markdown",
   "metadata": {},
   "source": [
    "<strong>Esercizio:</strong> Si inserisca uno spazio tra nome e cognome"
   ]
  },
  {
   "cell_type": "code",
   "execution_count": 39,
   "metadata": {},
   "outputs": [
    {
     "name": "stdout",
     "output_type": "stream",
     "text": [
      "Alessandro Magno\n"
     ]
    }
   ],
   "source": [
    "print(nome + ' ' + cognome)"
   ]
  },
  {
   "cell_type": "markdown",
   "metadata": {},
   "source": [
    "#### String multiplication\n",
    "Nella moltiplicazione il primo operando è una stringa s, mentre il secondo è un intero n. La stringa restituita è la stringa s ripetuta n volte. <br>\n",
    "La moltiplicazione per un intero negativo restituisce una stringa vuota, mentre per un float restituisce un errore. <br>\n",
    "<img src=\"figures/penny.gif\">"
   ]
  },
  {
   "cell_type": "code",
   "execution_count": 40,
   "metadata": {},
   "outputs": [
    {
     "data": {
      "text/plain": [
       "'PennyPennyPenny'"
      ]
     },
     "execution_count": 40,
     "metadata": {},
     "output_type": "execute_result"
    }
   ],
   "source": [
    "s = 'Penny'\n",
    "s*3"
   ]
  },
  {
   "cell_type": "markdown",
   "metadata": {},
   "source": [
    "#### Comparing strings\n",
    "Per verificare l'uguaglianza tra stringhe utilizzo l'operatore ==, mentre < o > sfruttano l'ordine lessicografico"
   ]
  },
  {
   "cell_type": "code",
   "execution_count": 8,
   "metadata": {},
   "outputs": [
    {
     "name": "stdout",
     "output_type": "stream",
     "text": [
      "False\n",
      "False\n",
      "True\n"
     ]
    }
   ],
   "source": [
    "a = 'aaa'\n",
    "b = 'aab'\n",
    "c = 'aaa'\n",
    "print(a > b)\n",
    "print(a == b)\n",
    "print(c == a)"
   ]
  },
  {
   "cell_type": "markdown",
   "metadata": {},
   "source": [
    "### Formatting string\n",
    "Ci sono molti modi per modificare il formato di una stringa.\n",
    "#### Controlling spacing with escapes\n",
    "Se devo creare stringhe su più linee utilizzo '\\n', il simbolo di newline. Il carattere '\\' è un simbolo di escape.<br>\n",
    "Per introdurre un tab utilizzo la combinazione '\\t'.<br>\n",
    "Il carattere di escape è utile quando ho un carattere apice o doppio apice nella stringa.<br>\n",
    "Se devo usare un '\\' nella stringa utilizzo la coppia '\\\\\\'"
   ]
  },
  {
   "cell_type": "code",
   "execution_count": 9,
   "metadata": {},
   "outputs": [
    {
     "name": "stdout",
     "output_type": "stream",
     "text": [
      "Ciao\n",
      " come stai?\n",
      " Io\tsto\tbene\n",
      " L'articolo\\\n"
     ]
    }
   ],
   "source": [
    "newlines = 'Ciao\\n come stai?\\n'\n",
    "tab = 'Io\\tsto\\tbene\\n'\n",
    "apici = \"L\\'articolo\\\\\"\n",
    "print(newlines,tab,apici)"
   ]
  },
  {
   "cell_type": "markdown",
   "metadata": {},
   "source": [
    "#### Removing whitespace\n",
    "Il metodo __strip()__ rimuove i caratteri di spaziatura all'inizio e alla fine della stringa, oppure rimuove solo i caratteri che vengono passati come argomento.<br>\n",
    "I metodi __rstrip()__ o __lstrip()__ agiscono solo eliminando i caratterri alla fine o all'inizio"
   ]
  },
  {
   "cell_type": "code",
   "execution_count": 11,
   "metadata": {},
   "outputs": [
    {
     "name": "stdout",
     "output_type": "stream",
     "text": [
      "strip(): -C'e' tanto spazio nello spazio-\n",
      "lstrip(): -C'e' tanto spazio nello spazio                \n",
      "-\n",
      "rstrip(): -                  C'e' tanto spazio nello spazio-\n"
     ]
    }
   ],
   "source": [
    "tanto_spazio = \"                  C'e' tanto spazio nello spazio                \\n\"\n",
    "print('strip(): -' + tanto_spazio.strip() + '-')\n",
    "print('lstrip(): -' + tanto_spazio.lstrip() + '-')\n",
    "print('rstrip(): -' + tanto_spazio.rstrip() + '-')"
   ]
  },
  {
   "cell_type": "markdown",
   "metadata": {},
   "source": [
    "#### Searching and replacing text\n",
    "Il metodo __count()__ restituisce quante volte una stringa occorre in un'altra stringa.<br>\n",
    "Il metodo __find()__ restituisce l'indice della prima occorrenza della stringa da cercare, se la stringa è assente restituisce -1.<br>\n",
    "Il metodo __replace()__ sostuisce tutte le occorrenze della prima stringa con la seconda stringa"
   ]
  },
  {
   "cell_type": "code",
   "execution_count": 13,
   "metadata": {},
   "outputs": [
    {
     "name": "stdout",
     "output_type": "stream",
     "text": [
      "Conteggio della parola 'spazio': 2\n",
      "Indice della prima occorrenza di 'spazio': 11\n",
      "C'e' tanto space nello space\n",
      "C'e' tanto spazio nello spazio\n"
     ]
    }
   ],
   "source": [
    "tanto_spazio = tanto_spazio.strip()\n",
    "print('Conteggio della parola \\'spazio\\':', tanto_spazio.count('spazio'))\n",
    "print('Indice della prima occorrenza di \\'spazio\\':', tanto_spazio.find('spazio'))\n",
    "tanto_space = tanto_spazio.replace('spazio','space')\n",
    "print(tanto_space)\n",
    "print(tanto_spazio)"
   ]
  },
  {
   "cell_type": "markdown",
   "metadata": {},
   "source": [
    "## Hour 6: Grouping Items in Lists\n",
    "In Python si possono collezionare o raggruppare elementi in un tipo di dato chiamato list. <strong>Gli elementi in una lista possono essere di tipi diversi</strong>.\n",
    "### Creating a list\n",
    "Gli elementi in una lista sono racchiusi da parentesi quadre ([]) e separati da virgole. <br>\n",
    "La lista vuota viene creata con l'istruzione [] oppure con la funzione __list()__"
   ]
  },
  {
   "cell_type": "code",
   "execution_count": 16,
   "metadata": {
    "collapsed": true
   },
   "outputs": [],
   "source": [
    "fruit = ['mela','fragola','pera','mango']\n",
    "empty_fruit = []\n",
    "empty_fruit2 = list()"
   ]
  },
  {
   "cell_type": "markdown",
   "metadata": {},
   "source": [
    "Python indicizza ogni elemento della lista con un indice numerico incrementale che inizia dallo 0. In questo modo la lista può essere vista come un array le cui dimensioni sono mutabili. Per ottenere un elemento all'indice i utilizzo la sintassi __lista[i]__. La lista modella il concetto di sequenza, quindi esiste un ordinamento degli elementi fornito dall'indice. Una lista può contenere duplicati dello stesso elemento."
   ]
  },
  {
   "cell_type": "code",
   "execution_count": 66,
   "metadata": {},
   "outputs": [
    {
     "name": "stdout",
     "output_type": "stream",
     "text": [
      "fragola\n",
      "mango\n"
     ]
    }
   ],
   "source": [
    "print(fruit[1])\n",
    "print(fruit[len(fruit)-1])"
   ]
  },
  {
   "cell_type": "markdown",
   "metadata": {},
   "source": [
    "### List slicing\n",
    "Posso estrarre una sottolista utilizzando la seguente sintassi\n",
    "```python\n",
    "name_list[start_index:end_index]\n",
    "```\n",
    "In questo modo ottengo una nuova lista che inizia all'indice __start_index__ (incluso) e termina all'indice __end_index__ -1\n",
    "![title](figures/list_indexing.png)"
   ]
  },
  {
   "cell_type": "code",
   "execution_count": 18,
   "metadata": {},
   "outputs": [
    {
     "name": "stdout",
     "output_type": "stream",
     "text": [
      "['mela', 'fragola', 'pera']  e' equivalente a  ['mela', 'fragola', 'pera']\n",
      "['fragola', 'pera', 'mango']\n",
      "['mela', 'fragola', 'pera', 'mango']\n"
     ]
    }
   ],
   "source": [
    "print(fruit[:3],' e\\' equivalente a ',fruit[0:3])\n",
    "print(fruit[1:])\n",
    "print(fruit[:]) # e' un modo ottenere una copia della lista"
   ]
  },
  {
   "cell_type": "markdown",
   "metadata": {},
   "source": [
    "Per creare una lista posso utilizzare anche delle variabili, tuttavia al momento della creazione della lista viene fatta una copia dell'elemento referenziato dalla variabile."
   ]
  },
  {
   "cell_type": "code",
   "execution_count": 19,
   "metadata": {},
   "outputs": [
    {
     "data": {
      "text/plain": [
       "['frutto della passione', 'mandarino']"
      ]
     },
     "execution_count": 19,
     "metadata": {},
     "output_type": "execute_result"
    }
   ],
   "source": [
    "fruit_1 = 'frutto della passione'\n",
    "fruit_2 = 'mandarino'\n",
    "fruit_list = [fruit_1,fruit_2]\n",
    "fruit_2 = 'pomelo'\n",
    "fruit_list"
   ]
  },
  {
   "cell_type": "markdown",
   "metadata": {},
   "source": [
    "### Getting information about a list\n",
    "Il metodo __len()__ restutisce il numero di elementi nella lista.<br>\n",
    "Il metodo __count()__ restituisce il numero di occorrenze di un elemento nella lista. <br>\n",
    "Il metodo __index()__ restituisce l'indice della prima occorrenza dell'elemento cercato <br>\n",
    "La funzione built-in __in__ verifica se l'elemento è presente nella lista\n",
    "\n",
    "<strong>Esercizio:</strong> Si definisca una lista contenente gli elementi 'html',2,'tag','BeforePageletArrive','div class=\"\"',True,3.0,2. Si risponda alle seguenti domande: Di quanti elementi è composta la lista? Quanto volte occorre il valore 2? Qual è l'indice del valore 'tag'? 'span' è presente nella lista?"
   ]
  },
  {
   "cell_type": "code",
   "execution_count": 21,
   "metadata": {},
   "outputs": [
    {
     "name": "stdout",
     "output_type": "stream",
     "text": [
      "Lunghezza lista: 4\n",
      "'mango' occorre: 1 volte\n",
      "Indice della prima occorrenza di 'mango' 3\n"
     ]
    },
    {
     "data": {
      "text/plain": [
       "True"
      ]
     },
     "execution_count": 21,
     "metadata": {},
     "output_type": "execute_result"
    }
   ],
   "source": [
    "print('Lunghezza lista:', len(fruit))\n",
    "print('\\'mango\\' occorre:', fruit.count('mango'), 'volte')\n",
    "print('Indice della prima occorrenza di \\'mango\\'', fruit.index('mango'))\n",
    "'mango' in fruit"
   ]
  },
  {
   "cell_type": "markdown",
   "metadata": {},
   "source": [
    "Soluzione dell'esercizio precedente"
   ]
  },
  {
   "cell_type": "code",
   "execution_count": 81,
   "metadata": {},
   "outputs": [
    {
     "name": "stdout",
     "output_type": "stream",
     "text": [
      "8\n",
      "2\n",
      "2\n"
     ]
    },
    {
     "data": {
      "text/plain": [
       "False"
      ]
     },
     "execution_count": 81,
     "metadata": {},
     "output_type": "execute_result"
    }
   ],
   "source": [
    "elements = ['html',2,'tag','BeforePageletArrive','div class=\"\"',True,3.0,2]\n",
    "print(len(elements))\n",
    "print(elements.count(2))\n",
    "print(elements.index('tag'))\n",
    "'span' in elements"
   ]
  },
  {
   "cell_type": "markdown",
   "metadata": {},
   "source": [
    "### Manipulating lists\n",
    "Posso aggiungere, rimuovere e cambiare una lista (sse la lista esiste).<br>\n",
    "Il metodo __append()__ permette di aggiugere un elemento alla lista. L'elemento viene inserito al termine della lista.<br>\n",
    "Il metodo __extend()__ permette di aggiungere più elementi al termine della lista. In pratica posso aggiungere gli elementi di una seconda lista alla prima lista.<br>\n",
    "Posso modificare un elemento in una data posizione della lista sfruttando il meccanismo di indicizzazione => __lista[indice] = elemento__.<br>\n",
    "Il metodo __remove()__ rimuove il primo elemento uguale all'argomento passato come parametro, tuttavia solleva un'eccezione se non trova l'elemento.<br>\n",
    "Il metodo __insert(index, elemento)__ permette di inserire l'elemento nella posizione specificata da index. Gli elementi successivi ad index verranno spostati di una posizione."
   ]
  },
  {
   "cell_type": "code",
   "execution_count": 23,
   "metadata": {},
   "outputs": [
    {
     "data": {
      "text/plain": [
       "['mela', 'fragola', 'pera', 'mango', 'banana', 'percocca', 'papaya', 'nespola']"
      ]
     },
     "execution_count": 23,
     "metadata": {},
     "output_type": "execute_result"
    }
   ],
   "source": [
    "fruit = ['mela','fragola','pera','mango']\n",
    "fruit.append('banana')\n",
    "fruit.extend(['percocca','papaya','nespola'])\n",
    "fruit"
   ]
  },
  {
   "cell_type": "code",
   "execution_count": 24,
   "metadata": {},
   "outputs": [
    {
     "data": {
      "text/plain": [
       "['mela', 'fragola', 'pera', 'mango', 'banana', 'percocca', 'nespola']"
      ]
     },
     "execution_count": 24,
     "metadata": {},
     "output_type": "execute_result"
    }
   ],
   "source": [
    "fruit.remove('papaya')\n",
    "fruit"
   ]
  },
  {
   "cell_type": "code",
   "execution_count": 25,
   "metadata": {
    "collapsed": true
   },
   "outputs": [],
   "source": [
    "fruit.insert(1,'melone')"
   ]
  },
  {
   "cell_type": "code",
   "execution_count": 26,
   "metadata": {},
   "outputs": [
    {
     "data": {
      "text/plain": [
       "['mela', 'melone', 'fragola', 'pera', 'mango', 'banana', 'percocca', 'nespola']"
      ]
     },
     "execution_count": 26,
     "metadata": {},
     "output_type": "execute_result"
    }
   ],
   "source": [
    "fruit"
   ]
  },
  {
   "cell_type": "markdown",
   "metadata": {},
   "source": [
    "### Using math in lists\n",
    "L'operatore + permette di concatenare due liste creando una nuova lista. Gli operandi non vengono modificati.<br>\n",
    "La moltiplicazione di una lista per un intero n replica la lista per n volta.<br>"
   ]
  },
  {
   "cell_type": "code",
   "execution_count": 27,
   "metadata": {},
   "outputs": [
    {
     "name": "stdout",
     "output_type": "stream",
     "text": [
      "None\n"
     ]
    },
    {
     "data": {
      "text/plain": [
       "['caffe', 'zucchero', 'muffin', 'tovagliolo', 'sigaretta']"
      ]
     },
     "execution_count": 27,
     "metadata": {},
     "output_type": "execute_result"
    }
   ],
   "source": [
    "break_caffe = ['caffe','zucchero'] + ['muffin','tovagliolo']\n",
    "a = break_caffe.append('sigaretta') # append non restituisce alcun valore\n",
    "print(a) # alla variabile 'a' viene assegnato il valore None\n",
    "break_caffe"
   ]
  },
  {
   "cell_type": "markdown",
   "metadata": {},
   "source": [
    "### Ordering lists\n",
    "Il metodo __reverse()__ permette di invertire l'ordine degli elementi in una lista. Il metodo modifica l'oggetto, non crea una copia.<br>\n",
    "Il metodo __sort()__ ordina una lista e ne modifica lo stato.<br>"
   ]
  },
  {
   "cell_type": "code",
   "execution_count": 34,
   "metadata": {},
   "outputs": [
    {
     "name": "stdout",
     "output_type": "stream",
     "text": [
      "Lista originale:  ['se', 'fuoco', 'fossi']\n",
      "Lista al contrario:  ['fossi', 'fuoco', 'se']\n",
      "Lista ordinata:  ['fossi', 'fuoco', 'se']\n",
      "Lista numeri:  [4.0, 3, 4, 20, 5, 4.2321232]\n",
      "Lista ordinata:  [3, 4.0, 4, 4.2321232, 5, 20]\n",
      "Lista con elementi misti:  ['un', 20, 4.5, 'pò', 'di']\n",
      "Lista ordinata:  ['un', 20, 4.5, 'pò', 'di']\n",
      "Ordinamento con creazione di una nuova lista\n",
      "Copia ordinata:  ['fossi', 'fuoco', 'se']\n"
     ]
    }
   ],
   "source": [
    "only_string = ['se','fuoco','fossi']\n",
    "print('Lista originale: ' , only_string)\n",
    "only_string.reverse()\n",
    "print('Lista al contrario: ', only_string)\n",
    "only_string.sort()\n",
    "print('Lista ordinata: ' , only_string)\n",
    "only_number = [4.0,3,4,20,5,4.2321232]\n",
    "print('Lista numeri: ' , only_number)\n",
    "only_number.sort()\n",
    "print('Lista ordinata: ' , only_number)\n",
    "mixed = ['un', 20,4.5,'pò','di']\n",
    "print('Lista con elementi misti: ',mixed)\n",
    "mixed.sort\n",
    "print('Lista ordinata: ', mixed)\n",
    "print('Ordinamento con creazione di una nuova lista')\n",
    "sorted_strings = sorted(only_string)\n",
    "print('Copia ordinata: ' , sorted_strings)"
   ]
  },
  {
   "cell_type": "markdown",
   "metadata": {},
   "source": [
    "### Comparing lists\n",
    "L'operatore == verifica l'uguaglianza elemento per elemento di due liste. Se due lista contengono gli stessi elementi ma in ordine diverso, le liste sono differenti."
   ]
  },
  {
   "cell_type": "code",
   "execution_count": 103,
   "metadata": {},
   "outputs": [
    {
     "data": {
      "text/plain": [
       "False"
      ]
     },
     "execution_count": 103,
     "metadata": {},
     "output_type": "execute_result"
    }
   ],
   "source": [
    "['mela','mela'] == ['mela','pera']"
   ]
  },
  {
   "cell_type": "markdown",
   "metadata": {},
   "source": [
    "## Hour 7: Using loops to repeat code\n",
    "Il ciclo for in Python ha il seguente formato:\n",
    "```python\n",
    "for {VAR} in {LIST/ITERATOR}:\n",
    "    blocco\n",
    "```\n",
    "Ad ogni iterazione alla variabile VAR viene assegnato l'elemento successivo della lista LIST.<br>\n",
    "Se necessito di un ciclo for che termini dopo un determinato numero di iterazioni posso utilizzare la funzione built-in range(start,end,incremento)."
   ]
  },
  {
   "cell_type": "code",
   "execution_count": 106,
   "metadata": {},
   "outputs": [
    {
     "name": "stdout",
     "output_type": "stream",
     "text": [
      "[2, 5, 8]\n",
      "2 4 8\n",
      "5 25 125\n",
      "8 64 512\n"
     ]
    }
   ],
   "source": [
    "indici = list(range(2,10,3))\n",
    "print(indici)\n",
    "for i in indici:\n",
    "    print(i,i**2,i**3) # quadrato e cubo di 'i'"
   ]
  },
  {
   "cell_type": "code",
   "execution_count": 109,
   "metadata": {},
   "outputs": [
    {
     "name": "stdout",
     "output_type": "stream",
     "text": [
      "Voglio questo frutto: mela !!! MELA\n",
      "Voglio questo frutto: melone !!! MELONE\n",
      "Voglio questo frutto: fragola !!! FRAGOLA\n",
      "Voglio questo frutto: pera !!! PERA\n",
      "Voglio questo frutto: mango !!! MANGO\n",
      "Voglio questo frutto: banana !!! BANANA\n",
      "Voglio questo frutto: doppio senso !!! DOPPIO SENSO\n",
      "Voglio questo frutto: papaya !!! PAPAYA\n",
      "Voglio questo frutto: minions !!! MINIONS\n",
      "Voglio questo frutto: melone !!! MELONE\n"
     ]
    }
   ],
   "source": [
    "for f in fruit:\n",
    "    print('Voglio questo frutto: {} !!! {}'.format(f,f.upper()))"
   ]
  },
  {
   "cell_type": "markdown",
   "metadata": {},
   "source": [
    "Sostanzialmente il for in Python è simile al for each in Java applicato ad oggetti che implementano l'interfaccia iterable\n",
    "```java\n",
    "List<String> lista\n",
    "for(String s: lista)\n",
    "    System.out.println(s);\n",
    "```\n",
    "#### Skipping to the next list item\n",
    "La parola chiave **continue** non permette l'esecuzione delle istruzioni successive contenute nel relativo blocco di codice e passa all'iterazione successiva"
   ]
  },
  {
   "cell_type": "code",
   "execution_count": 111,
   "metadata": {},
   "outputs": [
    {
     "name": "stdout",
     "output_type": "stream",
     "text": [
      "0\n",
      "1\n",
      "4\n",
      "5\n"
     ]
    }
   ],
   "source": [
    "numeri = [0,1,2,4,5]\n",
    "for n in numeri:\n",
    "    if n == 2:\n",
    "        continue\n",
    "        print('Niente')\n",
    "    print('{}'.format(n))"
   ]
  },
  {
   "cell_type": "markdown",
   "metadata": {},
   "source": [
    "#### Breaking out of a loop\n",
    "Mediante l'istruzione **break** termino il ciclo ed eseguo il codice che segue il ciclo for.<br>\n",
    "Posso aggiungere un'istruzione **else** al termine del ciclo. Il blocco viene eseguito se non viene mai invocato un break all'interno del ciclo for."
   ]
  },
  {
   "cell_type": "code",
   "execution_count": 115,
   "metadata": {},
   "outputs": [
    {
     "name": "stdout",
     "output_type": "stream",
     "text": [
      "0\n",
      "1\n",
      "2\n",
      "4\n",
      "5\n",
      "Mai break\n"
     ]
    }
   ],
   "source": [
    "for n in numeri:\n",
    "    if n == 10:\n",
    "        break\n",
    "    print(n)\n",
    "else:\n",
    "    print('Mai break')"
   ]
  },
  {
   "cell_type": "markdown",
   "metadata": {},
   "source": [
    "### Repeating only when true\n",
    "#### While loop\n",
    "La sintassi del ciclo **while** è la seguente:\n",
    "```python\n",
    "while {CONDIZIONE}:\n",
    "    blocco\n",
    "```\n",
    "Fintanto che la condizione è True il blocco viene eseguito"
   ]
  },
  {
   "cell_type": "code",
   "execution_count": 116,
   "metadata": {},
   "outputs": [
    {
     "name": "stdout",
     "output_type": "stream",
     "text": [
      "Inserici del testo (Premi q per terminare)Ciao\n",
      "Hai inserito: Ciao\n",
      "Inserici del testo (Premi q per terminare)voglio uscire dalla chat!\n",
      "Hai inserito: voglio uscire dalla chat!\n",
      "Inserici del testo (Premi q per terminare)q\n"
     ]
    }
   ],
   "source": [
    "while True:\n",
    "    inserito = input(\"Inserici del testo (Premi q per terminare)\")\n",
    "    if inserito == 'q':\n",
    "        break\n",
    "    print('Hai inserito: {}'.format(inserito))"
   ]
  },
  {
   "cell_type": "markdown",
   "metadata": {},
   "source": [
    "## Hour 8: Using functions to create reasuble code\n",
    "Per definire una funzione in Python servono:\n",
    "* un nome\n",
    "* un blocco di codice\n",
    "* parametri (opzionali)\n",
    "\n",
    "Il formato per la definizione di una funzione è il seguente:\n",
    "```python\n",
    "def nomeDellaFunzione(parametro1,parametro2):\n",
    "    blocco\n",
    "```"
   ]
  },
  {
   "cell_type": "code",
   "execution_count": 118,
   "metadata": {
    "collapsed": true
   },
   "outputs": [],
   "source": [
    "def funzione_saluto():\n",
    "    print('Ciao')\n",
    "    \n",
    "def funzione_saluto_persona(name):\n",
    "    print('Ciao {}'.format(name))"
   ]
  },
  {
   "cell_type": "code",
   "execution_count": 119,
   "metadata": {},
   "outputs": [
    {
     "name": "stdout",
     "output_type": "stream",
     "text": [
      "Ciao Alessandro\n"
     ]
    }
   ],
   "source": [
    "funzione_saluto_persona('Alessandro')"
   ]
  },
  {
   "cell_type": "markdown",
   "metadata": {},
   "source": [
    "Se vengono omesse le parentesi, il programma non restituisce un errore ma un messaggio che descrive l'oggetto 'funzione'.\n",
    "### Passing values to functions\n",
    "Supponiamo di avere una funzione che richiede due parametri\n",
    "```python\n",
    "def due_parametri(parametro1,parametro2):\n",
    "    print parametro1, parametro2\n",
    "```\n",
    "Il metodo più semplice per assegnare i valori ai parametri è quello **posizionale** => il primo valore al primo parametro, etc..<br>\n",
    "Non sempre ci si ricorda l'ordine => Python permette di specificare il nome del parametro e il valore da assegnare:\n",
    "```python\n",
    "due_parametri(parametro1=valore1,parametro2=valore2)\n",
    "```"
   ]
  },
  {
   "cell_type": "code",
   "execution_count": 121,
   "metadata": {
    "collapsed": true
   },
   "outputs": [],
   "source": [
    "def totale_utente(nome, lista_spesa):\n",
    "    tot = 0\n",
    "    for prezzo in lista_spesa:\n",
    "        tot += prezzo\n",
    "    print('{} deve pagare {} euro'.format(nome,tot))"
   ]
  },
  {
   "cell_type": "code",
   "execution_count": 122,
   "metadata": {},
   "outputs": [
    {
     "name": "stdout",
     "output_type": "stream",
     "text": [
      "Maria deve pagare 288 euro\n"
     ]
    }
   ],
   "source": [
    "totale_utente('Maria',range(2,50,4))"
   ]
  },
  {
   "cell_type": "code",
   "execution_count": 124,
   "metadata": {},
   "outputs": [
    {
     "name": "stdout",
     "output_type": "stream",
     "text": [
      "Maria deve pagare 288 euro\n",
      "Mario deve pagare 200 euro\n"
     ]
    }
   ],
   "source": [
    "totale_utente(lista_spesa=range(2,50,4),nome='Maria')\n",
    "totale_utente(nome='Mario',lista_spesa=[50,50,100])"
   ]
  },
  {
   "cell_type": "markdown",
   "metadata": {},
   "source": [
    "Al momento della definizione della funzione posso specificare un valore di default, nel caso il parametro non venga specificato. I parametri per cui definisco dei valori di default devono essere gli ultimi parametri."
   ]
  },
  {
   "cell_type": "code",
   "execution_count": 126,
   "metadata": {
    "collapsed": true
   },
   "outputs": [],
   "source": [
    "def totale_utente(nome='Jon Doe', lista_spesa=[]):\n",
    "    tot = 0\n",
    "    for prezzo in lista_spesa:\n",
    "        tot += prezzo\n",
    "    print('{} deve pagare {} euro'.format(nome,tot))"
   ]
  },
  {
   "cell_type": "code",
   "execution_count": 129,
   "metadata": {},
   "outputs": [
    {
     "name": "stdout",
     "output_type": "stream",
     "text": [
      "Maria deve pagare 0 euro\n"
     ]
    }
   ],
   "source": [
    "totale_utente(nome='Maria')"
   ]
  },
  {
   "cell_type": "markdown",
   "metadata": {},
   "source": [
    "### Returning values\n",
    "La parole chiave **return** restituisce il valore passato come 'argomento' al codice che ha invocato la funzione.\n",
    "**return** può restituire più di un valore, basta separare gli elementi con una virgola. In questo caso la funzione restituisce una tupla (lista immutabile).<br> \n",
    "Una funzione può non restituire nulla. In questo caso è sufficiente l'istruzione return senza argomenti"
   ]
  },
  {
   "cell_type": "code",
   "execution_count": 130,
   "metadata": {
    "collapsed": true
   },
   "outputs": [],
   "source": [
    "def benvenuto_return(nome, cognome, secondo_nome=''):\n",
    "    return 'Ciao {} {} {}'.format(nome,secondo_nome,cognome)\n",
    "\n",
    "def quadrato_cubo(num):\n",
    "    return num**2, num**3"
   ]
  },
  {
   "cell_type": "code",
   "execution_count": 132,
   "metadata": {},
   "outputs": [
    {
     "data": {
      "text/plain": [
       "'Ciao Mario  Rossi'"
      ]
     },
     "execution_count": 132,
     "metadata": {},
     "output_type": "execute_result"
    }
   ],
   "source": [
    "benvenuto_return('Mario','Rossi')"
   ]
  },
  {
   "cell_type": "code",
   "execution_count": 135,
   "metadata": {},
   "outputs": [
    {
     "name": "stdout",
     "output_type": "stream",
     "text": [
      "(4, 8)\n",
      "4 8\n",
      "125\n"
     ]
    }
   ],
   "source": [
    "print(quadrato_cubo(2))\n",
    "a,b = quadrato_cubo(2)\n",
    "_,c = quadrato_cubo(5)\n",
    "print(a,b)\n",
    "print(c)"
   ]
  },
  {
   "cell_type": "markdown",
   "metadata": {},
   "source": [
    "### Variables in functions: Scope\n",
    "Quando dichiaro una variabile in una funzione, essa esiste solo all'interno della funzione (scope). Una volta che la funzione termina la variabile cessa di esistere."
   ]
  },
  {
   "cell_type": "code",
   "execution_count": 35,
   "metadata": {
    "collapsed": true
   },
   "outputs": [],
   "source": [
    "def get_name():\n",
    "    name = raw_input('Scrivi nome')"
   ]
  },
  {
   "cell_type": "code",
   "execution_count": 36,
   "metadata": {},
   "outputs": [
    {
     "ename": "NameError",
     "evalue": "name 'name' is not defined",
     "output_type": "error",
     "traceback": [
      "\u001b[0;31m---------------------------------------------------------------------------\u001b[0m",
      "\u001b[0;31mNameError\u001b[0m                                 Traceback (most recent call last)",
      "\u001b[0;32m<ipython-input-36-434e254876f0>\u001b[0m in \u001b[0;36m<module>\u001b[0;34m()\u001b[0m\n\u001b[0;32m----> 1\u001b[0;31m \u001b[0;32mdel\u001b[0m \u001b[0mname\u001b[0m\u001b[0;34m\u001b[0m\u001b[0m\n\u001b[0m\u001b[1;32m      2\u001b[0m \u001b[0mget_name\u001b[0m\u001b[0;34m(\u001b[0m\u001b[0;34m)\u001b[0m\u001b[0;34m\u001b[0m\u001b[0m\n\u001b[1;32m      3\u001b[0m \u001b[0mname\u001b[0m\u001b[0;34m\u001b[0m\u001b[0m\n",
      "\u001b[0;31mNameError\u001b[0m: name 'name' is not defined"
     ]
    }
   ],
   "source": [
    "del name\n",
    "get_name()\n",
    "name"
   ]
  },
  {
   "cell_type": "markdown",
   "metadata": {},
   "source": [
    "#### Parameters and scope\n",
    "Quando si passano valore ad una funzione alcuni tipi di dato vengono copiati altri possono essere modificati dalle istruzioni eseguite nel corpo della funzione.<br>\n",
    "Una funzione può cambiare lo stato di un valore passato come parametro se il valore è **mutable**."
   ]
  },
  {
   "cell_type": "code",
   "execution_count": 37,
   "metadata": {
    "collapsed": true
   },
   "outputs": [],
   "source": [
    "def add_5(n):\n",
    "    n = n+5\n",
    "    return n\n",
    "\n",
    "def append_5(lista):\n",
    "    lista.append(5)\n",
    "    return"
   ]
  },
  {
   "cell_type": "code",
   "execution_count": 39,
   "metadata": {},
   "outputs": [
    {
     "name": "stdout",
     "output_type": "stream",
     "text": [
      "5\n",
      "[1, 2, 3, 'Stella', 5]\n"
     ]
    }
   ],
   "source": [
    "x = 5\n",
    "add_5(x)\n",
    "print(x)\n",
    "lx = [1,2,3,'Stella']\n",
    "append_5(lx)\n",
    "print(lx)"
   ]
  },
  {
   "cell_type": "markdown",
   "metadata": {},
   "source": [
    "### Sending a varying number of parameters\n",
    "Se non conosco a priori il numero di parametri posso utilizzare __**kwargs__ alla fine della lista dei parametri. Python inserisce i parametri in eccesso in un oggetto dizionario. I parametri in eccesso devono essere definiti con la sintassi chiave=valore.<br>\n",
    "Posso evitare di specificare la chiave se nella dichiarazione dei parametri è stata utilizata __*args__. *args deve essere definito prima di kwargs. Gli argomenti sono memorizzati in una tupla."
   ]
  },
  {
   "cell_type": "code",
   "execution_count": 41,
   "metadata": {
    "collapsed": true
   },
   "outputs": [],
   "source": [
    "def benvenuto_esteso(nome,cognome,**kwargs):\n",
    "    print(kwargs)\n",
    "    \n",
    "def benvenuto_esteso_2(nome,cognome,*args,**kwargs):\n",
    "    print(args)\n",
    "    print(kwargs)\n"
   ]
  },
  {
   "cell_type": "code",
   "execution_count": 42,
   "metadata": {},
   "outputs": [
    {
     "name": "stdout",
     "output_type": "stream",
     "text": [
      "{'terzo_nome': 'Paola', 'quarto_nome': 'Maddalena'}\n",
      "('Apollonia', 'Francesca')\n",
      "{'terzo_nome': 'Paola', 'quarto_nome': 'Maddalena'}\n"
     ]
    }
   ],
   "source": [
    "benvenuto_esteso('Maria','Pia',terzo_nome='Paola',quarto_nome='Maddalena')\n",
    "benvenuto_esteso_2('Maria','Pia','Apollonia','Francesca',terzo_nome='Paola',quarto_nome='Maddalena')"
   ]
  },
  {
   "cell_type": "markdown",
   "metadata": {},
   "source": [
    "## Hour 9: Using dictionaries to pair keys with values\n",
    "In Python il termine dictionary corrisponde ad una Map in Java. Un dictionary rappresenta un'associazione tra una chiave ed un valore associato alla chiave. La chiave può essere un qualsiasi **oggetto immutabile**.\n",
    "### Creating a dictionary\n",
    "Un dictionary è racchiuso dalle parentesi grafe {}. Come per la lista, {} indica un dictionary vuoto."
   ]
  },
  {
   "cell_type": "code",
   "execution_count": 43,
   "metadata": {},
   "outputs": [
    {
     "data": {
      "text/plain": [
       "dict"
      ]
     },
     "execution_count": 43,
     "metadata": {},
     "output_type": "execute_result"
    }
   ],
   "source": [
    "states = {}\n",
    "type(states)"
   ]
  },
  {
   "cell_type": "markdown",
   "metadata": {},
   "source": [
    "Al momento della creazione posso inserire le coppie chiave/valore. In ogni coppia prima definisco la chiave poi il valore, separato da :"
   ]
  },
  {
   "cell_type": "code",
   "execution_count": 44,
   "metadata": {},
   "outputs": [
    {
     "name": "stdout",
     "output_type": "stream",
     "text": [
      "{'Lombardia': 'Milano', 'Calabria': 'Reggio Calabria', 'Piemonte': 'Torino'}\n"
     ]
    }
   ],
   "source": [
    "regioni = {'Lombardia':'Milano','Calabria':'Reggio Calabria','Piemonte':'Torino'}\n",
    "print(regioni)"
   ]
  },
  {
   "cell_type": "markdown",
   "metadata": {},
   "source": [
    "Posso aggiungere coppie ad un dictionary tramite l'operatore []."
   ]
  },
  {
   "cell_type": "code",
   "execution_count": 45,
   "metadata": {},
   "outputs": [
    {
     "name": "stdout",
     "output_type": "stream",
     "text": [
      "{'Lombardia': 'Milano', 'Calabria': 'Reggio Calabria', 'Piemonte': 'Torino', 'Liguria': 'Genova'}\n"
     ]
    }
   ],
   "source": [
    "regioni['Liguria'] = 'Genova'\n",
    "print(regioni)"
   ]
  },
  {
   "cell_type": "markdown",
   "metadata": {},
   "source": [
    "Se la chiave esiste già il valore associato viene sovrascritto, dal momento che le __chiavi devono essere uniche__. Per rimuovere una chiave posso utilizzare il metodo __pop()__, il quale rimuove la chiave e restituisce il valore associato alla chiave rimossa."
   ]
  },
  {
   "cell_type": "code",
   "execution_count": 46,
   "metadata": {
    "collapsed": true
   },
   "outputs": [],
   "source": [
    "lig = regioni.pop('Liguria')"
   ]
  },
  {
   "cell_type": "code",
   "execution_count": 48,
   "metadata": {},
   "outputs": [
    {
     "name": "stdout",
     "output_type": "stream",
     "text": [
      "{'Lombardia': 'Milano', 'Calabria': 'Reggio Calabria', 'Piemonte': 'Torino'}\n"
     ]
    }
   ],
   "source": [
    "if 'Campania' in regioni:\n",
    "    lig = regioni.pop('Campania')\n",
    "print(regioni)"
   ]
  },
  {
   "cell_type": "markdown",
   "metadata": {},
   "source": [
    "Se la chiave non esiste Python solleva un'eccezione _KeyError_. Posso verificare la presenza di una chiave nel dictionary attraverso l'operatore __in__.\n",
    "### Getting information about a dictionary\n",
    "Per farsi restituire un valore associato ad una chiave utilizzo l'operatore **[]**. Se la chiave non è presente viene sollevata un'eccezione _KeyError_. Per evitare di gestire l'eccezione posso utilizzare il metodo **get()** che mi restituisce _None_ se la chiave e' assente"
   ]
  },
  {
   "cell_type": "code",
   "execution_count": 49,
   "metadata": {},
   "outputs": [
    {
     "name": "stdout",
     "output_type": "stream",
     "text": [
      "Milano\n",
      "None\n"
     ]
    },
    {
     "ename": "KeyError",
     "evalue": "'Veneto'",
     "output_type": "error",
     "traceback": [
      "\u001b[0;31m---------------------------------------------------------------------------\u001b[0m",
      "\u001b[0;31mKeyError\u001b[0m                                  Traceback (most recent call last)",
      "\u001b[0;32m<ipython-input-49-c9143870a3a2>\u001b[0m in \u001b[0;36m<module>\u001b[0;34m()\u001b[0m\n\u001b[1;32m      1\u001b[0m \u001b[0mprint\u001b[0m\u001b[0;34m(\u001b[0m\u001b[0mregioni\u001b[0m\u001b[0;34m[\u001b[0m\u001b[0;34m'Lombardia'\u001b[0m\u001b[0;34m]\u001b[0m\u001b[0;34m)\u001b[0m\u001b[0;34m\u001b[0m\u001b[0m\n\u001b[1;32m      2\u001b[0m \u001b[0mprint\u001b[0m\u001b[0;34m(\u001b[0m\u001b[0mregioni\u001b[0m\u001b[0;34m.\u001b[0m\u001b[0mget\u001b[0m\u001b[0;34m(\u001b[0m\u001b[0;34m'Veneto'\u001b[0m\u001b[0;34m)\u001b[0m\u001b[0;34m)\u001b[0m\u001b[0;34m\u001b[0m\u001b[0m\n\u001b[0;32m----> 3\u001b[0;31m \u001b[0mprint\u001b[0m\u001b[0;34m(\u001b[0m\u001b[0mregioni\u001b[0m\u001b[0;34m[\u001b[0m\u001b[0;34m'Veneto'\u001b[0m\u001b[0;34m]\u001b[0m\u001b[0;34m)\u001b[0m\u001b[0;34m\u001b[0m\u001b[0m\n\u001b[0m",
      "\u001b[0;31mKeyError\u001b[0m: 'Veneto'"
     ]
    }
   ],
   "source": [
    "print(regioni['Lombardia'])\n",
    "print(regioni.get('Veneto'))\n",
    "print(regioni['Veneto'])"
   ]
  },
  {
   "cell_type": "markdown",
   "metadata": {},
   "source": [
    "Il metodo __values()__ restituisce un iteratore di valori contenuti nel dictionary, mentre il metodo __keys()__ restituisce un iteratore delle chiavi. "
   ]
  },
  {
   "cell_type": "code",
   "execution_count": 50,
   "metadata": {},
   "outputs": [
    {
     "data": {
      "text/plain": [
       "(['Milano', 'Reggio Calabria', 'Torino'],\n",
       " ['Lombardia', 'Calabria', 'Piemonte'])"
      ]
     },
     "execution_count": 50,
     "metadata": {},
     "output_type": "execute_result"
    }
   ],
   "source": [
    "list(regioni.values()), list(regioni.keys())"
   ]
  },
  {
   "cell_type": "markdown",
   "metadata": {},
   "source": [
    "### Comparing dictionaries\n",
    "Python non impone un ordinamento alle coppie inserite, quindi due dictionary con le stesse coppie ma in ordine diverso sono considerati uguali."
   ]
  },
  {
   "cell_type": "code",
   "execution_count": null,
   "metadata": {
    "collapsed": true
   },
   "outputs": [],
   "source": [
    "d1 = {1:'uno',2:'due',3:'tre'}\n",
    "d2 = {1:'uno',2:'due',3:'tre'}\n"
   ]
  },
  {
   "cell_type": "markdown",
   "metadata": {},
   "source": [
    "## Hour 10: Making Object\n",
    "Un oggetto in Python è qualsiasi elemento a cui posso associare valori e funzioni. Ogni variabile è un oggetto, ogni tipo di dato è un oggetto, anche le funzioni.\n",
    "### Planning an object\n",
    "Quando ho almeno un attributo e alcune operazioni (metodi) da applicare all'attributo posso pensare di creare una nuova classe. Prima di implementare la classe mi devo chiedere:\n",
    "* Quali attributo ha il mio oggetto ?\n",
    "* Gli attributi possono cambiare il loro stato durante la vita dell'oggetto ?\n",
    "* Come posso formattare gli attributi del mio oggetto in modo che possano essere compresi da un umano ?\n",
    "Prendiamo come esempio un oggetto ricetta\n",
    "<img src='figures/ricetta.png'>\n",
    "\n",
    "Un ulteriore vantaggio delle programmazione OO è l'__ereditarietà__.<br>\n",
    "Se volessimo implementare una libreria (bookstore) dovremmo considerare che solitamente vengono venduti oggetti diversi dai libri, come riviste, CD, DVD, etc...<br>\n",
    "Tutti questi oggetti hanno in comune un prezzo, un titolo e una descrizione:\n",
    "<img src='figures/bookstore_item.png'>\n",
    "Come metodi posso definire delle funzioni che modificano lo stato dell'elemento:\n",
    "<img src='figures/bookstore_item_methods.png'>\n",
    "Libri, riviste e software rappresentano una specializzazione di un generico elemento della libreria:\n",
    "<img src='figures/bookstore_gerarchy.png'>"
   ]
  },
  {
   "cell_type": "markdown",
   "metadata": {},
   "source": [
    "## Hour 11: Making classes\n",
    "Per definire una classe devo utilizzare la parola riservata __class__ e la sintassi:\n",
    "```python\n",
    "class NomeClasse(object):\n",
    "    blocco\n",
    "```\n",
    "Per creare un'istanza di una classe  invoco il nome della classe seguita da () contenenti eventuali parametri."
   ]
  },
  {
   "cell_type": "code",
   "execution_count": null,
   "metadata": {
    "collapsed": true
   },
   "outputs": [],
   "source": [
    "class MyClass(object):\n",
    "    a = 5\n",
    "    b = 2\n",
    "    c = 'Hello'"
   ]
  },
  {
   "cell_type": "code",
   "execution_count": null,
   "metadata": {
    "collapsed": true
   },
   "outputs": [],
   "source": [
    "istanza1 = MyClass()"
   ]
  },
  {
   "cell_type": "markdown",
   "metadata": {},
   "source": [
    "Posso accedere agli attributi di una classe mediante la notazione puntata:"
   ]
  },
  {
   "cell_type": "code",
   "execution_count": null,
   "metadata": {
    "collapsed": true
   },
   "outputs": [],
   "source": [
    "istanza1.a"
   ]
  },
  {
   "cell_type": "markdown",
   "metadata": {},
   "source": [
    "Posso modificare lo stato di un attributo, nello stesso modo in cui modifico lo stato di una variabile"
   ]
  },
  {
   "cell_type": "code",
   "execution_count": null,
   "metadata": {
    "collapsed": true
   },
   "outputs": [],
   "source": [
    "istanza1.a = 10\n",
    "print(istanza1.a)"
   ]
  },
  {
   "cell_type": "markdown",
   "metadata": {},
   "source": [
    "### Adding methods to classes\n",
    "La definizione di un metodo è molto simile alla definizione di funzione, con 2 differenze:\n",
    "* è un blocco nella definizione della classe\n",
    "* deve avere almeno un parametro __self__, con alcune eccezioni\n",
    "__self__ indica l'oggetto stesso che invoca il metodo"
   ]
  },
  {
   "cell_type": "code",
   "execution_count": null,
   "metadata": {
    "collapsed": true
   },
   "outputs": [],
   "source": [
    "class MyClass(object):\n",
    "    a = 5\n",
    "    b = 10\n",
    "    def print_a(self):\n",
    "        print 'Il valore di a è {}'.format(self.a)\n",
    "        \n",
    "class Scuola(object):\n",
    "    nome = ''\n",
    "    indirizzo = ''\n",
    "    tipo = 'liceo'\n",
    "    def print_scuola(self):\n",
    "        print self.nome\n",
    "        print self.indirizzo\n",
    "        print 'Grado: {}'.format(self.tipo)"
   ]
  },
  {
   "cell_type": "code",
   "execution_count": null,
   "metadata": {
    "collapsed": true
   },
   "outputs": [],
   "source": [
    "istanza2 = MyClass()\n",
    "\n",
    "scuola1 = Scuola()\n",
    "scuola2 = Scuola()"
   ]
  },
  {
   "cell_type": "markdown",
   "metadata": {},
   "source": [
    "### Setting up class instances\n",
    "Come in Java posso definire il costruttore della classe implementando il metodo **__init__**"
   ]
  },
  {
   "cell_type": "code",
   "execution_count": null,
   "metadata": {
    "collapsed": true
   },
   "outputs": [],
   "source": [
    "class Studente(object):\n",
    "    \n",
    "    def __init__(self, matricola, voto, name='None'):\n",
    "        self.matricola = matricola\n",
    "        self.voto = voto\n",
    "        self.nome = name"
   ]
  },
  {
   "cell_type": "code",
   "execution_count": null,
   "metadata": {
    "collapsed": true
   },
   "outputs": [],
   "source": [
    "studente1 = Studente(23213,18,'Mummia')"
   ]
  },
  {
   "cell_type": "code",
   "execution_count": null,
   "metadata": {
    "collapsed": true
   },
   "outputs": [],
   "source": [
    "class Studente(object):\n",
    "    \n",
    "    def __init__(self, nome='', scuola='', voto=''):\n",
    "        if not nome:\n",
    "            self.name = raw_input('Inserisci il nome dello studente: ')\n",
    "        if not scuola:\n",
    "            self.scuola = raw_input('Quale scuola stai frequentando? ')\n",
    "        if not voto:\n",
    "            self.voto = self.get_voto()\n",
    "        self.print_studente()\n",
    "        \n",
    "    def get_voto(self):\n",
    "        while True:\n",
    "            voto = raw_input('Che voto hai preso? ')\n",
    "            if voto.lower().isdigit():\n",
    "                return float(voto)\n",
    "            \n",
    "    def print_studente(self):\n",
    "        print 'Nome dello studente: {}'.format(self.name)\n",
    "        print 'Scuola: {}'.format(self.scuola)\n",
    "        print 'Voto: {}'.format(self.voto)"
   ]
  },
  {
   "cell_type": "code",
   "execution_count": null,
   "metadata": {
    "collapsed": true
   },
   "outputs": [],
   "source": [
    "studente2 = Studente()"
   ]
  },
  {
   "cell_type": "markdown",
   "metadata": {},
   "source": [
    "<img src='menu_oggetto.png'>"
   ]
  },
  {
   "cell_type": "markdown",
   "metadata": {},
   "source": [
    "## Expanding classes to add functionality\n",
    "I tipi di dati Python supportano gli operatori che abbiamo visto in precedenza come == o print. E' possibile estendere questi operatori alla classe che stiamo creando"
   ]
  },
  {
   "cell_type": "code",
   "execution_count": null,
   "metadata": {
    "collapsed": true
   },
   "outputs": [],
   "source": [
    "print(studente1)"
   ]
  },
  {
   "cell_type": "code",
   "execution_count": null,
   "metadata": {
    "collapsed": true
   },
   "outputs": [],
   "source": [
    "scuola1 == scuola2"
   ]
  },
  {
   "cell_type": "markdown",
   "metadata": {},
   "source": [
    "### Equality and more\n",
    "Per supportare l'operatore __==__ si deve implementare il metodo **__eq__()** che necessita di due parametri: self e l'oggetto da confrontare"
   ]
  },
  {
   "cell_type": "code",
   "execution_count": null,
   "metadata": {
    "collapsed": true
   },
   "outputs": [],
   "source": [
    "class Test(object):\n",
    "    def __init__(self,num):\n",
    "        self.num = num\n",
    "    def __eq__(self,other):\n",
    "        if self.num == other.num:\n",
    "            return True\n",
    "        else:\n",
    "            return False"
   ]
  },
  {
   "cell_type": "code",
   "execution_count": null,
   "metadata": {
    "collapsed": true
   },
   "outputs": [],
   "source": [
    "t1 = Test(2)\n",
    "t2 = Test(2)\n",
    "t3 = Test(7)\n",
    "print t1 == t2\n",
    "print t1 == t3"
   ]
  },
  {
   "cell_type": "markdown",
   "metadata": {},
   "source": [
    "Il fatto che abbiamo definito quando due oggetti sono uguali non implica che Python sappia definire automaticamente la disuguaglianza: Per questo motivo si può implementare anche il metodo **__ne__()**.<br>\n",
    "Per supportare gli operatori di confronto devo implementare i seguenti metodi:\n",
    "<img src='compare.png'>"
   ]
  },
  {
   "cell_type": "markdown",
   "metadata": {},
   "source": [
    "### Print\n",
    "Come per i precedenti operatori, per avere una rappresentazione dell'oggetto come stringa devo implementare il metodo **__str__**"
   ]
  },
  {
   "cell_type": "markdown",
   "metadata": {},
   "source": [
    "## Hour 13: Using Python's modules to add functionality\n",
    "Python fornisce una ricca libreria di funzionalità => meno codice da scrivere. Gli elementi della libreria vengono chiamati _packages_ i quali contengono _moduli_.<br>\n",
    "Un modulo è un file che contiene funzioni e classi. Un package può avere più moduli.\n",
    "### Python packages\n",
    "Se voglio utilizzare un package, invoco il comando __import__. Ci sono due modi per utilizzare il comando import:\n",
    "* importo tutto il modulo\n",
    "* importo solo alcuni elementi del modulo\n",
    "\n",
    "```python\n",
    "import module\n",
    "from module import classe\n",
    "from module import funzione\n",
    "from module import *\n",
    "```\n",
    "\n",
    "### Using the _random_  module\n",
    "Il modulo __random__ viene utilizzato per generare numeri casuali.\n",
    "#### randint\n",
    "Per ora utilizziamo e importiano solo la funzione **randint**. La funzione restituisce un intero tra due numeri passati come argomento. La distribuzione utilizzata è uniforme tra i due estremi"
   ]
  },
  {
   "cell_type": "code",
   "execution_count": 149,
   "metadata": {
    "collapsed": true
   },
   "outputs": [],
   "source": [
    "from random import randint"
   ]
  },
  {
   "cell_type": "code",
   "execution_count": 151,
   "metadata": {},
   "outputs": [
    {
     "name": "stdout",
     "output_type": "stream",
     "text": [
      "3\n",
      "10\n",
      "1\n",
      "2\n",
      "8\n",
      "1\n",
      "6\n",
      "1\n",
      "5\n",
      "9\n"
     ]
    }
   ],
   "source": [
    "for i in range(10):\n",
    "    print(randint(1,10))"
   ]
  },
  {
   "cell_type": "markdown",
   "metadata": {},
   "source": [
    "Posso importare tutto il modulo random. In questo caso devo utilizzare la notazione puntata."
   ]
  },
  {
   "cell_type": "code",
   "execution_count": 152,
   "metadata": {
    "collapsed": true
   },
   "outputs": [],
   "source": [
    "import random"
   ]
  },
  {
   "cell_type": "code",
   "execution_count": 153,
   "metadata": {},
   "outputs": [
    {
     "data": {
      "text/plain": [
       "8"
      ]
     },
     "execution_count": 153,
     "metadata": {},
     "output_type": "execute_result"
    }
   ],
   "source": [
    "random.randint(1,10)"
   ]
  },
  {
   "cell_type": "markdown",
   "metadata": {},
   "source": [
    "La funzione __random__ del modulo random restituisce un reale tra 0 e 1, estremi esclusi"
   ]
  },
  {
   "cell_type": "code",
   "execution_count": 155,
   "metadata": {},
   "outputs": [
    {
     "name": "stdout",
     "output_type": "stream",
     "text": [
      "0.20481248582232514\n",
      "0.03783771485028653\n",
      "0.6975337094603486\n",
      "0.7990372116581638\n",
      "0.7686509769921249\n",
      "0.38668796907945\n",
      "0.1661651647527832\n",
      "0.35050401241757434\n",
      "0.62884610750336\n",
      "0.8006971771802541\n"
     ]
    }
   ],
   "source": [
    "for i in range(10):\n",
    "    print(random.random())"
   ]
  },
  {
   "cell_type": "markdown",
   "metadata": {},
   "source": [
    "La funzione __uniform__ restituisce un float estratto in un intervallo specificato"
   ]
  },
  {
   "cell_type": "code",
   "execution_count": 156,
   "metadata": {},
   "outputs": [
    {
     "data": {
      "text/plain": [
       "1.7672058974235334"
      ]
     },
     "execution_count": 156,
     "metadata": {},
     "output_type": "execute_result"
    }
   ],
   "source": [
    "random.uniform(1,6)"
   ]
  },
  {
   "cell_type": "markdown",
   "metadata": {},
   "source": [
    "Il metodo __choice__ permette di estrarre un elemento da una lista in modo casuale."
   ]
  },
  {
   "cell_type": "code",
   "execution_count": 160,
   "metadata": {},
   "outputs": [
    {
     "data": {
      "text/plain": [
       "'molare'"
      ]
     },
     "execution_count": 160,
     "metadata": {},
     "output_type": "execute_result"
    }
   ],
   "source": [
    "denti = ['canino','incisivo','premolare','molare']\n",
    "random.choice(denti)"
   ]
  },
  {
   "cell_type": "markdown",
   "metadata": {},
   "source": [
    "### Using the _datetime_ module\n",
    "Il modulo **datetime** modella l'orario e le date.<br>\n",
    "Il modulo include la classe __time__, con cui si modella l'orario"
   ]
  },
  {
   "cell_type": "code",
   "execution_count": 51,
   "metadata": {
    "collapsed": true
   },
   "outputs": [],
   "source": [
    "from datetime import time"
   ]
  },
  {
   "cell_type": "code",
   "execution_count": 163,
   "metadata": {},
   "outputs": [
    {
     "name": "stdout",
     "output_type": "stream",
     "text": [
      "750\n",
      "11\n"
     ]
    }
   ],
   "source": [
    "lunch = time(11,30,25,750)\n",
    "print(lunch.microsecond)\n",
    "print(lunch.hour)"
   ]
  },
  {
   "cell_type": "markdown",
   "metadata": {},
   "source": [
    "Gli oggetti time possono essere confrontati."
   ]
  },
  {
   "cell_type": "code",
   "execution_count": 52,
   "metadata": {},
   "outputs": [
    {
     "data": {
      "text/plain": [
       "True"
      ]
     },
     "execution_count": 52,
     "metadata": {},
     "output_type": "execute_result"
    }
   ],
   "source": [
    "time(11,30) > time(10,30)"
   ]
  },
  {
   "cell_type": "markdown",
   "metadata": {},
   "source": [
    "Il modulo include la classe __datetime__ che gestisce l'orario e la data"
   ]
  },
  {
   "cell_type": "code",
   "execution_count": 54,
   "metadata": {
    "collapsed": true
   },
   "outputs": [],
   "source": [
    "import datetime"
   ]
  },
  {
   "cell_type": "code",
   "execution_count": 55,
   "metadata": {},
   "outputs": [
    {
     "name": "stdout",
     "output_type": "stream",
     "text": [
      "2827 days, 0:00:00  è di tipo  <class 'datetime.timedelta'>\n"
     ]
    }
   ],
   "source": [
    "dt1 = datetime.datetime(year=2009,day=9,month=1)\n",
    "dt2 = datetime.datetime(year=2001,day=14,month=4)\n",
    "differenza = dt1-dt2\n",
    "print(differenza, ' è di tipo ', type(differenza))"
   ]
  },
  {
   "cell_type": "markdown",
   "metadata": {},
   "source": [
    "__timedelta__ è un oggetto che rappresenta una differenza temporale."
   ]
  },
  {
   "cell_type": "code",
   "execution_count": 56,
   "metadata": {},
   "outputs": [
    {
     "name": "stdout",
     "output_type": "stream",
     "text": [
      "2019-03-12 16:34:59.366246\n"
     ]
    }
   ],
   "source": [
    "settimana = datetime.timedelta(days=7)\n",
    "n = datetime.datetime.now()+settimana\n",
    "print(n)"
   ]
  },
  {
   "cell_type": "markdown",
   "metadata": {},
   "source": [
    "## Hour 16: Working with program files\n",
    "### Reading to and writing from files\n",
    "Quando si apre un file in Python si apre uno stream. Per aprire un file si utilizza il metodo __open()__. Una volta aperto posso leggere il file in diversi modi:\n",
    "* a blocchi\n",
    "* riga per riga\n",
    "* tutte le righe\n",
    "\n",
    "Per leggere tutte le righe di testo, utilizzo il metodo __readlines()__. Ogni riga viene appesa alla lista restituita.\n",
    "\n",
    "Una volta terminata la lettura il file deve essere chiuso mediante il metodo __close()__"
   ]
  },
  {
   "cell_type": "code",
   "execution_count": 2,
   "metadata": {},
   "outputs": [
    {
     "name": "stdout",
     "output_type": "stream",
     "text": [
      "<_io.TextIOWrapper name='data/users.txt' mode='r' encoding='UTF-8'>\n",
      "['matteo\\n', 'marco\\n', 'silvia\\n', 'ugo\\n', 'michela\\n']\n"
     ]
    }
   ],
   "source": [
    "f = open('data/users.txt')\n",
    "print(f) # visualizzo oggetto TextIOWrapper e alcune informazioni\n",
    "users = f.readlines()\n",
    "print(users)\n",
    "f.close()"
   ]
  },
  {
   "cell_type": "markdown",
   "metadata": {},
   "source": [
    "Per leggere una riga alla volta utilizzo il metodo __readline()__"
   ]
  },
  {
   "cell_type": "code",
   "execution_count": 5,
   "metadata": {},
   "outputs": [
    {
     "name": "stdout",
     "output_type": "stream",
     "text": [
      "matteo\n",
      "marco\n"
     ]
    }
   ],
   "source": [
    "f = open('data/users.txt')\n",
    "print(f.readline().strip()) # leggo e visualizzo la prima riga del file\n",
    "linea2 = f.readline().strip() # leggo la seconda linea del file\n",
    "print(linea2)\n",
    "f.readline() # leggo la terza linea\n",
    "f.close()"
   ]
  },
  {
   "cell_type": "markdown",
   "metadata": {},
   "source": [
    "Una sintassi più concisa che garantisce la chiusura del file è la seguente\n",
    "```python\n",
    "with open(<nome file>,<modalità di apertura>) as <VAR>:\n",
    "    blocco\n",
    "```"
   ]
  },
  {
   "cell_type": "code",
   "execution_count": 6,
   "metadata": {},
   "outputs": [
    {
     "name": "stdout",
     "output_type": "stream",
     "text": [
      "Nome: matteo\n",
      "Nome: marco\n",
      "Nome: silvia\n",
      "Nome: ugo\n",
      "Nome: michela\n",
      "['matteo', 'marco', 'silvia', 'ugo', 'michela']\n"
     ]
    }
   ],
   "source": [
    "app = []\n",
    "with open('data/users.txt','r') as f:\n",
    "    for line in f: # leggo una riga alla volta\n",
    "        app.append(line.strip())\n",
    "        print('Nome: ' + line.strip())\n",
    "print(app)"
   ]
  },
  {
   "cell_type": "markdown",
   "metadata": {},
   "source": [
    "Per aprire un file in modalità scrittura utilizzo il parametro __w__. I dati contenuti nel file vengono cancellati.\n",
    "\n",
    "Il metodo __write()__ scrive la stringa passata come argomento. N.B. Non viene inserito alcun carattere di _newline_."
   ]
  },
  {
   "cell_type": "code",
   "execution_count": 64,
   "metadata": {
    "collapsed": true
   },
   "outputs": [],
   "source": [
    "with open('copia.txt','w') as f:\n",
    "    for element in app:\n",
    "        f.write(element+'\\n')"
   ]
  },
  {
   "cell_type": "markdown",
   "metadata": {},
   "source": [
    "Per scrivere in append utilizzo l'opzione __a__"
   ]
  },
  {
   "cell_type": "code",
   "execution_count": 65,
   "metadata": {
    "collapsed": true
   },
   "outputs": [],
   "source": [
    "with open('copia.txt','a') as f:\n",
    "    f.write('giorgio')"
   ]
  },
  {
   "cell_type": "markdown",
   "metadata": {},
   "source": [
    "## Hour 17: Sharing information with JSON\n",
    "Il modulo __json__ è proposto alla gestione del formato JSON.\n",
    "\n",
    "Per leggere e caricare un file json in un dictionary utilizzo il metodo __load()__. Il metodo richiede come argomento un oggetto che supporta il metodo __read()__ (https://docs.python.org/3/library/json.html)."
   ]
  },
  {
   "cell_type": "code",
   "execution_count": 67,
   "metadata": {
    "collapsed": true
   },
   "outputs": [],
   "source": [
    "import json"
   ]
  },
  {
   "cell_type": "code",
   "execution_count": null,
   "metadata": {
    "collapsed": true
   },
   "outputs": [],
   "source": [
    "f = open('test.json')\n",
    "tjson = json.load(f)"
   ]
  },
  {
   "cell_type": "markdown",
   "metadata": {},
   "source": [
    "oppure con una singola istruzione..."
   ]
  },
  {
   "cell_type": "code",
   "execution_count": 70,
   "metadata": {},
   "outputs": [
    {
     "data": {
      "text/plain": [
       "{'734jhfds=': 'ale.mai@gmail.com', 'hdak7bnffGj=': 'chri.gue@gmail.com'}"
      ]
     },
     "execution_count": 70,
     "metadata": {},
     "output_type": "execute_result"
    }
   ],
   "source": [
    "tjson = json.load(open('test.json'))\n",
    "tjson"
   ]
  },
  {
   "cell_type": "markdown",
   "metadata": {},
   "source": [
    "Per salvare un dictionary in un file JSON utilizzo il metodo __dump()__ che richiede il dictionary da scrivere e l'oggetto file (implementa il metodo __write()__ - https://docs.python.org/3/library/json.html) in cui scrivere in formato JSON. Per meglio formattare l'oggetto si può utilizzare il parametro _indent_.\n",
    "\n",
    "Il metodo __dumps()__ restituisce una stringa in formato JSON basandosi sul dictionary passato come argomento."
   ]
  },
  {
   "cell_type": "code",
   "execution_count": 69,
   "metadata": {
    "collapsed": true
   },
   "outputs": [],
   "source": [
    "test = {'734jhfds=':'ale.mai@gmail.com', 'hdak7bnffGj=':'chri.gue@gmail.com'}\n",
    "json.dump(test,open('test.json','w'))"
   ]
  }
 ],
 "metadata": {
  "kernelspec": {
   "display_name": "Python 3",
   "language": "python",
   "name": "python3"
  },
  "language_info": {
   "codemirror_mode": {
    "name": "ipython",
    "version": 3
   },
   "file_extension": ".py",
   "mimetype": "text/x-python",
   "name": "python",
   "nbconvert_exporter": "python",
   "pygments_lexer": "ipython3",
   "version": "3.6.3"
  }
 },
 "nbformat": 4,
 "nbformat_minor": 2
}
