{
 "cells": [
  {
   "cell_type": "code",
   "execution_count": 19,
   "metadata": {
    "collapsed": true
   },
   "outputs": [],
   "source": [
    "import requests\n",
    "import json\n",
    "from bs4 import BeautifulSoup as bs "
   ]
  },
  {
   "cell_type": "markdown",
   "metadata": {},
   "source": [
    "# Warm-up: 10 Esercizi in 10 minuti\n",
    "\n",
    "#### Esercizio 1\n",
    "A partire dalla lista _inizio_ si crei una nuova lista i cui elementi corrispondono alle lunghezze di ogni singola stringa nella lista."
   ]
  },
  {
   "cell_type": "code",
   "execution_count": null,
   "metadata": {
    "collapsed": true
   },
   "outputs": [],
   "source": [
    "inizio = ['in','questo','esercizio','contiamo','i','caratteri','delle','parole','che','compongono','la','lista']"
   ]
  },
  {
   "cell_type": "markdown",
   "metadata": {},
   "source": [
    "#### Esercizio 2\n",
    "Si crei una stringa partendo dalla lista inizio composta dalla concatenazione delle parole contenute nella lista separate da uno spazio. Si utilizzi il metodo **join**"
   ]
  },
  {
   "cell_type": "code",
   "execution_count": null,
   "metadata": {
    "collapsed": true
   },
   "outputs": [],
   "source": []
  },
  {
   "cell_type": "markdown",
   "metadata": {},
   "source": [
    "#### Esercizio 3\n",
    "Si legga il file in formato JSON 'warmup.json' e si acceda al valore associato alla chiave _esercizio_ "
   ]
  },
  {
   "cell_type": "code",
   "execution_count": 23,
   "metadata": {},
   "outputs": [
    {
     "data": {
      "text/plain": [
       "'Esercizio 5'"
      ]
     },
     "execution_count": 23,
     "metadata": {},
     "output_type": "execute_result"
    }
   ],
   "source": []
  },
  {
   "cell_type": "markdown",
   "metadata": {},
   "source": [
    "#### Esercizio 4\n",
    "Si crei un dictionary composto dalle chiavi 'uno', 'due' e 'tre' inizializzati al valore 0. Si implementi, poi un ciclo for di 10 iterazioni che incrementi i valori associati alle tre chiavi"
   ]
  },
  {
   "cell_type": "code",
   "execution_count": null,
   "metadata": {
    "collapsed": true
   },
   "outputs": [],
   "source": []
  },
  {
   "cell_type": "markdown",
   "metadata": {},
   "source": [
    "#### Esercizio 5\n",
    "Si estragga il valore associato alla chiave _esecizio_ nel file 'warmup.json' utilizzando solo i metodi della classe _string_"
   ]
  },
  {
   "cell_type": "code",
   "execution_count": 29,
   "metadata": {},
   "outputs": [
    {
     "data": {
      "text/plain": [
       "'Esercizio 5'"
      ]
     },
     "execution_count": 29,
     "metadata": {},
     "output_type": "execute_result"
    }
   ],
   "source": []
  },
  {
   "cell_type": "markdown",
   "metadata": {},
   "source": [
    "#### Esercizio 6\n",
    "Il file 'test.js' contiene un breve script in Javascript. Si estragga la lista Javascript e la si trasformi in una lista Python utilizzando il modulo **json**"
   ]
  },
  {
   "cell_type": "code",
   "execution_count": null,
   "metadata": {
    "collapsed": true
   },
   "outputs": [],
   "source": []
  },
  {
   "cell_type": "markdown",
   "metadata": {},
   "source": [
    "#### Esercizio 7\n",
    "Si scarichi la pagina www.google.it e si conti quante volta la stringa 'Google' occorre nella pagina"
   ]
  },
  {
   "cell_type": "code",
   "execution_count": 11,
   "metadata": {},
   "outputs": [
    {
     "data": {
      "text/plain": [
       "7"
      ]
     },
     "execution_count": 11,
     "metadata": {},
     "output_type": "execute_result"
    }
   ],
   "source": []
  },
  {
   "cell_type": "markdown",
   "metadata": {},
   "source": [
    "#### Esercizio 8\n",
    "Si richieda la risorsa associata all'URL https://postman-echo.com/get?foo1=bar1&foo2=bar2 e si ottega la stringa associata alla chiave _cookies_"
   ]
  },
  {
   "cell_type": "code",
   "execution_count": null,
   "metadata": {
    "collapsed": true
   },
   "outputs": [],
   "source": []
  },
  {
   "cell_type": "markdown",
   "metadata": {},
   "source": [
    "#### Esercizio 9\n",
    "Si esegua una richiesta HTTP con il metodo POST alla risorsa https://postman-echo.com/post inviando le chiavi 'nome' e 'cognome', a cui corrispondono nome e cognome dello studente. Si acceda al campo 'form' della risposta"
   ]
  },
  {
   "cell_type": "code",
   "execution_count": null,
   "metadata": {
    "collapsed": true
   },
   "outputs": [],
   "source": []
  },
  {
   "cell_type": "markdown",
   "metadata": {},
   "source": [
    "#### Esercizio 10\n",
    "Si scarichino le slides della prima lezione disponibili qui - http://someni.di.unimi.it/slide/2018/Introduzione%20al%20corso.pdf - salvandole nel file 'primaLezione.pdf'"
   ]
  },
  {
   "cell_type": "code",
   "execution_count": 10,
   "metadata": {
    "collapsed": true
   },
   "outputs": [],
   "source": []
  },
  {
   "cell_type": "markdown",
   "metadata": {},
   "source": [
    "# Esercitazione\n",
    "In questa esercitazione utilizzeremo le nozioni presentate nella lezione di laboratorio \"Web Scraping\" applicandole al social media WANELO (https://wanelo.co/), un social media rivolto allo shopping e alla moda.\n",
    "<img src='figures/hello.png'>\n",
    "\n",
    "Gli obiettivi dell'esercitazione sono  i seguenti:\n",
    "- loggarsi nel sistema attraverso il modulo **requests**\n",
    "- estrarre gli oggetti per uomo messi in vendita nella sezione 'Trending'\n",
    "- estrarre i folllower/following di un utente\n",
    "\n",
    "## Passo 0\n",
    "Il primo passo è iscriversi al social media. E' possibile registrarsi a WANELO all'indirizzo https://wanelo.co/users/sign_in e cliccando sul link \"Not a member yet? Join us!\". Per registrarsi vi vengono richiesti un'indirizzo e-mail, uno username e una password (da non dimenticare).\n",
    "\n",
    "## Obiettivo 1: Effettuare il login nel sistem\n",
    "Il form di login è raggiungibile all'indirizzo https://wanelo.co/users/sign_in\n",
    "<img src='figures/login2.png'>\n",
    "\n",
    "### a) Ispezionare il codice del form\n",
    "Cliccare col tasto destro sul form di login e selezionare \"Ispeziona\". Si apre la console di Chrome. Selezionare il tab \"Elements\" se non è gia selezionato. \n",
    "\n",
    "Il file <a href='data/form_login.html' target='_blank'>*form_login.html*</a> contiene il codice del form.\n",
    "\n",
    "Analizzando il codice HTML si completino le seguenti celle di codice:\n",
    "- Qual è l'url a cui vengono inviati i dati del form?"
   ]
  },
  {
   "cell_type": "code",
   "execution_count": 2,
   "metadata": {
    "collapsed": true
   },
   "outputs": [],
   "source": [
    "url_action = #TODO"
   ]
  },
  {
   "cell_type": "markdown",
   "metadata": {},
   "source": [
    "- Quanti sono i campi input? Quanti sono hidden? Quali sono i loro nomi? Quali sono i valori associati?\n"
   ]
  },
  {
   "cell_type": "code",
   "execution_count": 1,
   "metadata": {
    "collapsed": true
   },
   "outputs": [],
   "source": [
    "input_data = {'utf8':'&#x2713;',\n",
    "             #TODO\n",
    "             }"
   ]
  },
  {
   "cell_type": "markdown",
   "metadata": {},
   "source": [
    "#### Imprevisto\n",
    "Rispetto al form visto a lezione, il campo authenticity_token ha un valore non definito ('XXXXXX'). \n",
    "\n",
    "Il valore associato all'attributo viene caricato dinamicamente.\n",
    "\n",
    "Utilizzando i DevTools di Chrome (tab 'Network') e il codice HTML della pagina https://wanelo.co/users/sign_in ( CTRL+U in Chrome per ottenere il codice sorgente della pagina) si puo' comprendere come ottenere il valore associato all'attributo *authenticity_token*. \n",
    "\n",
    "Una volta capito come ottenere il valore, si crei un oggetto Session:\n",
    "\n",
    "**N.B.** Tutte le richieste devono essere effettuate attraverso  l'oggetto Session creato"
   ]
  },
  {
   "cell_type": "code",
   "execution_count": 4,
   "metadata": {
    "collapsed": true
   },
   "outputs": [],
   "source": [
    "sessione_wanelo = #TODO"
   ]
  },
  {
   "cell_type": "markdown",
   "metadata": {},
   "source": [
    "Si richieda la pagina di login indicata nelle precedenti istruzioni. La variabile sign_in_page deve contenere il testo (non utilizzare l'attributo content ma **text**) della pagina di login:"
   ]
  },
  {
   "cell_type": "code",
   "execution_count": 5,
   "metadata": {
    "collapsed": true
   },
   "outputs": [],
   "source": [
    "#TODO"
   ]
  },
  {
   "cell_type": "markdown",
   "metadata": {},
   "source": [
    "Si trasformi il testo della pagina in un oggetto BeautifulSoup:"
   ]
  },
  {
   "cell_type": "code",
   "execution_count": 6,
   "metadata": {
    "collapsed": true
   },
   "outputs": [],
   "source": [
    "#TODO"
   ]
  },
  {
   "cell_type": "markdown",
   "metadata": {},
   "source": [
    "Si estragga il valore da assegnare al campo *authenticity_token*:"
   ]
  },
  {
   "cell_type": "code",
   "execution_count": 7,
   "metadata": {
    "collapsed": true
   },
   "outputs": [],
   "source": [
    "input_data['authenticity_token'] = #TODO"
   ]
  },
  {
   "cell_type": "markdown",
   "metadata": {},
   "source": [
    "### b) Loggarsi nel sistema\n",
    "\n",
    "Una volta individuato l'url e i parametri da inviare si deve inviare una richiesta HTTP di tipo POST all'url individuato"
   ]
  },
  {
   "cell_type": "markdown",
   "metadata": {},
   "source": [
    "Si esegua la richiesta HTTP. In caso di login corretto si deve ricevere una risposta con codice 200"
   ]
  },
  {
   "cell_type": "code",
   "execution_count": 8,
   "metadata": {},
   "outputs": [
    {
     "data": {
      "text/plain": [
       "<Response [200]>"
      ]
     },
     "execution_count": 8,
     "metadata": {},
     "output_type": "execute_result"
    }
   ],
   "source": [
    "sessione_wanelo. #TODO"
   ]
  },
  {
   "cell_type": "markdown",
   "metadata": {},
   "source": [
    "Per verificare se l'utente è effettivamente loggato, cerchiamo se la stringa corrispondente al nostro username è presente nella pagina https://wanelo.co/settings"
   ]
  },
  {
   "cell_type": "code",
   "execution_count": 3,
   "metadata": {
    "collapsed": true
   },
   "outputs": [],
   "source": [
    "#TODO"
   ]
  },
  {
   "cell_type": "markdown",
   "metadata": {},
   "source": [
    "## Obiettivo 2: Estrarre gli oggetti nella sezione 'Trending' per la categoria \"home\"\n",
    "\n",
    "Per raggiungere il secondo obiettivo si procede con l'estrazione degli oggetti messi in vendita nella sezione 'Trending' https://wanelo.co/trending?c=home. Attraverso il parametro 'c' si specifica che si vogliono gli oggetti della categoria \"home\".\n",
    "\n",
    "### a) individuare il valore dell'attributo class attraverso il quale posso identificare il tag div che contiene le informazioni dell'oggetto messo in vendita\n",
    "\n",
    "Si ispezioni il codice HTML della pagina https://wanelo.co/trending?c=home attraverso la funzione **Inspect** di Chrome.\n",
    "Una volta individuato il valore dell'attributo 'class', si estraggano le seguenti informazioni:\n",
    "<img src='figures/item.png'>\n",
    "- il nome dell'oggetto (evidenziato in rosso)\n",
    "- l'utente che ha postato l'oggetto (evidenziato in verde)\n",
    "- il negozio che mette in vendita l'oggetto (evidenziato in azzuro)\n",
    "- il prezzo dell'oggetto (evidenziato in giallo)\n",
    "- quante volte e' stato salvato l'oggetto (evidenziato in viola)\n",
    "\n",
    "### b) la funzione get_info\n",
    "Si implementi la funzione **get_info** che restituisce un dictionary costituito da cinque chiavi: \n",
    "- item \n",
    "- user\n",
    "- shop\n",
    "- price\n",
    "- saved \n",
    "\n",
    "La funzione riceve come unico argomento l'elemento div individuato al punto 2.a"
   ]
  },
  {
   "cell_type": "code",
   "execution_count": null,
   "metadata": {
    "collapsed": true
   },
   "outputs": [],
   "source": []
  },
  {
   "cell_type": "markdown",
   "metadata": {},
   "source": [
    "### c) Richiesta della pagina dei trending\n",
    "Si richieda la pagina degli oggetti per uomo nella sezione 'Trending'"
   ]
  },
  {
   "cell_type": "code",
   "execution_count": null,
   "metadata": {
    "collapsed": true
   },
   "outputs": [],
   "source": []
  },
  {
   "cell_type": "markdown",
   "metadata": {},
   "source": [
    "### d) il ciclo di estrazione\n",
    "Si iteri sui tag 'div' individuati al punto 2.a e si estraggano le informazioni utilizzando la funzione precedentemente definita. Ogni dictionary restituito deve essere inserito in una lista 'item_info'"
   ]
  },
  {
   "cell_type": "code",
   "execution_count": null,
   "metadata": {
    "collapsed": true
   },
   "outputs": [],
   "source": []
  },
  {
   "cell_type": "markdown",
   "metadata": {},
   "source": [
    "### e) Costruzione dell'insieme dei nodi (seed) da cui far partire la visita della rete sociale\n",
    "Si crei una lista di url di utenti partendo dalle informazioni contenute in 'item_info'. Per esempio, da una entry del tipo \n",
    "```python\n",
    "{\n",
    "    'user': 'pippo'\n",
    "    'item' : 'Lampada Ikea Akldskps'\n",
    "}\n",
    "```\n",
    "viene generato l'URL https://wanelo.co/pippo. Per eliminare eventuali ripetizioni si utilizzi il costruttore **set()** per costruire un insieme ricevendo come argomento una lista."
   ]
  },
  {
   "cell_type": "code",
   "execution_count": null,
   "metadata": {
    "collapsed": true
   },
   "outputs": [],
   "source": []
  },
  {
   "cell_type": "markdown",
   "metadata": {},
   "source": [
    "## Obiettivo 3: Estrarre i follower di un utente\n",
    "Per completare il terzo obiettivo dobbiamo estrarre i follower di un utente. In particolare, per ogni follower dobbiamo identificare il suo account name, ossia l'url del profilo dell'utente in Wanelo (es. https://wanelo.co/dg424).\n",
    "\n",
    "### a) Identificare il valore dell'attributo class del tag 'div' che include le informazioni di un singolo follower\n",
    "Aprire l'url che restituisce i follower di un utente, scelto in modo casuale; per esempio, https://wanelo.co/dg424/followers.<br>\n",
    "Ispezionare il codice della pagina per trovare il tag 'div' che contiene le informazioni di un singolo follower. Il codice HTML è riportato anche nel file 'follower-item.html'\n",
    "\n",
    "### b) Implementare la funzione get_followers()\n",
    "La funzione **get_followers** riceve come argomento l'account name e restituisce una lista deli followers (account name). Il numero massimo di followers ottenibili e' 60."
   ]
  },
  {
   "cell_type": "code",
   "execution_count": null,
   "metadata": {
    "collapsed": true
   },
   "outputs": [],
   "source": []
  },
  {
   "cell_type": "markdown",
   "metadata": {},
   "source": [
    "### c) Per ogni utente nel seed si ottengano i followers\n",
    "... utilizzando la funzione definita in precedenza"
   ]
  },
  {
   "cell_type": "code",
   "execution_count": null,
   "metadata": {
    "collapsed": true
   },
   "outputs": [],
   "source": []
  }
 ],
 "metadata": {
  "kernelspec": {
   "display_name": "Python 3",
   "language": "python",
   "name": "python3"
  },
  "language_info": {
   "codemirror_mode": {
    "name": "ipython",
    "version": 3
   },
   "file_extension": ".py",
   "mimetype": "text/x-python",
   "name": "python",
   "nbconvert_exporter": "python",
   "pygments_lexer": "ipython3",
   "version": "3.6.3"
  }
 },
 "nbformat": 4,
 "nbformat_minor": 2
}
